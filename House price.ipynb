{
 "cells": [
  {
   "cell_type": "code",
   "execution_count": 2,
   "id": "61d4c5a1",
   "metadata": {},
   "outputs": [],
   "source": [
    "import numpy as np\n",
    "import pandas as pd\n",
    "import matplotlib.pyplot as plt\n",
    "import seaborn as sns\n",
    "\n",
    "import warnings\n",
    "warnings.filterwarnings('ignore')"
   ]
  },
  {
   "cell_type": "code",
   "execution_count": 3,
   "id": "381e0dfd",
   "metadata": {},
   "outputs": [
    {
     "data": {
      "text/html": [
       "<div>\n",
       "<style scoped>\n",
       "    .dataframe tbody tr th:only-of-type {\n",
       "        vertical-align: middle;\n",
       "    }\n",
       "\n",
       "    .dataframe tbody tr th {\n",
       "        vertical-align: top;\n",
       "    }\n",
       "\n",
       "    .dataframe thead th {\n",
       "        text-align: right;\n",
       "    }\n",
       "</style>\n",
       "<table border=\"1\" class=\"dataframe\">\n",
       "  <thead>\n",
       "    <tr style=\"text-align: right;\">\n",
       "      <th></th>\n",
       "      <th>Id</th>\n",
       "      <th>MSSubClass</th>\n",
       "      <th>MSZoning</th>\n",
       "      <th>LotFrontage</th>\n",
       "      <th>LotArea</th>\n",
       "      <th>Street</th>\n",
       "      <th>Alley</th>\n",
       "      <th>LotShape</th>\n",
       "      <th>LandContour</th>\n",
       "      <th>Utilities</th>\n",
       "      <th>...</th>\n",
       "      <th>PoolArea</th>\n",
       "      <th>PoolQC</th>\n",
       "      <th>Fence</th>\n",
       "      <th>MiscFeature</th>\n",
       "      <th>MiscVal</th>\n",
       "      <th>MoSold</th>\n",
       "      <th>YrSold</th>\n",
       "      <th>SaleType</th>\n",
       "      <th>SaleCondition</th>\n",
       "      <th>SalePrice</th>\n",
       "    </tr>\n",
       "  </thead>\n",
       "  <tbody>\n",
       "    <tr>\n",
       "      <th>0</th>\n",
       "      <td>1</td>\n",
       "      <td>60</td>\n",
       "      <td>RL</td>\n",
       "      <td>65.0</td>\n",
       "      <td>8450</td>\n",
       "      <td>Pave</td>\n",
       "      <td>NaN</td>\n",
       "      <td>Reg</td>\n",
       "      <td>Lvl</td>\n",
       "      <td>AllPub</td>\n",
       "      <td>...</td>\n",
       "      <td>0</td>\n",
       "      <td>NaN</td>\n",
       "      <td>NaN</td>\n",
       "      <td>NaN</td>\n",
       "      <td>0</td>\n",
       "      <td>2</td>\n",
       "      <td>2008</td>\n",
       "      <td>WD</td>\n",
       "      <td>Normal</td>\n",
       "      <td>208500</td>\n",
       "    </tr>\n",
       "    <tr>\n",
       "      <th>1</th>\n",
       "      <td>2</td>\n",
       "      <td>20</td>\n",
       "      <td>RL</td>\n",
       "      <td>80.0</td>\n",
       "      <td>9600</td>\n",
       "      <td>Pave</td>\n",
       "      <td>NaN</td>\n",
       "      <td>Reg</td>\n",
       "      <td>Lvl</td>\n",
       "      <td>AllPub</td>\n",
       "      <td>...</td>\n",
       "      <td>0</td>\n",
       "      <td>NaN</td>\n",
       "      <td>NaN</td>\n",
       "      <td>NaN</td>\n",
       "      <td>0</td>\n",
       "      <td>5</td>\n",
       "      <td>2007</td>\n",
       "      <td>WD</td>\n",
       "      <td>Normal</td>\n",
       "      <td>181500</td>\n",
       "    </tr>\n",
       "    <tr>\n",
       "      <th>2</th>\n",
       "      <td>3</td>\n",
       "      <td>60</td>\n",
       "      <td>RL</td>\n",
       "      <td>68.0</td>\n",
       "      <td>11250</td>\n",
       "      <td>Pave</td>\n",
       "      <td>NaN</td>\n",
       "      <td>IR1</td>\n",
       "      <td>Lvl</td>\n",
       "      <td>AllPub</td>\n",
       "      <td>...</td>\n",
       "      <td>0</td>\n",
       "      <td>NaN</td>\n",
       "      <td>NaN</td>\n",
       "      <td>NaN</td>\n",
       "      <td>0</td>\n",
       "      <td>9</td>\n",
       "      <td>2008</td>\n",
       "      <td>WD</td>\n",
       "      <td>Normal</td>\n",
       "      <td>223500</td>\n",
       "    </tr>\n",
       "    <tr>\n",
       "      <th>3</th>\n",
       "      <td>4</td>\n",
       "      <td>70</td>\n",
       "      <td>RL</td>\n",
       "      <td>60.0</td>\n",
       "      <td>9550</td>\n",
       "      <td>Pave</td>\n",
       "      <td>NaN</td>\n",
       "      <td>IR1</td>\n",
       "      <td>Lvl</td>\n",
       "      <td>AllPub</td>\n",
       "      <td>...</td>\n",
       "      <td>0</td>\n",
       "      <td>NaN</td>\n",
       "      <td>NaN</td>\n",
       "      <td>NaN</td>\n",
       "      <td>0</td>\n",
       "      <td>2</td>\n",
       "      <td>2006</td>\n",
       "      <td>WD</td>\n",
       "      <td>Abnorml</td>\n",
       "      <td>140000</td>\n",
       "    </tr>\n",
       "    <tr>\n",
       "      <th>4</th>\n",
       "      <td>5</td>\n",
       "      <td>60</td>\n",
       "      <td>RL</td>\n",
       "      <td>84.0</td>\n",
       "      <td>14260</td>\n",
       "      <td>Pave</td>\n",
       "      <td>NaN</td>\n",
       "      <td>IR1</td>\n",
       "      <td>Lvl</td>\n",
       "      <td>AllPub</td>\n",
       "      <td>...</td>\n",
       "      <td>0</td>\n",
       "      <td>NaN</td>\n",
       "      <td>NaN</td>\n",
       "      <td>NaN</td>\n",
       "      <td>0</td>\n",
       "      <td>12</td>\n",
       "      <td>2008</td>\n",
       "      <td>WD</td>\n",
       "      <td>Normal</td>\n",
       "      <td>250000</td>\n",
       "    </tr>\n",
       "    <tr>\n",
       "      <th>...</th>\n",
       "      <td>...</td>\n",
       "      <td>...</td>\n",
       "      <td>...</td>\n",
       "      <td>...</td>\n",
       "      <td>...</td>\n",
       "      <td>...</td>\n",
       "      <td>...</td>\n",
       "      <td>...</td>\n",
       "      <td>...</td>\n",
       "      <td>...</td>\n",
       "      <td>...</td>\n",
       "      <td>...</td>\n",
       "      <td>...</td>\n",
       "      <td>...</td>\n",
       "      <td>...</td>\n",
       "      <td>...</td>\n",
       "      <td>...</td>\n",
       "      <td>...</td>\n",
       "      <td>...</td>\n",
       "      <td>...</td>\n",
       "      <td>...</td>\n",
       "    </tr>\n",
       "    <tr>\n",
       "      <th>1455</th>\n",
       "      <td>1456</td>\n",
       "      <td>60</td>\n",
       "      <td>RL</td>\n",
       "      <td>62.0</td>\n",
       "      <td>7917</td>\n",
       "      <td>Pave</td>\n",
       "      <td>NaN</td>\n",
       "      <td>Reg</td>\n",
       "      <td>Lvl</td>\n",
       "      <td>AllPub</td>\n",
       "      <td>...</td>\n",
       "      <td>0</td>\n",
       "      <td>NaN</td>\n",
       "      <td>NaN</td>\n",
       "      <td>NaN</td>\n",
       "      <td>0</td>\n",
       "      <td>8</td>\n",
       "      <td>2007</td>\n",
       "      <td>WD</td>\n",
       "      <td>Normal</td>\n",
       "      <td>175000</td>\n",
       "    </tr>\n",
       "    <tr>\n",
       "      <th>1456</th>\n",
       "      <td>1457</td>\n",
       "      <td>20</td>\n",
       "      <td>RL</td>\n",
       "      <td>85.0</td>\n",
       "      <td>13175</td>\n",
       "      <td>Pave</td>\n",
       "      <td>NaN</td>\n",
       "      <td>Reg</td>\n",
       "      <td>Lvl</td>\n",
       "      <td>AllPub</td>\n",
       "      <td>...</td>\n",
       "      <td>0</td>\n",
       "      <td>NaN</td>\n",
       "      <td>MnPrv</td>\n",
       "      <td>NaN</td>\n",
       "      <td>0</td>\n",
       "      <td>2</td>\n",
       "      <td>2010</td>\n",
       "      <td>WD</td>\n",
       "      <td>Normal</td>\n",
       "      <td>210000</td>\n",
       "    </tr>\n",
       "    <tr>\n",
       "      <th>1457</th>\n",
       "      <td>1458</td>\n",
       "      <td>70</td>\n",
       "      <td>RL</td>\n",
       "      <td>66.0</td>\n",
       "      <td>9042</td>\n",
       "      <td>Pave</td>\n",
       "      <td>NaN</td>\n",
       "      <td>Reg</td>\n",
       "      <td>Lvl</td>\n",
       "      <td>AllPub</td>\n",
       "      <td>...</td>\n",
       "      <td>0</td>\n",
       "      <td>NaN</td>\n",
       "      <td>GdPrv</td>\n",
       "      <td>Shed</td>\n",
       "      <td>2500</td>\n",
       "      <td>5</td>\n",
       "      <td>2010</td>\n",
       "      <td>WD</td>\n",
       "      <td>Normal</td>\n",
       "      <td>266500</td>\n",
       "    </tr>\n",
       "    <tr>\n",
       "      <th>1458</th>\n",
       "      <td>1459</td>\n",
       "      <td>20</td>\n",
       "      <td>RL</td>\n",
       "      <td>68.0</td>\n",
       "      <td>9717</td>\n",
       "      <td>Pave</td>\n",
       "      <td>NaN</td>\n",
       "      <td>Reg</td>\n",
       "      <td>Lvl</td>\n",
       "      <td>AllPub</td>\n",
       "      <td>...</td>\n",
       "      <td>0</td>\n",
       "      <td>NaN</td>\n",
       "      <td>NaN</td>\n",
       "      <td>NaN</td>\n",
       "      <td>0</td>\n",
       "      <td>4</td>\n",
       "      <td>2010</td>\n",
       "      <td>WD</td>\n",
       "      <td>Normal</td>\n",
       "      <td>142125</td>\n",
       "    </tr>\n",
       "    <tr>\n",
       "      <th>1459</th>\n",
       "      <td>1460</td>\n",
       "      <td>20</td>\n",
       "      <td>RL</td>\n",
       "      <td>75.0</td>\n",
       "      <td>9937</td>\n",
       "      <td>Pave</td>\n",
       "      <td>NaN</td>\n",
       "      <td>Reg</td>\n",
       "      <td>Lvl</td>\n",
       "      <td>AllPub</td>\n",
       "      <td>...</td>\n",
       "      <td>0</td>\n",
       "      <td>NaN</td>\n",
       "      <td>NaN</td>\n",
       "      <td>NaN</td>\n",
       "      <td>0</td>\n",
       "      <td>6</td>\n",
       "      <td>2008</td>\n",
       "      <td>WD</td>\n",
       "      <td>Normal</td>\n",
       "      <td>147500</td>\n",
       "    </tr>\n",
       "  </tbody>\n",
       "</table>\n",
       "<p>1460 rows × 81 columns</p>\n",
       "</div>"
      ],
      "text/plain": [
       "        Id  MSSubClass MSZoning  LotFrontage  LotArea Street Alley LotShape  \\\n",
       "0        1          60       RL         65.0     8450   Pave   NaN      Reg   \n",
       "1        2          20       RL         80.0     9600   Pave   NaN      Reg   \n",
       "2        3          60       RL         68.0    11250   Pave   NaN      IR1   \n",
       "3        4          70       RL         60.0     9550   Pave   NaN      IR1   \n",
       "4        5          60       RL         84.0    14260   Pave   NaN      IR1   \n",
       "...    ...         ...      ...          ...      ...    ...   ...      ...   \n",
       "1455  1456          60       RL         62.0     7917   Pave   NaN      Reg   \n",
       "1456  1457          20       RL         85.0    13175   Pave   NaN      Reg   \n",
       "1457  1458          70       RL         66.0     9042   Pave   NaN      Reg   \n",
       "1458  1459          20       RL         68.0     9717   Pave   NaN      Reg   \n",
       "1459  1460          20       RL         75.0     9937   Pave   NaN      Reg   \n",
       "\n",
       "     LandContour Utilities  ... PoolArea PoolQC  Fence MiscFeature MiscVal  \\\n",
       "0            Lvl    AllPub  ...        0    NaN    NaN         NaN       0   \n",
       "1            Lvl    AllPub  ...        0    NaN    NaN         NaN       0   \n",
       "2            Lvl    AllPub  ...        0    NaN    NaN         NaN       0   \n",
       "3            Lvl    AllPub  ...        0    NaN    NaN         NaN       0   \n",
       "4            Lvl    AllPub  ...        0    NaN    NaN         NaN       0   \n",
       "...          ...       ...  ...      ...    ...    ...         ...     ...   \n",
       "1455         Lvl    AllPub  ...        0    NaN    NaN         NaN       0   \n",
       "1456         Lvl    AllPub  ...        0    NaN  MnPrv         NaN       0   \n",
       "1457         Lvl    AllPub  ...        0    NaN  GdPrv        Shed    2500   \n",
       "1458         Lvl    AllPub  ...        0    NaN    NaN         NaN       0   \n",
       "1459         Lvl    AllPub  ...        0    NaN    NaN         NaN       0   \n",
       "\n",
       "     MoSold YrSold  SaleType  SaleCondition  SalePrice  \n",
       "0         2   2008        WD         Normal     208500  \n",
       "1         5   2007        WD         Normal     181500  \n",
       "2         9   2008        WD         Normal     223500  \n",
       "3         2   2006        WD        Abnorml     140000  \n",
       "4        12   2008        WD         Normal     250000  \n",
       "...     ...    ...       ...            ...        ...  \n",
       "1455      8   2007        WD         Normal     175000  \n",
       "1456      2   2010        WD         Normal     210000  \n",
       "1457      5   2010        WD         Normal     266500  \n",
       "1458      4   2010        WD         Normal     142125  \n",
       "1459      6   2008        WD         Normal     147500  \n",
       "\n",
       "[1460 rows x 81 columns]"
      ]
     },
     "execution_count": 3,
     "metadata": {},
     "output_type": "execute_result"
    }
   ],
   "source": [
    "df_train = pd.read_csv('train.csv')\n",
    "df_train"
   ]
  },
  {
   "cell_type": "code",
   "execution_count": 3,
   "id": "e399fa9c",
   "metadata": {},
   "outputs": [
    {
     "data": {
      "text/html": [
       "<div>\n",
       "<style scoped>\n",
       "    .dataframe tbody tr th:only-of-type {\n",
       "        vertical-align: middle;\n",
       "    }\n",
       "\n",
       "    .dataframe tbody tr th {\n",
       "        vertical-align: top;\n",
       "    }\n",
       "\n",
       "    .dataframe thead th {\n",
       "        text-align: right;\n",
       "    }\n",
       "</style>\n",
       "<table border=\"1\" class=\"dataframe\">\n",
       "  <thead>\n",
       "    <tr style=\"text-align: right;\">\n",
       "      <th></th>\n",
       "      <th>Id</th>\n",
       "      <th>MSSubClass</th>\n",
       "      <th>MSZoning</th>\n",
       "      <th>LotFrontage</th>\n",
       "      <th>LotArea</th>\n",
       "      <th>Street</th>\n",
       "      <th>Alley</th>\n",
       "      <th>LotShape</th>\n",
       "      <th>LandContour</th>\n",
       "      <th>Utilities</th>\n",
       "      <th>...</th>\n",
       "      <th>ScreenPorch</th>\n",
       "      <th>PoolArea</th>\n",
       "      <th>PoolQC</th>\n",
       "      <th>Fence</th>\n",
       "      <th>MiscFeature</th>\n",
       "      <th>MiscVal</th>\n",
       "      <th>MoSold</th>\n",
       "      <th>YrSold</th>\n",
       "      <th>SaleType</th>\n",
       "      <th>SaleCondition</th>\n",
       "    </tr>\n",
       "  </thead>\n",
       "  <tbody>\n",
       "    <tr>\n",
       "      <th>0</th>\n",
       "      <td>1461</td>\n",
       "      <td>20</td>\n",
       "      <td>RH</td>\n",
       "      <td>80.0</td>\n",
       "      <td>11622</td>\n",
       "      <td>Pave</td>\n",
       "      <td>NaN</td>\n",
       "      <td>Reg</td>\n",
       "      <td>Lvl</td>\n",
       "      <td>AllPub</td>\n",
       "      <td>...</td>\n",
       "      <td>120</td>\n",
       "      <td>0</td>\n",
       "      <td>NaN</td>\n",
       "      <td>MnPrv</td>\n",
       "      <td>NaN</td>\n",
       "      <td>0</td>\n",
       "      <td>6</td>\n",
       "      <td>2010</td>\n",
       "      <td>WD</td>\n",
       "      <td>Normal</td>\n",
       "    </tr>\n",
       "    <tr>\n",
       "      <th>1</th>\n",
       "      <td>1462</td>\n",
       "      <td>20</td>\n",
       "      <td>RL</td>\n",
       "      <td>81.0</td>\n",
       "      <td>14267</td>\n",
       "      <td>Pave</td>\n",
       "      <td>NaN</td>\n",
       "      <td>IR1</td>\n",
       "      <td>Lvl</td>\n",
       "      <td>AllPub</td>\n",
       "      <td>...</td>\n",
       "      <td>0</td>\n",
       "      <td>0</td>\n",
       "      <td>NaN</td>\n",
       "      <td>NaN</td>\n",
       "      <td>Gar2</td>\n",
       "      <td>12500</td>\n",
       "      <td>6</td>\n",
       "      <td>2010</td>\n",
       "      <td>WD</td>\n",
       "      <td>Normal</td>\n",
       "    </tr>\n",
       "    <tr>\n",
       "      <th>2</th>\n",
       "      <td>1463</td>\n",
       "      <td>60</td>\n",
       "      <td>RL</td>\n",
       "      <td>74.0</td>\n",
       "      <td>13830</td>\n",
       "      <td>Pave</td>\n",
       "      <td>NaN</td>\n",
       "      <td>IR1</td>\n",
       "      <td>Lvl</td>\n",
       "      <td>AllPub</td>\n",
       "      <td>...</td>\n",
       "      <td>0</td>\n",
       "      <td>0</td>\n",
       "      <td>NaN</td>\n",
       "      <td>MnPrv</td>\n",
       "      <td>NaN</td>\n",
       "      <td>0</td>\n",
       "      <td>3</td>\n",
       "      <td>2010</td>\n",
       "      <td>WD</td>\n",
       "      <td>Normal</td>\n",
       "    </tr>\n",
       "    <tr>\n",
       "      <th>3</th>\n",
       "      <td>1464</td>\n",
       "      <td>60</td>\n",
       "      <td>RL</td>\n",
       "      <td>78.0</td>\n",
       "      <td>9978</td>\n",
       "      <td>Pave</td>\n",
       "      <td>NaN</td>\n",
       "      <td>IR1</td>\n",
       "      <td>Lvl</td>\n",
       "      <td>AllPub</td>\n",
       "      <td>...</td>\n",
       "      <td>0</td>\n",
       "      <td>0</td>\n",
       "      <td>NaN</td>\n",
       "      <td>NaN</td>\n",
       "      <td>NaN</td>\n",
       "      <td>0</td>\n",
       "      <td>6</td>\n",
       "      <td>2010</td>\n",
       "      <td>WD</td>\n",
       "      <td>Normal</td>\n",
       "    </tr>\n",
       "    <tr>\n",
       "      <th>4</th>\n",
       "      <td>1465</td>\n",
       "      <td>120</td>\n",
       "      <td>RL</td>\n",
       "      <td>43.0</td>\n",
       "      <td>5005</td>\n",
       "      <td>Pave</td>\n",
       "      <td>NaN</td>\n",
       "      <td>IR1</td>\n",
       "      <td>HLS</td>\n",
       "      <td>AllPub</td>\n",
       "      <td>...</td>\n",
       "      <td>144</td>\n",
       "      <td>0</td>\n",
       "      <td>NaN</td>\n",
       "      <td>NaN</td>\n",
       "      <td>NaN</td>\n",
       "      <td>0</td>\n",
       "      <td>1</td>\n",
       "      <td>2010</td>\n",
       "      <td>WD</td>\n",
       "      <td>Normal</td>\n",
       "    </tr>\n",
       "    <tr>\n",
       "      <th>...</th>\n",
       "      <td>...</td>\n",
       "      <td>...</td>\n",
       "      <td>...</td>\n",
       "      <td>...</td>\n",
       "      <td>...</td>\n",
       "      <td>...</td>\n",
       "      <td>...</td>\n",
       "      <td>...</td>\n",
       "      <td>...</td>\n",
       "      <td>...</td>\n",
       "      <td>...</td>\n",
       "      <td>...</td>\n",
       "      <td>...</td>\n",
       "      <td>...</td>\n",
       "      <td>...</td>\n",
       "      <td>...</td>\n",
       "      <td>...</td>\n",
       "      <td>...</td>\n",
       "      <td>...</td>\n",
       "      <td>...</td>\n",
       "      <td>...</td>\n",
       "    </tr>\n",
       "    <tr>\n",
       "      <th>1454</th>\n",
       "      <td>2915</td>\n",
       "      <td>160</td>\n",
       "      <td>RM</td>\n",
       "      <td>21.0</td>\n",
       "      <td>1936</td>\n",
       "      <td>Pave</td>\n",
       "      <td>NaN</td>\n",
       "      <td>Reg</td>\n",
       "      <td>Lvl</td>\n",
       "      <td>AllPub</td>\n",
       "      <td>...</td>\n",
       "      <td>0</td>\n",
       "      <td>0</td>\n",
       "      <td>NaN</td>\n",
       "      <td>NaN</td>\n",
       "      <td>NaN</td>\n",
       "      <td>0</td>\n",
       "      <td>6</td>\n",
       "      <td>2006</td>\n",
       "      <td>WD</td>\n",
       "      <td>Normal</td>\n",
       "    </tr>\n",
       "    <tr>\n",
       "      <th>1455</th>\n",
       "      <td>2916</td>\n",
       "      <td>160</td>\n",
       "      <td>RM</td>\n",
       "      <td>21.0</td>\n",
       "      <td>1894</td>\n",
       "      <td>Pave</td>\n",
       "      <td>NaN</td>\n",
       "      <td>Reg</td>\n",
       "      <td>Lvl</td>\n",
       "      <td>AllPub</td>\n",
       "      <td>...</td>\n",
       "      <td>0</td>\n",
       "      <td>0</td>\n",
       "      <td>NaN</td>\n",
       "      <td>NaN</td>\n",
       "      <td>NaN</td>\n",
       "      <td>0</td>\n",
       "      <td>4</td>\n",
       "      <td>2006</td>\n",
       "      <td>WD</td>\n",
       "      <td>Abnorml</td>\n",
       "    </tr>\n",
       "    <tr>\n",
       "      <th>1456</th>\n",
       "      <td>2917</td>\n",
       "      <td>20</td>\n",
       "      <td>RL</td>\n",
       "      <td>160.0</td>\n",
       "      <td>20000</td>\n",
       "      <td>Pave</td>\n",
       "      <td>NaN</td>\n",
       "      <td>Reg</td>\n",
       "      <td>Lvl</td>\n",
       "      <td>AllPub</td>\n",
       "      <td>...</td>\n",
       "      <td>0</td>\n",
       "      <td>0</td>\n",
       "      <td>NaN</td>\n",
       "      <td>NaN</td>\n",
       "      <td>NaN</td>\n",
       "      <td>0</td>\n",
       "      <td>9</td>\n",
       "      <td>2006</td>\n",
       "      <td>WD</td>\n",
       "      <td>Abnorml</td>\n",
       "    </tr>\n",
       "    <tr>\n",
       "      <th>1457</th>\n",
       "      <td>2918</td>\n",
       "      <td>85</td>\n",
       "      <td>RL</td>\n",
       "      <td>62.0</td>\n",
       "      <td>10441</td>\n",
       "      <td>Pave</td>\n",
       "      <td>NaN</td>\n",
       "      <td>Reg</td>\n",
       "      <td>Lvl</td>\n",
       "      <td>AllPub</td>\n",
       "      <td>...</td>\n",
       "      <td>0</td>\n",
       "      <td>0</td>\n",
       "      <td>NaN</td>\n",
       "      <td>MnPrv</td>\n",
       "      <td>Shed</td>\n",
       "      <td>700</td>\n",
       "      <td>7</td>\n",
       "      <td>2006</td>\n",
       "      <td>WD</td>\n",
       "      <td>Normal</td>\n",
       "    </tr>\n",
       "    <tr>\n",
       "      <th>1458</th>\n",
       "      <td>2919</td>\n",
       "      <td>60</td>\n",
       "      <td>RL</td>\n",
       "      <td>74.0</td>\n",
       "      <td>9627</td>\n",
       "      <td>Pave</td>\n",
       "      <td>NaN</td>\n",
       "      <td>Reg</td>\n",
       "      <td>Lvl</td>\n",
       "      <td>AllPub</td>\n",
       "      <td>...</td>\n",
       "      <td>0</td>\n",
       "      <td>0</td>\n",
       "      <td>NaN</td>\n",
       "      <td>NaN</td>\n",
       "      <td>NaN</td>\n",
       "      <td>0</td>\n",
       "      <td>11</td>\n",
       "      <td>2006</td>\n",
       "      <td>WD</td>\n",
       "      <td>Normal</td>\n",
       "    </tr>\n",
       "  </tbody>\n",
       "</table>\n",
       "<p>1459 rows × 80 columns</p>\n",
       "</div>"
      ],
      "text/plain": [
       "        Id  MSSubClass MSZoning  LotFrontage  LotArea Street Alley LotShape  \\\n",
       "0     1461          20       RH         80.0    11622   Pave   NaN      Reg   \n",
       "1     1462          20       RL         81.0    14267   Pave   NaN      IR1   \n",
       "2     1463          60       RL         74.0    13830   Pave   NaN      IR1   \n",
       "3     1464          60       RL         78.0     9978   Pave   NaN      IR1   \n",
       "4     1465         120       RL         43.0     5005   Pave   NaN      IR1   \n",
       "...    ...         ...      ...          ...      ...    ...   ...      ...   \n",
       "1454  2915         160       RM         21.0     1936   Pave   NaN      Reg   \n",
       "1455  2916         160       RM         21.0     1894   Pave   NaN      Reg   \n",
       "1456  2917          20       RL        160.0    20000   Pave   NaN      Reg   \n",
       "1457  2918          85       RL         62.0    10441   Pave   NaN      Reg   \n",
       "1458  2919          60       RL         74.0     9627   Pave   NaN      Reg   \n",
       "\n",
       "     LandContour Utilities  ... ScreenPorch PoolArea PoolQC  Fence  \\\n",
       "0            Lvl    AllPub  ...         120        0    NaN  MnPrv   \n",
       "1            Lvl    AllPub  ...           0        0    NaN    NaN   \n",
       "2            Lvl    AllPub  ...           0        0    NaN  MnPrv   \n",
       "3            Lvl    AllPub  ...           0        0    NaN    NaN   \n",
       "4            HLS    AllPub  ...         144        0    NaN    NaN   \n",
       "...          ...       ...  ...         ...      ...    ...    ...   \n",
       "1454         Lvl    AllPub  ...           0        0    NaN    NaN   \n",
       "1455         Lvl    AllPub  ...           0        0    NaN    NaN   \n",
       "1456         Lvl    AllPub  ...           0        0    NaN    NaN   \n",
       "1457         Lvl    AllPub  ...           0        0    NaN  MnPrv   \n",
       "1458         Lvl    AllPub  ...           0        0    NaN    NaN   \n",
       "\n",
       "     MiscFeature MiscVal MoSold  YrSold  SaleType  SaleCondition  \n",
       "0            NaN       0      6    2010        WD         Normal  \n",
       "1           Gar2   12500      6    2010        WD         Normal  \n",
       "2            NaN       0      3    2010        WD         Normal  \n",
       "3            NaN       0      6    2010        WD         Normal  \n",
       "4            NaN       0      1    2010        WD         Normal  \n",
       "...          ...     ...    ...     ...       ...            ...  \n",
       "1454         NaN       0      6    2006        WD         Normal  \n",
       "1455         NaN       0      4    2006        WD        Abnorml  \n",
       "1456         NaN       0      9    2006        WD        Abnorml  \n",
       "1457        Shed     700      7    2006        WD         Normal  \n",
       "1458         NaN       0     11    2006        WD         Normal  \n",
       "\n",
       "[1459 rows x 80 columns]"
      ]
     },
     "execution_count": 3,
     "metadata": {},
     "output_type": "execute_result"
    }
   ],
   "source": [
    "df_test = pd.read_csv('test.csv')\n",
    "df_test"
   ]
  },
  {
   "cell_type": "code",
   "execution_count": 4,
   "id": "a6a5b447",
   "metadata": {},
   "outputs": [
    {
     "data": {
      "text/plain": [
       "(1460, 81)"
      ]
     },
     "execution_count": 4,
     "metadata": {},
     "output_type": "execute_result"
    }
   ],
   "source": [
    "df_train.shape"
   ]
  },
  {
   "cell_type": "raw",
   "id": "9deb0cf5",
   "metadata": {},
   "source": []
  },
  {
   "cell_type": "code",
   "execution_count": 4,
   "id": "404a2993",
   "metadata": {},
   "outputs": [
    {
     "name": "stdout",
     "output_type": "stream",
     "text": [
      "<class 'pandas.core.frame.DataFrame'>\n",
      "RangeIndex: 1460 entries, 0 to 1459\n",
      "Data columns (total 81 columns):\n",
      " #   Column         Non-Null Count  Dtype  \n",
      "---  ------         --------------  -----  \n",
      " 0   Id             1460 non-null   int64  \n",
      " 1   MSSubClass     1460 non-null   int64  \n",
      " 2   MSZoning       1460 non-null   object \n",
      " 3   LotFrontage    1201 non-null   float64\n",
      " 4   LotArea        1460 non-null   int64  \n",
      " 5   Street         1460 non-null   object \n",
      " 6   Alley          91 non-null     object \n",
      " 7   LotShape       1460 non-null   object \n",
      " 8   LandContour    1460 non-null   object \n",
      " 9   Utilities      1460 non-null   object \n",
      " 10  LotConfig      1460 non-null   object \n",
      " 11  LandSlope      1460 non-null   object \n",
      " 12  Neighborhood   1460 non-null   object \n",
      " 13  Condition1     1460 non-null   object \n",
      " 14  Condition2     1460 non-null   object \n",
      " 15  BldgType       1460 non-null   object \n",
      " 16  HouseStyle     1460 non-null   object \n",
      " 17  OverallQual    1460 non-null   int64  \n",
      " 18  OverallCond    1460 non-null   int64  \n",
      " 19  YearBuilt      1460 non-null   int64  \n",
      " 20  YearRemodAdd   1460 non-null   int64  \n",
      " 21  RoofStyle      1460 non-null   object \n",
      " 22  RoofMatl       1460 non-null   object \n",
      " 23  Exterior1st    1460 non-null   object \n",
      " 24  Exterior2nd    1460 non-null   object \n",
      " 25  MasVnrType     1452 non-null   object \n",
      " 26  MasVnrArea     1452 non-null   float64\n",
      " 27  ExterQual      1460 non-null   object \n",
      " 28  ExterCond      1460 non-null   object \n",
      " 29  Foundation     1460 non-null   object \n",
      " 30  BsmtQual       1423 non-null   object \n",
      " 31  BsmtCond       1423 non-null   object \n",
      " 32  BsmtExposure   1422 non-null   object \n",
      " 33  BsmtFinType1   1423 non-null   object \n",
      " 34  BsmtFinSF1     1460 non-null   int64  \n",
      " 35  BsmtFinType2   1422 non-null   object \n",
      " 36  BsmtFinSF2     1460 non-null   int64  \n",
      " 37  BsmtUnfSF      1460 non-null   int64  \n",
      " 38  TotalBsmtSF    1460 non-null   int64  \n",
      " 39  Heating        1460 non-null   object \n",
      " 40  HeatingQC      1460 non-null   object \n",
      " 41  CentralAir     1460 non-null   object \n",
      " 42  Electrical     1459 non-null   object \n",
      " 43  1stFlrSF       1460 non-null   int64  \n",
      " 44  2ndFlrSF       1460 non-null   int64  \n",
      " 45  LowQualFinSF   1460 non-null   int64  \n",
      " 46  GrLivArea      1460 non-null   int64  \n",
      " 47  BsmtFullBath   1460 non-null   int64  \n",
      " 48  BsmtHalfBath   1460 non-null   int64  \n",
      " 49  FullBath       1460 non-null   int64  \n",
      " 50  HalfBath       1460 non-null   int64  \n",
      " 51  BedroomAbvGr   1460 non-null   int64  \n",
      " 52  KitchenAbvGr   1460 non-null   int64  \n",
      " 53  KitchenQual    1460 non-null   object \n",
      " 54  TotRmsAbvGrd   1460 non-null   int64  \n",
      " 55  Functional     1460 non-null   object \n",
      " 56  Fireplaces     1460 non-null   int64  \n",
      " 57  FireplaceQu    770 non-null    object \n",
      " 58  GarageType     1379 non-null   object \n",
      " 59  GarageYrBlt    1379 non-null   float64\n",
      " 60  GarageFinish   1379 non-null   object \n",
      " 61  GarageCars     1460 non-null   int64  \n",
      " 62  GarageArea     1460 non-null   int64  \n",
      " 63  GarageQual     1379 non-null   object \n",
      " 64  GarageCond     1379 non-null   object \n",
      " 65  PavedDrive     1460 non-null   object \n",
      " 66  WoodDeckSF     1460 non-null   int64  \n",
      " 67  OpenPorchSF    1460 non-null   int64  \n",
      " 68  EnclosedPorch  1460 non-null   int64  \n",
      " 69  3SsnPorch      1460 non-null   int64  \n",
      " 70  ScreenPorch    1460 non-null   int64  \n",
      " 71  PoolArea       1460 non-null   int64  \n",
      " 72  PoolQC         7 non-null      object \n",
      " 73  Fence          281 non-null    object \n",
      " 74  MiscFeature    54 non-null     object \n",
      " 75  MiscVal        1460 non-null   int64  \n",
      " 76  MoSold         1460 non-null   int64  \n",
      " 77  YrSold         1460 non-null   int64  \n",
      " 78  SaleType       1460 non-null   object \n",
      " 79  SaleCondition  1460 non-null   object \n",
      " 80  SalePrice      1460 non-null   int64  \n",
      "dtypes: float64(3), int64(35), object(43)\n",
      "memory usage: 924.0+ KB\n"
     ]
    }
   ],
   "source": [
    "df_train.info()"
   ]
  },
  {
   "cell_type": "code",
   "execution_count": 5,
   "id": "98a3b4c7",
   "metadata": {},
   "outputs": [
    {
     "name": "stdout",
     "output_type": "stream",
     "text": [
      "<class 'pandas.core.frame.DataFrame'>\n",
      "RangeIndex: 1459 entries, 0 to 1458\n",
      "Data columns (total 80 columns):\n",
      " #   Column         Non-Null Count  Dtype  \n",
      "---  ------         --------------  -----  \n",
      " 0   Id             1459 non-null   int64  \n",
      " 1   MSSubClass     1459 non-null   int64  \n",
      " 2   MSZoning       1455 non-null   object \n",
      " 3   LotFrontage    1232 non-null   float64\n",
      " 4   LotArea        1459 non-null   int64  \n",
      " 5   Street         1459 non-null   object \n",
      " 6   Alley          107 non-null    object \n",
      " 7   LotShape       1459 non-null   object \n",
      " 8   LandContour    1459 non-null   object \n",
      " 9   Utilities      1457 non-null   object \n",
      " 10  LotConfig      1459 non-null   object \n",
      " 11  LandSlope      1459 non-null   object \n",
      " 12  Neighborhood   1459 non-null   object \n",
      " 13  Condition1     1459 non-null   object \n",
      " 14  Condition2     1459 non-null   object \n",
      " 15  BldgType       1459 non-null   object \n",
      " 16  HouseStyle     1459 non-null   object \n",
      " 17  OverallQual    1459 non-null   int64  \n",
      " 18  OverallCond    1459 non-null   int64  \n",
      " 19  YearBuilt      1459 non-null   int64  \n",
      " 20  YearRemodAdd   1459 non-null   int64  \n",
      " 21  RoofStyle      1459 non-null   object \n",
      " 22  RoofMatl       1459 non-null   object \n",
      " 23  Exterior1st    1458 non-null   object \n",
      " 24  Exterior2nd    1458 non-null   object \n",
      " 25  MasVnrType     1443 non-null   object \n",
      " 26  MasVnrArea     1444 non-null   float64\n",
      " 27  ExterQual      1459 non-null   object \n",
      " 28  ExterCond      1459 non-null   object \n",
      " 29  Foundation     1459 non-null   object \n",
      " 30  BsmtQual       1415 non-null   object \n",
      " 31  BsmtCond       1414 non-null   object \n",
      " 32  BsmtExposure   1415 non-null   object \n",
      " 33  BsmtFinType1   1417 non-null   object \n",
      " 34  BsmtFinSF1     1458 non-null   float64\n",
      " 35  BsmtFinType2   1417 non-null   object \n",
      " 36  BsmtFinSF2     1458 non-null   float64\n",
      " 37  BsmtUnfSF      1458 non-null   float64\n",
      " 38  TotalBsmtSF    1458 non-null   float64\n",
      " 39  Heating        1459 non-null   object \n",
      " 40  HeatingQC      1459 non-null   object \n",
      " 41  CentralAir     1459 non-null   object \n",
      " 42  Electrical     1459 non-null   object \n",
      " 43  1stFlrSF       1459 non-null   int64  \n",
      " 44  2ndFlrSF       1459 non-null   int64  \n",
      " 45  LowQualFinSF   1459 non-null   int64  \n",
      " 46  GrLivArea      1459 non-null   int64  \n",
      " 47  BsmtFullBath   1457 non-null   float64\n",
      " 48  BsmtHalfBath   1457 non-null   float64\n",
      " 49  FullBath       1459 non-null   int64  \n",
      " 50  HalfBath       1459 non-null   int64  \n",
      " 51  BedroomAbvGr   1459 non-null   int64  \n",
      " 52  KitchenAbvGr   1459 non-null   int64  \n",
      " 53  KitchenQual    1458 non-null   object \n",
      " 54  TotRmsAbvGrd   1459 non-null   int64  \n",
      " 55  Functional     1457 non-null   object \n",
      " 56  Fireplaces     1459 non-null   int64  \n",
      " 57  FireplaceQu    729 non-null    object \n",
      " 58  GarageType     1383 non-null   object \n",
      " 59  GarageYrBlt    1381 non-null   float64\n",
      " 60  GarageFinish   1381 non-null   object \n",
      " 61  GarageCars     1458 non-null   float64\n",
      " 62  GarageArea     1458 non-null   float64\n",
      " 63  GarageQual     1381 non-null   object \n",
      " 64  GarageCond     1381 non-null   object \n",
      " 65  PavedDrive     1459 non-null   object \n",
      " 66  WoodDeckSF     1459 non-null   int64  \n",
      " 67  OpenPorchSF    1459 non-null   int64  \n",
      " 68  EnclosedPorch  1459 non-null   int64  \n",
      " 69  3SsnPorch      1459 non-null   int64  \n",
      " 70  ScreenPorch    1459 non-null   int64  \n",
      " 71  PoolArea       1459 non-null   int64  \n",
      " 72  PoolQC         3 non-null      object \n",
      " 73  Fence          290 non-null    object \n",
      " 74  MiscFeature    51 non-null     object \n",
      " 75  MiscVal        1459 non-null   int64  \n",
      " 76  MoSold         1459 non-null   int64  \n",
      " 77  YrSold         1459 non-null   int64  \n",
      " 78  SaleType       1458 non-null   object \n",
      " 79  SaleCondition  1459 non-null   object \n",
      "dtypes: float64(11), int64(26), object(43)\n",
      "memory usage: 912.0+ KB\n"
     ]
    }
   ],
   "source": [
    "df_test.info()"
   ]
  },
  {
   "cell_type": "markdown",
   "id": "936af769",
   "metadata": {},
   "source": [
    "### first we remove missing values from training set"
   ]
  },
  {
   "cell_type": "code",
   "execution_count": 6,
   "id": "4d08121c",
   "metadata": {},
   "outputs": [
    {
     "data": {
      "text/plain": [
       "Index(['LotFrontage', 'Alley', 'MasVnrType', 'MasVnrArea', 'BsmtQual',\n",
       "       'BsmtCond', 'BsmtExposure', 'BsmtFinType1', 'BsmtFinType2',\n",
       "       'Electrical', 'FireplaceQu', 'GarageType', 'GarageYrBlt',\n",
       "       'GarageFinish', 'GarageQual', 'GarageCond', 'PoolQC', 'Fence',\n",
       "       'MiscFeature'],\n",
       "      dtype='object')"
      ]
     },
     "execution_count": 6,
     "metadata": {},
     "output_type": "execute_result"
    }
   ],
   "source": [
    "train_null_cols = df_train.columns[df_train.isnull().any()]\n",
    "train_null_cols"
   ]
  },
  {
   "cell_type": "code",
   "execution_count": 7,
   "id": "c80662ac",
   "metadata": {},
   "outputs": [
    {
     "data": {
      "text/plain": [
       "Index(['MSZoning', 'LotFrontage', 'Alley', 'Utilities', 'Exterior1st',\n",
       "       'Exterior2nd', 'MasVnrType', 'MasVnrArea', 'BsmtQual', 'BsmtCond',\n",
       "       'BsmtExposure', 'BsmtFinType1', 'BsmtFinSF1', 'BsmtFinType2',\n",
       "       'BsmtFinSF2', 'BsmtUnfSF', 'TotalBsmtSF', 'BsmtFullBath',\n",
       "       'BsmtHalfBath', 'KitchenQual', 'Functional', 'FireplaceQu',\n",
       "       'GarageType', 'GarageYrBlt', 'GarageFinish', 'GarageCars', 'GarageArea',\n",
       "       'GarageQual', 'GarageCond', 'PoolQC', 'Fence', 'MiscFeature',\n",
       "       'SaleType'],\n",
       "      dtype='object')"
      ]
     },
     "execution_count": 7,
     "metadata": {},
     "output_type": "execute_result"
    }
   ],
   "source": [
    "test_null_cols = df_test.columns[df_test.isnull().any()]\n",
    "test_null_cols"
   ]
  },
  {
   "cell_type": "code",
   "execution_count": 8,
   "id": "622a7e0f",
   "metadata": {},
   "outputs": [],
   "source": [
    "## 1. LotFrontage(3)"
   ]
  },
  {
   "cell_type": "code",
   "execution_count": 9,
   "id": "42fb6f48",
   "metadata": {},
   "outputs": [
    {
     "data": {
      "text/plain": [
       "60.0     143\n",
       "70.0      70\n",
       "80.0      69\n",
       "50.0      57\n",
       "75.0      53\n",
       "        ... \n",
       "112.0      1\n",
       "138.0      1\n",
       "149.0      1\n",
       "38.0       1\n",
       "111.0      1\n",
       "Name: LotFrontage, Length: 110, dtype: int64"
      ]
     },
     "execution_count": 9,
     "metadata": {},
     "output_type": "execute_result"
    }
   ],
   "source": [
    "df_train['LotFrontage'].value_counts()"
   ]
  },
  {
   "cell_type": "code",
   "execution_count": 10,
   "id": "489cfe48",
   "metadata": {},
   "outputs": [
    {
     "data": {
      "text/plain": [
       "60.0     133\n",
       "80.0      68\n",
       "70.0      63\n",
       "50.0      60\n",
       "75.0      52\n",
       "        ... \n",
       "149.0      1\n",
       "117.0      1\n",
       "121.0      1\n",
       "101.0      1\n",
       "22.0       1\n",
       "Name: LotFrontage, Length: 115, dtype: int64"
      ]
     },
     "execution_count": 10,
     "metadata": {},
     "output_type": "execute_result"
    }
   ],
   "source": [
    "df_test['LotFrontage'].value_counts()"
   ]
  },
  {
   "cell_type": "code",
   "execution_count": 11,
   "id": "27307dfa",
   "metadata": {},
   "outputs": [],
   "source": [
    "df_train['LotFrontage']=df_train['LotFrontage'].fillna(method = 'bfill')\n",
    "df_train['LotFrontage'] = df_train['LotFrontage'].astype(int)"
   ]
  },
  {
   "cell_type": "code",
   "execution_count": 12,
   "id": "c3846ee1",
   "metadata": {},
   "outputs": [],
   "source": [
    "df_test['LotFrontage']=df_test['LotFrontage'].fillna(method = 'bfill')\n",
    "df_test['LotFrontage'] = df_test['LotFrontage'].astype(int)"
   ]
  },
  {
   "cell_type": "code",
   "execution_count": 13,
   "id": "6e1a415b",
   "metadata": {},
   "outputs": [],
   "source": [
    "## 2. Alley(6)"
   ]
  },
  {
   "cell_type": "code",
   "execution_count": 14,
   "id": "bc0952b2",
   "metadata": {},
   "outputs": [
    {
     "data": {
      "text/plain": [
       "Grvl    50\n",
       "Pave    41\n",
       "Name: Alley, dtype: int64"
      ]
     },
     "execution_count": 14,
     "metadata": {},
     "output_type": "execute_result"
    }
   ],
   "source": [
    "df_train['Alley'].value_counts()"
   ]
  },
  {
   "cell_type": "code",
   "execution_count": 15,
   "id": "f0eece9b",
   "metadata": {},
   "outputs": [
    {
     "data": {
      "text/plain": [
       "Grvl    70\n",
       "Pave    37\n",
       "Name: Alley, dtype: int64"
      ]
     },
     "execution_count": 15,
     "metadata": {},
     "output_type": "execute_result"
    }
   ],
   "source": [
    "df_test['Alley'].value_counts()"
   ]
  },
  {
   "cell_type": "code",
   "execution_count": 16,
   "id": "ed52c35e",
   "metadata": {},
   "outputs": [],
   "source": [
    "# NA = No alley access\n",
    "df_train['Alley'] = df_train['Alley'].fillna('NA')"
   ]
  },
  {
   "cell_type": "code",
   "execution_count": 17,
   "id": "5cb1cbd2",
   "metadata": {},
   "outputs": [],
   "source": [
    "df_test['Alley'] = df_test['Alley'].fillna('NA')"
   ]
  },
  {
   "cell_type": "code",
   "execution_count": 18,
   "id": "1dda7fae",
   "metadata": {
    "scrolled": true
   },
   "outputs": [
    {
     "data": {
      "text/plain": [
       "NA      1369\n",
       "Grvl      50\n",
       "Pave      41\n",
       "Name: Alley, dtype: int64"
      ]
     },
     "execution_count": 18,
     "metadata": {},
     "output_type": "execute_result"
    }
   ],
   "source": [
    "df_train['Alley'].value_counts()"
   ]
  },
  {
   "cell_type": "code",
   "execution_count": 19,
   "id": "70b6bc80",
   "metadata": {},
   "outputs": [
    {
     "data": {
      "text/plain": [
       "NA      1352\n",
       "Grvl      70\n",
       "Pave      37\n",
       "Name: Alley, dtype: int64"
      ]
     },
     "execution_count": 19,
     "metadata": {},
     "output_type": "execute_result"
    }
   ],
   "source": [
    "df_test['Alley'].value_counts()"
   ]
  },
  {
   "cell_type": "code",
   "execution_count": 20,
   "id": "0a2a98c0",
   "metadata": {},
   "outputs": [],
   "source": [
    "## 3. MasVnrType (25)"
   ]
  },
  {
   "cell_type": "code",
   "execution_count": 21,
   "id": "4b69c67e",
   "metadata": {},
   "outputs": [
    {
     "data": {
      "text/plain": [
       "None       864\n",
       "BrkFace    445\n",
       "Stone      128\n",
       "BrkCmn      15\n",
       "Name: MasVnrType, dtype: int64"
      ]
     },
     "execution_count": 21,
     "metadata": {},
     "output_type": "execute_result"
    }
   ],
   "source": [
    "df_train['MasVnrType'].value_counts()"
   ]
  },
  {
   "cell_type": "code",
   "execution_count": 22,
   "id": "1d5b62e3",
   "metadata": {},
   "outputs": [
    {
     "data": {
      "text/plain": [
       "None       878\n",
       "BrkFace    434\n",
       "Stone      121\n",
       "BrkCmn      10\n",
       "Name: MasVnrType, dtype: int64"
      ]
     },
     "execution_count": 22,
     "metadata": {},
     "output_type": "execute_result"
    }
   ],
   "source": [
    "df_test['MasVnrType'].value_counts()"
   ]
  },
  {
   "cell_type": "code",
   "execution_count": 23,
   "id": "b214e9e2",
   "metadata": {},
   "outputs": [],
   "source": [
    "df_train['MasVnrType'] = df_train['MasVnrType'].fillna(df_train['MasVnrType'].mode()[0])"
   ]
  },
  {
   "cell_type": "code",
   "execution_count": 24,
   "id": "aac24b46",
   "metadata": {},
   "outputs": [],
   "source": [
    "df_test['MasVnrType'] = df_test['MasVnrType'].fillna(df_test['MasVnrType'].mode()[0])"
   ]
  },
  {
   "cell_type": "code",
   "execution_count": 25,
   "id": "a2684d8a",
   "metadata": {},
   "outputs": [],
   "source": [
    "## 4. MasVnrArea (26)"
   ]
  },
  {
   "cell_type": "code",
   "execution_count": 26,
   "id": "6698201f",
   "metadata": {},
   "outputs": [
    {
     "data": {
      "text/plain": [
       "0.0      861\n",
       "108.0      8\n",
       "72.0       8\n",
       "180.0      8\n",
       "16.0       7\n",
       "        ... \n",
       "31.0       1\n",
       "366.0      1\n",
       "528.0      1\n",
       "894.0      1\n",
       "415.0      1\n",
       "Name: MasVnrArea, Length: 327, dtype: int64"
      ]
     },
     "execution_count": 26,
     "metadata": {},
     "output_type": "execute_result"
    }
   ],
   "source": [
    "df_train['MasVnrArea'].value_counts()"
   ]
  },
  {
   "cell_type": "code",
   "execution_count": 27,
   "id": "4c94463a",
   "metadata": {},
   "outputs": [],
   "source": [
    "df_train['MasVnrArea'] = df_train['MasVnrArea'].fillna(df_train['MasVnrArea'].mode()[0])"
   ]
  },
  {
   "cell_type": "code",
   "execution_count": 28,
   "id": "e325d5e8",
   "metadata": {},
   "outputs": [],
   "source": [
    "df_test['MasVnrArea'] = df_test['MasVnrArea'].fillna(df_test['MasVnrArea'].mode()[0])"
   ]
  },
  {
   "cell_type": "code",
   "execution_count": 29,
   "id": "3808cff4",
   "metadata": {},
   "outputs": [],
   "source": [
    "# remove missing values from basement columns\n",
    "#  5.  BsmtQual (30)      \n",
    "#  6.  BsmtCond (31)      \n",
    "#  7.  BsmtExposure (32)  \n",
    "#  8.  BsmtFinType1 (33) \n",
    "#  9.  BsmtFinType2 (35)"
   ]
  },
  {
   "cell_type": "code",
   "execution_count": 30,
   "id": "e9c05d7f",
   "metadata": {},
   "outputs": [],
   "source": [
    "Bsmt_nl_cols = [ 'BsmtQual','BsmtCond', 'BsmtExposure', 'BsmtFinType1', 'BsmtFinType2']\n",
    "null_index = (df_train['BsmtCond'][df_train['BsmtCond'].isnull() == True]).index.tolist()"
   ]
  },
  {
   "cell_type": "code",
   "execution_count": null,
   "id": "c0a5200b",
   "metadata": {},
   "outputs": [],
   "source": []
  },
  {
   "cell_type": "code",
   "execution_count": 31,
   "id": "e3a51303",
   "metadata": {},
   "outputs": [],
   "source": [
    "# fill missing value of basement columns\n",
    "for i in Bsmt_nl_cols:\n",
    "    for j in range(len(null_index)):\n",
    "        df_train[i].iloc[null_index[j]] = 'No Basement'"
   ]
  },
  {
   "cell_type": "code",
   "execution_count": null,
   "id": "46936878",
   "metadata": {},
   "outputs": [],
   "source": []
  },
  {
   "cell_type": "code",
   "execution_count": 32,
   "id": "73654cc3",
   "metadata": {},
   "outputs": [
    {
     "data": {
      "text/plain": [
       "0"
      ]
     },
     "execution_count": 32,
     "metadata": {},
     "output_type": "execute_result"
    }
   ],
   "source": [
    "df_train['BsmtCond'].isnull().sum()"
   ]
  },
  {
   "cell_type": "code",
   "execution_count": 33,
   "id": "02971c85",
   "metadata": {
    "scrolled": false
   },
   "outputs": [
    {
     "data": {
      "text/plain": [
       "TA             1311\n",
       "Gd               65\n",
       "Fa               45\n",
       "No Basement      37\n",
       "Po                2\n",
       "Name: BsmtCond, dtype: int64"
      ]
     },
     "execution_count": 33,
     "metadata": {},
     "output_type": "execute_result"
    }
   ],
   "source": [
    "df_train['BsmtCond'].value_counts()"
   ]
  },
  {
   "cell_type": "code",
   "execution_count": 34,
   "id": "5abc0661",
   "metadata": {},
   "outputs": [
    {
     "name": "stdout",
     "output_type": "stream",
     "text": [
      "45\n"
     ]
    },
    {
     "data": {
      "text/plain": [
       "TA    1295\n",
       "Fa      59\n",
       "Gd      57\n",
       "Po       3\n",
       "Name: BsmtCond, dtype: int64"
      ]
     },
     "execution_count": 34,
     "metadata": {},
     "output_type": "execute_result"
    }
   ],
   "source": [
    "print(df_test['BsmtCond'].isnull().sum())\n",
    "df_test['BsmtCond'].value_counts()"
   ]
  },
  {
   "cell_type": "code",
   "execution_count": 35,
   "id": "d7dcce81",
   "metadata": {},
   "outputs": [
    {
     "data": {
      "text/plain": [
       "0"
      ]
     },
     "execution_count": 35,
     "metadata": {},
     "output_type": "execute_result"
    }
   ],
   "source": [
    "df_train['BsmtQual'].isnull().sum()"
   ]
  },
  {
   "cell_type": "code",
   "execution_count": 36,
   "id": "3a61414e",
   "metadata": {
    "scrolled": true
   },
   "outputs": [
    {
     "data": {
      "text/plain": [
       "TA             649\n",
       "Gd             618\n",
       "Ex             121\n",
       "No Basement     37\n",
       "Fa              35\n",
       "Name: BsmtQual, dtype: int64"
      ]
     },
     "execution_count": 36,
     "metadata": {},
     "output_type": "execute_result"
    }
   ],
   "source": [
    "df_train['BsmtQual'].value_counts()"
   ]
  },
  {
   "cell_type": "code",
   "execution_count": 37,
   "id": "c0d94760",
   "metadata": {},
   "outputs": [
    {
     "name": "stdout",
     "output_type": "stream",
     "text": [
      "44\n"
     ]
    },
    {
     "data": {
      "text/plain": [
       "TA    634\n",
       "Gd    591\n",
       "Ex    137\n",
       "Fa     53\n",
       "Name: BsmtQual, dtype: int64"
      ]
     },
     "execution_count": 37,
     "metadata": {},
     "output_type": "execute_result"
    }
   ],
   "source": [
    "print(df_test['BsmtQual'].isnull().sum())\n",
    "df_test['BsmtQual'].value_counts()"
   ]
  },
  {
   "cell_type": "code",
   "execution_count": 38,
   "id": "11317a48",
   "metadata": {},
   "outputs": [
    {
     "data": {
      "text/plain": [
       "1"
      ]
     },
     "execution_count": 38,
     "metadata": {},
     "output_type": "execute_result"
    }
   ],
   "source": [
    "df_train['BsmtExposure'].isnull().sum()"
   ]
  },
  {
   "cell_type": "code",
   "execution_count": 39,
   "id": "2a38bdf6",
   "metadata": {},
   "outputs": [
    {
     "data": {
      "text/plain": [
       "No             953\n",
       "Av             221\n",
       "Gd             134\n",
       "Mn             114\n",
       "No Basement     37\n",
       "Name: BsmtExposure, dtype: int64"
      ]
     },
     "execution_count": 39,
     "metadata": {},
     "output_type": "execute_result"
    }
   ],
   "source": [
    "df_train['BsmtExposure'].value_counts()"
   ]
  },
  {
   "cell_type": "code",
   "execution_count": 40,
   "id": "d114c718",
   "metadata": {},
   "outputs": [
    {
     "data": {
      "text/plain": [
       "0"
      ]
     },
     "execution_count": 40,
     "metadata": {},
     "output_type": "execute_result"
    }
   ],
   "source": [
    "df_train['BsmtFinType1'].isnull().sum()"
   ]
  },
  {
   "cell_type": "code",
   "execution_count": 41,
   "id": "e0fbf42a",
   "metadata": {
    "scrolled": true
   },
   "outputs": [
    {
     "data": {
      "text/plain": [
       "Unf            430\n",
       "GLQ            418\n",
       "ALQ            220\n",
       "BLQ            148\n",
       "Rec            133\n",
       "LwQ             74\n",
       "No Basement     37\n",
       "Name: BsmtFinType1, dtype: int64"
      ]
     },
     "execution_count": 41,
     "metadata": {},
     "output_type": "execute_result"
    }
   ],
   "source": [
    "df_train['BsmtFinType1'].value_counts()"
   ]
  },
  {
   "cell_type": "code",
   "execution_count": 42,
   "id": "8bde95eb",
   "metadata": {},
   "outputs": [
    {
     "data": {
      "text/plain": [
       "1"
      ]
     },
     "execution_count": 42,
     "metadata": {},
     "output_type": "execute_result"
    }
   ],
   "source": [
    "df_train['BsmtFinType2'].isnull().sum()"
   ]
  },
  {
   "cell_type": "code",
   "execution_count": 43,
   "id": "74d1f7cb",
   "metadata": {},
   "outputs": [
    {
     "data": {
      "text/plain": [
       "Unf            1256\n",
       "Rec              54\n",
       "LwQ              46\n",
       "No Basement      37\n",
       "BLQ              33\n",
       "ALQ              19\n",
       "GLQ              14\n",
       "Name: BsmtFinType2, dtype: int64"
      ]
     },
     "execution_count": 43,
     "metadata": {},
     "output_type": "execute_result"
    }
   ],
   "source": [
    "df_train['BsmtFinType2'].value_counts()"
   ]
  },
  {
   "cell_type": "code",
   "execution_count": 44,
   "id": "1ed05dee",
   "metadata": {},
   "outputs": [
    {
     "data": {
      "text/plain": [
       "No             953\n",
       "Av             221\n",
       "Gd             134\n",
       "Mn             114\n",
       "No Basement     37\n",
       "Name: BsmtExposure, dtype: int64"
      ]
     },
     "execution_count": 44,
     "metadata": {},
     "output_type": "execute_result"
    }
   ],
   "source": [
    "df_train['BsmtExposure'].value_counts()"
   ]
  },
  {
   "cell_type": "code",
   "execution_count": 45,
   "id": "b851103b",
   "metadata": {},
   "outputs": [],
   "source": [
    "df_train['BsmtExposure'] = df_train['BsmtExposure'].fillna(df_train['BsmtExposure'].mode()[0])\n",
    "df_train['BsmtFinType2'] = df_train['BsmtFinType2'].fillna(df_train['BsmtFinType2'].mode()[0])"
   ]
  },
  {
   "cell_type": "code",
   "execution_count": 46,
   "id": "3d316ecc",
   "metadata": {
    "scrolled": true
   },
   "outputs": [
    {
     "data": {
      "text/plain": [
       "0"
      ]
     },
     "execution_count": 46,
     "metadata": {},
     "output_type": "execute_result"
    }
   ],
   "source": [
    "df_train['BsmtExposure'].isnull().sum()"
   ]
  },
  {
   "cell_type": "code",
   "execution_count": 47,
   "id": "6d63bd17",
   "metadata": {},
   "outputs": [
    {
     "data": {
      "text/plain": [
       "No             954\n",
       "Av             221\n",
       "Gd             134\n",
       "Mn             114\n",
       "No Basement     37\n",
       "Name: BsmtExposure, dtype: int64"
      ]
     },
     "execution_count": 47,
     "metadata": {},
     "output_type": "execute_result"
    }
   ],
   "source": [
    "df_train['BsmtExposure'].value_counts()"
   ]
  },
  {
   "cell_type": "code",
   "execution_count": 48,
   "id": "09113356",
   "metadata": {},
   "outputs": [
    {
     "data": {
      "text/plain": [
       "0"
      ]
     },
     "execution_count": 48,
     "metadata": {},
     "output_type": "execute_result"
    }
   ],
   "source": [
    "df_train['BsmtFinType2'].isnull().sum()"
   ]
  },
  {
   "cell_type": "code",
   "execution_count": 49,
   "id": "9789557c",
   "metadata": {
    "scrolled": true
   },
   "outputs": [
    {
     "data": {
      "text/plain": [
       "Unf            1257\n",
       "Rec              54\n",
       "LwQ              46\n",
       "No Basement      37\n",
       "BLQ              33\n",
       "ALQ              19\n",
       "GLQ              14\n",
       "Name: BsmtFinType2, dtype: int64"
      ]
     },
     "execution_count": 49,
     "metadata": {},
     "output_type": "execute_result"
    }
   ],
   "source": [
    "df_train['BsmtFinType2'].value_counts()"
   ]
  },
  {
   "cell_type": "code",
   "execution_count": 50,
   "id": "c690af7f",
   "metadata": {},
   "outputs": [],
   "source": [
    "# test data "
   ]
  },
  {
   "cell_type": "code",
   "execution_count": 51,
   "id": "f9dbccc3",
   "metadata": {},
   "outputs": [],
   "source": [
    "## for test data\n",
    "Bsmt_nl_test = ['BsmtQual', 'BsmtCond','BsmtExposure', 'BsmtFinType1', 'BsmtFinType2']\n",
    "test_nl_index = (df_test['BsmtFinType1'][df_test['BsmtFinType1'].isnull() == True]).index.tolist()"
   ]
  },
  {
   "cell_type": "code",
   "execution_count": 52,
   "id": "8f499e6d",
   "metadata": {},
   "outputs": [],
   "source": [
    "for i in Bsmt_nl_test:\n",
    "    for j in range(len(test_nl_index)):\n",
    "        df_test[i].iloc[test_nl_index[j]] = 'No Basement'"
   ]
  },
  {
   "cell_type": "code",
   "execution_count": 53,
   "id": "4ddf38dd",
   "metadata": {},
   "outputs": [
    {
     "name": "stdout",
     "output_type": "stream",
     "text": [
      "2\n",
      "TA             634\n",
      "Gd             591\n",
      "Ex             137\n",
      "Fa              53\n",
      "No Basement     42\n",
      "Name: BsmtQual, dtype: int64\n"
     ]
    }
   ],
   "source": [
    "print(df_test['BsmtQual'].isnull().sum())\n",
    "print(df_test['BsmtQual'].value_counts())\n",
    "df_test['BsmtQual'] = df_test['BsmtQual'].fillna(df_test['BsmtQual'].mode()[0]) "
   ]
  },
  {
   "cell_type": "code",
   "execution_count": 54,
   "id": "1d7bffd9",
   "metadata": {},
   "outputs": [
    {
     "name": "stdout",
     "output_type": "stream",
     "text": [
      "3\n",
      "TA             1295\n",
      "Fa               59\n",
      "Gd               57\n",
      "No Basement      42\n",
      "Po                3\n",
      "Name: BsmtCond, dtype: int64\n"
     ]
    }
   ],
   "source": [
    "print(df_test['BsmtCond'].isnull().sum())\n",
    "print(df_test['BsmtCond'].value_counts())\n",
    "df_test['BsmtCond'] = df_test['BsmtCond'].fillna(df_test['BsmtCond'].mode()[0]) "
   ]
  },
  {
   "cell_type": "code",
   "execution_count": 55,
   "id": "514cd773",
   "metadata": {},
   "outputs": [
    {
     "name": "stdout",
     "output_type": "stream",
     "text": [
      "2\n",
      "No             951\n",
      "Av             197\n",
      "Gd             142\n",
      "Mn             125\n",
      "No Basement     42\n",
      "Name: BsmtExposure, dtype: int64\n"
     ]
    }
   ],
   "source": [
    "print(df_test['BsmtExposure'].isnull().sum())\n",
    "print(df_test['BsmtExposure'].value_counts())\n",
    "df_test['BsmtExposure'] = df_test['BsmtExposure'].fillna(df_test['BsmtExposure'].mode()[0]) "
   ]
  },
  {
   "cell_type": "code",
   "execution_count": 56,
   "id": "6a0d5397",
   "metadata": {},
   "outputs": [
    {
     "name": "stdout",
     "output_type": "stream",
     "text": [
      "0\n"
     ]
    }
   ],
   "source": [
    "print(df_test['BsmtFinType1'].isnull().sum())"
   ]
  },
  {
   "cell_type": "code",
   "execution_count": 57,
   "id": "af05b6af",
   "metadata": {},
   "outputs": [
    {
     "name": "stdout",
     "output_type": "stream",
     "text": [
      "0\n"
     ]
    }
   ],
   "source": [
    "print(df_test['BsmtFinType2'].isnull().sum())"
   ]
  },
  {
   "cell_type": "code",
   "execution_count": 58,
   "id": "c968a21f",
   "metadata": {},
   "outputs": [],
   "source": [
    "# 'BsmtFinSF1','BsmtFinSF2','BsmtUnfSF', 'TotalBsmtSF', 'BsmtFullBath','BsmtHalfBath'"
   ]
  },
  {
   "cell_type": "code",
   "execution_count": 59,
   "id": "00c55aef",
   "metadata": {},
   "outputs": [],
   "source": [
    "for i in ['BsmtFinSF1','BsmtFinSF2','BsmtUnfSF', 'TotalBsmtSF', 'BsmtFullBath','BsmtHalfBath']:\n",
    "    df_test[i] = df_test[i].fillna(df_test[i].mode()[0])"
   ]
  },
  {
   "cell_type": "code",
   "execution_count": 60,
   "id": "c32d34d9",
   "metadata": {},
   "outputs": [],
   "source": [
    "## 10. Electrical (42)"
   ]
  },
  {
   "cell_type": "code",
   "execution_count": 61,
   "id": "926e05b2",
   "metadata": {},
   "outputs": [
    {
     "data": {
      "text/plain": [
       "1"
      ]
     },
     "execution_count": 61,
     "metadata": {},
     "output_type": "execute_result"
    }
   ],
   "source": [
    "df_train['Electrical'].isnull().sum()"
   ]
  },
  {
   "cell_type": "code",
   "execution_count": 62,
   "id": "79446dbd",
   "metadata": {},
   "outputs": [
    {
     "data": {
      "text/plain": [
       "SBrkr    1334\n",
       "FuseA      94\n",
       "FuseF      27\n",
       "FuseP       3\n",
       "Mix         1\n",
       "Name: Electrical, dtype: int64"
      ]
     },
     "execution_count": 62,
     "metadata": {},
     "output_type": "execute_result"
    }
   ],
   "source": [
    "df_train['Electrical'].value_counts()"
   ]
  },
  {
   "cell_type": "code",
   "execution_count": 63,
   "id": "c1f7c94d",
   "metadata": {},
   "outputs": [],
   "source": [
    "df_train['Electrical'] = df_train['Electrical'].fillna(df_train['Electrical'].mode()[0])"
   ]
  },
  {
   "cell_type": "code",
   "execution_count": 64,
   "id": "6a4a8d5d",
   "metadata": {},
   "outputs": [],
   "source": [
    "## 11. FireplacceQu (57)"
   ]
  },
  {
   "cell_type": "code",
   "execution_count": 65,
   "id": "b55642e7",
   "metadata": {},
   "outputs": [
    {
     "data": {
      "text/plain": [
       "0    690\n",
       "1    650\n",
       "2    115\n",
       "3      5\n",
       "Name: Fireplaces, dtype: int64"
      ]
     },
     "execution_count": 65,
     "metadata": {},
     "output_type": "execute_result"
    }
   ],
   "source": [
    "df_train['Fireplaces'].value_counts()"
   ]
  },
  {
   "cell_type": "code",
   "execution_count": 66,
   "id": "45537139",
   "metadata": {},
   "outputs": [
    {
     "data": {
      "text/plain": [
       "690"
      ]
     },
     "execution_count": 66,
     "metadata": {},
     "output_type": "execute_result"
    }
   ],
   "source": [
    "df_train['FireplaceQu'].isnull().sum()"
   ]
  },
  {
   "cell_type": "code",
   "execution_count": 67,
   "id": "d4a2ac58",
   "metadata": {},
   "outputs": [
    {
     "data": {
      "text/plain": [
       "Gd    380\n",
       "TA    313\n",
       "Fa     33\n",
       "Ex     24\n",
       "Po     20\n",
       "Name: FireplaceQu, dtype: int64"
      ]
     },
     "execution_count": 67,
     "metadata": {},
     "output_type": "execute_result"
    }
   ],
   "source": [
    "df_train['FireplaceQu'].value_counts()"
   ]
  },
  {
   "cell_type": "code",
   "execution_count": 68,
   "id": "8f5fac83",
   "metadata": {},
   "outputs": [],
   "source": [
    "df_train['FireplaceQu'] = df_train['FireplaceQu'].fillna('No Fireplaces')"
   ]
  },
  {
   "cell_type": "code",
   "execution_count": 69,
   "id": "cb197bf6",
   "metadata": {
    "scrolled": true
   },
   "outputs": [
    {
     "data": {
      "text/plain": [
       "No Fireplaces    690\n",
       "Gd               380\n",
       "TA               313\n",
       "Fa                33\n",
       "Ex                24\n",
       "Po                20\n",
       "Name: FireplaceQu, dtype: int64"
      ]
     },
     "execution_count": 69,
     "metadata": {},
     "output_type": "execute_result"
    }
   ],
   "source": [
    "df_train['FireplaceQu'].value_counts()"
   ]
  },
  {
   "cell_type": "code",
   "execution_count": 70,
   "id": "7e25c3e9",
   "metadata": {},
   "outputs": [
    {
     "data": {
      "text/plain": [
       "0    730\n",
       "1    618\n",
       "2    104\n",
       "3      6\n",
       "4      1\n",
       "Name: Fireplaces, dtype: int64"
      ]
     },
     "execution_count": 70,
     "metadata": {},
     "output_type": "execute_result"
    }
   ],
   "source": [
    "# for test\n",
    "df_test['Fireplaces'].value_counts()"
   ]
  },
  {
   "cell_type": "code",
   "execution_count": 71,
   "id": "a62a628e",
   "metadata": {},
   "outputs": [
    {
     "data": {
      "text/plain": [
       "730"
      ]
     },
     "execution_count": 71,
     "metadata": {},
     "output_type": "execute_result"
    }
   ],
   "source": [
    "df_test['FireplaceQu'].isnull().sum()"
   ]
  },
  {
   "cell_type": "code",
   "execution_count": 72,
   "id": "a6b27d35",
   "metadata": {
    "scrolled": true
   },
   "outputs": [
    {
     "data": {
      "text/plain": [
       "Gd    364\n",
       "TA    279\n",
       "Fa     41\n",
       "Po     26\n",
       "Ex     19\n",
       "Name: FireplaceQu, dtype: int64"
      ]
     },
     "execution_count": 72,
     "metadata": {},
     "output_type": "execute_result"
    }
   ],
   "source": [
    "df_test['FireplaceQu'].value_counts()"
   ]
  },
  {
   "cell_type": "code",
   "execution_count": 73,
   "id": "0d60aa9e",
   "metadata": {},
   "outputs": [],
   "source": [
    "df_test['FireplaceQu'] = df_test['FireplaceQu'].fillna('No Fireplaces')"
   ]
  },
  {
   "cell_type": "code",
   "execution_count": 74,
   "id": "f700d033",
   "metadata": {},
   "outputs": [],
   "source": [
    "## remove missing values from garage columns\n",
    "# 12.  58  GarageType     \n",
    "# 13.  59  GarageYrBlt    \n",
    "# 14.  60  GarageFinish    \n",
    "# 15.  63  GarageQual     \n",
    "# 16.  64  GarageCond     "
   ]
  },
  {
   "cell_type": "code",
   "execution_count": 75,
   "id": "2951ede9",
   "metadata": {},
   "outputs": [],
   "source": [
    "gr_nl_cols = ['GarageType','GarageYrBlt' ,'GarageFinish','GarageQual','GarageCond']\n",
    "gr_nl_index = (df_train['GarageType'][df_train['GarageType'].isnull() == True]).index"
   ]
  },
  {
   "cell_type": "code",
   "execution_count": 76,
   "id": "dbe4ea83",
   "metadata": {},
   "outputs": [],
   "source": [
    "for i in gr_nl_cols:\n",
    "    for j in gr_nl_index:\n",
    "        df_train[i].iloc[j] = 'No Garage'"
   ]
  },
  {
   "cell_type": "code",
   "execution_count": 77,
   "id": "c099d510",
   "metadata": {},
   "outputs": [
    {
     "data": {
      "text/plain": [
       "Attchd       870\n",
       "Detchd       387\n",
       "BuiltIn       88\n",
       "No Garage     81\n",
       "Basment       19\n",
       "CarPort        9\n",
       "2Types         6\n",
       "Name: GarageType, dtype: int64"
      ]
     },
     "execution_count": 77,
     "metadata": {},
     "output_type": "execute_result"
    }
   ],
   "source": [
    "df_train['GarageType'].value_counts()"
   ]
  },
  {
   "cell_type": "code",
   "execution_count": 78,
   "id": "ea05e6c5",
   "metadata": {},
   "outputs": [
    {
     "data": {
      "text/plain": [
       "TA           1311\n",
       "No Garage      81\n",
       "Fa             48\n",
       "Gd             14\n",
       "Ex              3\n",
       "Po              3\n",
       "Name: GarageQual, dtype: int64"
      ]
     },
     "execution_count": 78,
     "metadata": {},
     "output_type": "execute_result"
    }
   ],
   "source": [
    "df_train['GarageQual'].value_counts()"
   ]
  },
  {
   "cell_type": "code",
   "execution_count": 79,
   "id": "92eef193",
   "metadata": {},
   "outputs": [
    {
     "data": {
      "text/plain": [
       "TA           1326\n",
       "No Garage      81\n",
       "Fa             35\n",
       "Gd              9\n",
       "Po              7\n",
       "Ex              2\n",
       "Name: GarageCond, dtype: int64"
      ]
     },
     "execution_count": 79,
     "metadata": {},
     "output_type": "execute_result"
    }
   ],
   "source": [
    "df_train['GarageCond'].value_counts()"
   ]
  },
  {
   "cell_type": "code",
   "execution_count": 80,
   "id": "d329ade8",
   "metadata": {},
   "outputs": [
    {
     "data": {
      "text/plain": [
       "0"
      ]
     },
     "execution_count": 80,
     "metadata": {},
     "output_type": "execute_result"
    }
   ],
   "source": [
    "df_train['GarageYrBlt'].isnull().sum()"
   ]
  },
  {
   "cell_type": "code",
   "execution_count": 81,
   "id": "68ff1dbf",
   "metadata": {},
   "outputs": [
    {
     "data": {
      "text/plain": [
       "No Garage    81\n",
       "2005.0       65\n",
       "2006.0       59\n",
       "2004.0       53\n",
       "2003.0       50\n",
       "             ..\n",
       "1908.0        1\n",
       "1933.0        1\n",
       "1927.0        1\n",
       "1906.0        1\n",
       "1900.0        1\n",
       "Name: GarageYrBlt, Length: 98, dtype: int64"
      ]
     },
     "execution_count": 81,
     "metadata": {},
     "output_type": "execute_result"
    }
   ],
   "source": [
    "df_train['GarageYrBlt'].value_counts()"
   ]
  },
  {
   "cell_type": "code",
   "execution_count": 82,
   "id": "f732236c",
   "metadata": {
    "scrolled": true
   },
   "outputs": [
    {
     "data": {
      "text/plain": [
       "Unf          605\n",
       "RFn          422\n",
       "Fin          352\n",
       "No Garage     81\n",
       "Name: GarageFinish, dtype: int64"
      ]
     },
     "execution_count": 82,
     "metadata": {},
     "output_type": "execute_result"
    }
   ],
   "source": [
    "df_train['GarageFinish'].value_counts()"
   ]
  },
  {
   "cell_type": "code",
   "execution_count": 83,
   "id": "ec2df70e",
   "metadata": {},
   "outputs": [],
   "source": [
    "# for test data\n",
    "#'GarageType', 'GarageYrBlt', 'GarageFinish', 'GarageCars', 'GarageArea','GarageQual', 'GarageCond'\n"
   ]
  },
  {
   "cell_type": "code",
   "execution_count": 84,
   "id": "35de9b28",
   "metadata": {},
   "outputs": [
    {
     "data": {
      "text/plain": [
       "list"
      ]
     },
     "execution_count": 84,
     "metadata": {},
     "output_type": "execute_result"
    }
   ],
   "source": [
    "gr_nl_test = ['GarageType','GarageYrBlt','GarageFinish','GarageQual','GarageCond']\n",
    "test_gnl_index = (df_test['GarageType'][df_test['GarageType'].isnull() == True]).index\n",
    "type(gr_nl_test)"
   ]
  },
  {
   "cell_type": "code",
   "execution_count": 85,
   "id": "30c129dd",
   "metadata": {},
   "outputs": [],
   "source": [
    "for i in gr_nl_test:\n",
    "    for j in range(len(test_gnl_index)):\n",
    "        df_test[i].iloc[test_gnl_index[j]] = 'No Garage'"
   ]
  },
  {
   "cell_type": "code",
   "execution_count": 86,
   "id": "96dbfc09",
   "metadata": {},
   "outputs": [
    {
     "data": {
      "text/plain": [
       "0"
      ]
     },
     "execution_count": 86,
     "metadata": {},
     "output_type": "execute_result"
    }
   ],
   "source": [
    "df_test['GarageType'].isnull().sum()"
   ]
  },
  {
   "cell_type": "code",
   "execution_count": 87,
   "id": "50c7cc36",
   "metadata": {},
   "outputs": [
    {
     "data": {
      "text/plain": [
       "Attchd       853\n",
       "Detchd       392\n",
       "BuiltIn       98\n",
       "No Garage     76\n",
       "2Types        17\n",
       "Basment       17\n",
       "CarPort        6\n",
       "Name: GarageType, dtype: int64"
      ]
     },
     "execution_count": 87,
     "metadata": {},
     "output_type": "execute_result"
    }
   ],
   "source": [
    "df_test['GarageType'].value_counts()"
   ]
  },
  {
   "cell_type": "code",
   "execution_count": 88,
   "id": "a3884155",
   "metadata": {},
   "outputs": [
    {
     "name": "stdout",
     "output_type": "stream",
     "text": [
      "2\n",
      "2005.0       77\n",
      "No Garage    76\n",
      "2007.0       66\n",
      "2006.0       56\n",
      "2004.0       46\n",
      "             ..\n",
      "1943.0        1\n",
      "2207.0        1\n",
      "1896.0        1\n",
      "1932.0        1\n",
      "1895.0        1\n",
      "Name: GarageYrBlt, Length: 98, dtype: int64\n"
     ]
    }
   ],
   "source": [
    "print(df_test['GarageYrBlt'].isnull().sum())\n",
    "print(df_test['GarageYrBlt'].value_counts())\n",
    "df_test['GarageYrBlt'] = df_test['GarageYrBlt'].fillna(df_test['GarageYrBlt'].mode()[0]) "
   ]
  },
  {
   "cell_type": "code",
   "execution_count": 89,
   "id": "5949ba7a",
   "metadata": {},
   "outputs": [
    {
     "name": "stdout",
     "output_type": "stream",
     "text": [
      "2\n",
      "Unf          625\n",
      "RFn          389\n",
      "Fin          367\n",
      "No Garage     76\n",
      "Name: GarageFinish, dtype: int64\n"
     ]
    }
   ],
   "source": [
    "print(df_test['GarageFinish'].isnull().sum())\n",
    "print(df_test['GarageFinish'].value_counts())\n",
    "df_test['GarageFinish'] = df_test['GarageFinish'].fillna(df_test['GarageFinish'].mode()[0]) "
   ]
  },
  {
   "cell_type": "code",
   "execution_count": 90,
   "id": "dfe1d72f",
   "metadata": {},
   "outputs": [
    {
     "name": "stdout",
     "output_type": "stream",
     "text": [
      "2\n",
      "TA           1293\n",
      "Fa             76\n",
      "No Garage      76\n",
      "Gd             10\n",
      "Po              2\n",
      "Name: GarageQual, dtype: int64\n"
     ]
    }
   ],
   "source": [
    "print(df_test['GarageQual'].isnull().sum())\n",
    "print(df_test['GarageQual'].value_counts())\n",
    "df_test['GarageQual'] = df_test['GarageQual'].fillna(df_test['GarageQual'].mode()[0]) "
   ]
  },
  {
   "cell_type": "code",
   "execution_count": 91,
   "id": "234ce724",
   "metadata": {},
   "outputs": [
    {
     "name": "stdout",
     "output_type": "stream",
     "text": [
      "2\n",
      "TA           1328\n",
      "No Garage      76\n",
      "Fa             39\n",
      "Po              7\n",
      "Gd              6\n",
      "Ex              1\n",
      "Name: GarageCond, dtype: int64\n"
     ]
    }
   ],
   "source": [
    "print(df_test['GarageCond'].isnull().sum())\n",
    "print(df_test['GarageCond'].value_counts())\n",
    "df_test['GarageCond'] = df_test['GarageCond'].fillna(df_test['GarageCond'].mode()[0]) "
   ]
  },
  {
   "cell_type": "code",
   "execution_count": 92,
   "id": "b8c5285c",
   "metadata": {},
   "outputs": [],
   "source": [
    " # 'GarageCars', 'GarageArea',"
   ]
  },
  {
   "cell_type": "code",
   "execution_count": 93,
   "id": "27ad6b74",
   "metadata": {},
   "outputs": [
    {
     "name": "stdout",
     "output_type": "stream",
     "text": [
      "1\n",
      "2.0    770\n",
      "1.0    407\n",
      "3.0    193\n",
      "0.0     76\n",
      "4.0     11\n",
      "5.0      1\n",
      "Name: GarageCars, dtype: int64\n"
     ]
    }
   ],
   "source": [
    "print(df_test['GarageCars'].isnull().sum())\n",
    "print(df_test['GarageCars'].value_counts())\n",
    "df_test['GarageCars'] = df_test['GarageCars'].fillna(df_test['GarageCars'].mode()[0]) "
   ]
  },
  {
   "cell_type": "code",
   "execution_count": 94,
   "id": "d3d0cc8b",
   "metadata": {},
   "outputs": [
    {
     "name": "stdout",
     "output_type": "stream",
     "text": [
      "1\n",
      "0.0      76\n",
      "576.0    50\n",
      "440.0    47\n",
      "484.0    34\n",
      "400.0    33\n",
      "         ..\n",
      "345.0     1\n",
      "292.0     1\n",
      "721.0     1\n",
      "738.0     1\n",
      "485.0     1\n",
      "Name: GarageArea, Length: 459, dtype: int64\n"
     ]
    }
   ],
   "source": [
    "print(df_test['GarageArea'].isnull().sum())\n",
    "print(df_test['GarageArea'].value_counts())\n",
    "df_test['GarageArea'] = df_test['GarageArea'].fillna(df_test['GarageArea'].mode()[0]) "
   ]
  },
  {
   "cell_type": "code",
   "execution_count": 95,
   "id": "4ecc3d4c",
   "metadata": {},
   "outputs": [],
   "source": [
    "## 17. PoolQC (72)"
   ]
  },
  {
   "cell_type": "code",
   "execution_count": 96,
   "id": "96f59a5d",
   "metadata": {},
   "outputs": [
    {
     "data": {
      "text/plain": [
       "1453"
      ]
     },
     "execution_count": 96,
     "metadata": {},
     "output_type": "execute_result"
    }
   ],
   "source": [
    "df_train['PoolQC'].isnull().sum()"
   ]
  },
  {
   "cell_type": "code",
   "execution_count": 97,
   "id": "4a140a88",
   "metadata": {},
   "outputs": [
    {
     "data": {
      "text/plain": [
       "Gd    3\n",
       "Ex    2\n",
       "Fa    2\n",
       "Name: PoolQC, dtype: int64"
      ]
     },
     "execution_count": 97,
     "metadata": {},
     "output_type": "execute_result"
    }
   ],
   "source": [
    "df_train['PoolQC'].value_counts()"
   ]
  },
  {
   "cell_type": "code",
   "execution_count": 98,
   "id": "4a7655ab",
   "metadata": {},
   "outputs": [
    {
     "data": {
      "text/plain": [
       "0      1453\n",
       "480       1\n",
       "512       1\n",
       "519       1\n",
       "555       1\n",
       "576       1\n",
       "648       1\n",
       "738       1\n",
       "Name: PoolArea, dtype: int64"
      ]
     },
     "execution_count": 98,
     "metadata": {},
     "output_type": "execute_result"
    }
   ],
   "source": [
    "df_train['PoolArea'].value_counts()"
   ]
  },
  {
   "cell_type": "code",
   "execution_count": 99,
   "id": "e458556d",
   "metadata": {},
   "outputs": [],
   "source": [
    "df_train['PoolQC'] = df_train['PoolQC'].fillna('No Pool')  "
   ]
  },
  {
   "cell_type": "code",
   "execution_count": 100,
   "id": "124ed140",
   "metadata": {},
   "outputs": [],
   "source": [
    "# test data"
   ]
  },
  {
   "cell_type": "code",
   "execution_count": 101,
   "id": "d069918a",
   "metadata": {},
   "outputs": [
    {
     "data": {
      "text/plain": [
       "1456"
      ]
     },
     "execution_count": 101,
     "metadata": {},
     "output_type": "execute_result"
    }
   ],
   "source": [
    "df_test['PoolQC'].isnull().sum()"
   ]
  },
  {
   "cell_type": "code",
   "execution_count": 102,
   "id": "f0701596",
   "metadata": {},
   "outputs": [
    {
     "data": {
      "text/plain": [
       "Ex    2\n",
       "Gd    1\n",
       "Name: PoolQC, dtype: int64"
      ]
     },
     "execution_count": 102,
     "metadata": {},
     "output_type": "execute_result"
    }
   ],
   "source": [
    "df_test['PoolQC'].value_counts()"
   ]
  },
  {
   "cell_type": "code",
   "execution_count": 103,
   "id": "2d020094",
   "metadata": {},
   "outputs": [
    {
     "data": {
      "text/plain": [
       "0      1453\n",
       "144       1\n",
       "228       1\n",
       "368       1\n",
       "444       1\n",
       "561       1\n",
       "800       1\n",
       "Name: PoolArea, dtype: int64"
      ]
     },
     "execution_count": 103,
     "metadata": {},
     "output_type": "execute_result"
    }
   ],
   "source": [
    "df_test['PoolArea'].value_counts()"
   ]
  },
  {
   "cell_type": "code",
   "execution_count": 104,
   "id": "73ce266d",
   "metadata": {},
   "outputs": [
    {
     "data": {
      "text/plain": [
       "Int64Index([   0,    1,    2,    3,    4,    5,    6,    7,    8,    9,\n",
       "            ...\n",
       "            1449, 1450, 1451, 1452, 1453, 1454, 1455, 1456, 1457, 1458],\n",
       "           dtype='int64', length=1453)"
      ]
     },
     "execution_count": 104,
     "metadata": {},
     "output_type": "execute_result"
    }
   ],
   "source": [
    "(df_test['PoolArea'][df_test['PoolArea'] == 0]).index"
   ]
  },
  {
   "cell_type": "code",
   "execution_count": 105,
   "id": "8c31757c",
   "metadata": {},
   "outputs": [],
   "source": [
    "ind = (df_test['PoolArea'][df_test['PoolArea'] == 0]).index\n",
    "for i in ind:\n",
    "    df_test['PoolQC'].loc[i] = 'No Pool'"
   ]
  },
  {
   "cell_type": "code",
   "execution_count": 106,
   "id": "80ccb429",
   "metadata": {
    "scrolled": true
   },
   "outputs": [
    {
     "name": "stdout",
     "output_type": "stream",
     "text": [
      "3\n",
      "No Pool    1453\n",
      "Ex            2\n",
      "Gd            1\n",
      "Name: PoolQC, dtype: int64\n"
     ]
    }
   ],
   "source": [
    "print(df_test['PoolQC'].isnull().sum())\n",
    "print(df_test['PoolQC'].value_counts())\n",
    "df_test['PoolQC'] = df_test['PoolQC'].fillna('Ex')"
   ]
  },
  {
   "cell_type": "code",
   "execution_count": 107,
   "id": "ff85d8e1",
   "metadata": {},
   "outputs": [
    {
     "data": {
      "text/plain": [
       "No Pool    1453\n",
       "Ex            5\n",
       "Gd            1\n",
       "Name: PoolQC, dtype: int64"
      ]
     },
     "execution_count": 107,
     "metadata": {},
     "output_type": "execute_result"
    }
   ],
   "source": [
    "df_test['PoolQC'].value_counts()"
   ]
  },
  {
   "cell_type": "code",
   "execution_count": 108,
   "id": "e2d0cc70",
   "metadata": {},
   "outputs": [],
   "source": [
    "## 18. Fence (73)"
   ]
  },
  {
   "cell_type": "code",
   "execution_count": 109,
   "id": "f822e4cf",
   "metadata": {},
   "outputs": [
    {
     "data": {
      "text/plain": [
       "1179"
      ]
     },
     "execution_count": 109,
     "metadata": {},
     "output_type": "execute_result"
    }
   ],
   "source": [
    "df_train['Fence'].isnull().sum()"
   ]
  },
  {
   "cell_type": "code",
   "execution_count": 110,
   "id": "acd62224",
   "metadata": {},
   "outputs": [
    {
     "data": {
      "text/plain": [
       "MnPrv    157\n",
       "GdPrv     59\n",
       "GdWo      54\n",
       "MnWw      11\n",
       "Name: Fence, dtype: int64"
      ]
     },
     "execution_count": 110,
     "metadata": {},
     "output_type": "execute_result"
    }
   ],
   "source": [
    "df_train['Fence'].value_counts()"
   ]
  },
  {
   "cell_type": "code",
   "execution_count": 111,
   "id": "0edebddf",
   "metadata": {},
   "outputs": [],
   "source": [
    "df_train['Fence'] = df_train['Fence'].fillna('No Fence')  "
   ]
  },
  {
   "cell_type": "code",
   "execution_count": 112,
   "id": "ae422f96",
   "metadata": {},
   "outputs": [
    {
     "data": {
      "text/plain": [
       "1169"
      ]
     },
     "execution_count": 112,
     "metadata": {},
     "output_type": "execute_result"
    }
   ],
   "source": [
    "df_test['Fence'].isnull().sum()"
   ]
  },
  {
   "cell_type": "code",
   "execution_count": 113,
   "id": "23c373d8",
   "metadata": {},
   "outputs": [],
   "source": [
    "df_test['Fence'] = df_test['Fence'].fillna('No Fence')  "
   ]
  },
  {
   "cell_type": "code",
   "execution_count": 114,
   "id": "734dec52",
   "metadata": {},
   "outputs": [],
   "source": [
    "## 19. MiscFeature (74)"
   ]
  },
  {
   "cell_type": "code",
   "execution_count": 115,
   "id": "e03fd82c",
   "metadata": {},
   "outputs": [],
   "source": [
    "df_train['MiscFeature'] = df_train['MiscFeature'].fillna('None')  "
   ]
  },
  {
   "cell_type": "code",
   "execution_count": 116,
   "id": "ef9e16b5",
   "metadata": {},
   "outputs": [],
   "source": [
    "df_test['MiscFeature'] = df_test['MiscFeature'].fillna('None')  "
   ]
  },
  {
   "cell_type": "code",
   "execution_count": 117,
   "id": "7669c38b",
   "metadata": {},
   "outputs": [
    {
     "data": {
      "text/plain": [
       "Index([], dtype='object')"
      ]
     },
     "execution_count": 117,
     "metadata": {},
     "output_type": "execute_result"
    }
   ],
   "source": [
    "df_train.columns[df_train.isnull().any()]"
   ]
  },
  {
   "cell_type": "code",
   "execution_count": 118,
   "id": "01adaaba",
   "metadata": {},
   "outputs": [
    {
     "data": {
      "text/plain": [
       "Index(['MSZoning', 'Utilities', 'Exterior1st', 'Exterior2nd', 'KitchenQual',\n",
       "       'Functional', 'SaleType'],\n",
       "      dtype='object')"
      ]
     },
     "execution_count": 118,
     "metadata": {},
     "output_type": "execute_result"
    }
   ],
   "source": [
    "df_test.columns[df_test.isnull().any()]"
   ]
  },
  {
   "cell_type": "code",
   "execution_count": 119,
   "id": "0f69b453",
   "metadata": {},
   "outputs": [],
   "source": [
    "extra_nl = ['MSZoning', 'Utilities', 'Exterior1st', 'Exterior2nd', 'KitchenQual','Functional', 'SaleType']"
   ]
  },
  {
   "cell_type": "code",
   "execution_count": 120,
   "id": "74415796",
   "metadata": {},
   "outputs": [],
   "source": [
    "for i in extra_nl:\n",
    "    df_test[i] = df_test[i].fillna(df_test[i].mode()[0])"
   ]
  },
  {
   "cell_type": "code",
   "execution_count": 121,
   "id": "482ae48b",
   "metadata": {},
   "outputs": [
    {
     "data": {
      "text/plain": [
       "Index([], dtype='object')"
      ]
     },
     "execution_count": 121,
     "metadata": {},
     "output_type": "execute_result"
    }
   ],
   "source": [
    "df_test.columns[df_test.isnull().any()]"
   ]
  },
  {
   "cell_type": "markdown",
   "id": "c4257192",
   "metadata": {},
   "source": [
    "## removal of outliers "
   ]
  },
  {
   "cell_type": "code",
   "execution_count": 122,
   "id": "12ab0bf0",
   "metadata": {
    "scrolled": true
   },
   "outputs": [
    {
     "data": {
      "text/html": [
       "<div>\n",
       "<style scoped>\n",
       "    .dataframe tbody tr th:only-of-type {\n",
       "        vertical-align: middle;\n",
       "    }\n",
       "\n",
       "    .dataframe tbody tr th {\n",
       "        vertical-align: top;\n",
       "    }\n",
       "\n",
       "    .dataframe thead th {\n",
       "        text-align: right;\n",
       "    }\n",
       "</style>\n",
       "<table border=\"1\" class=\"dataframe\">\n",
       "  <thead>\n",
       "    <tr style=\"text-align: right;\">\n",
       "      <th></th>\n",
       "      <th>Id</th>\n",
       "      <th>MSSubClass</th>\n",
       "      <th>LotFrontage</th>\n",
       "      <th>LotArea</th>\n",
       "      <th>OverallQual</th>\n",
       "      <th>OverallCond</th>\n",
       "      <th>YearBuilt</th>\n",
       "      <th>YearRemodAdd</th>\n",
       "      <th>MasVnrArea</th>\n",
       "      <th>BsmtFinSF1</th>\n",
       "      <th>...</th>\n",
       "      <th>WoodDeckSF</th>\n",
       "      <th>OpenPorchSF</th>\n",
       "      <th>EnclosedPorch</th>\n",
       "      <th>3SsnPorch</th>\n",
       "      <th>ScreenPorch</th>\n",
       "      <th>PoolArea</th>\n",
       "      <th>MiscVal</th>\n",
       "      <th>MoSold</th>\n",
       "      <th>YrSold</th>\n",
       "      <th>SalePrice</th>\n",
       "    </tr>\n",
       "  </thead>\n",
       "  <tbody>\n",
       "    <tr>\n",
       "      <th>count</th>\n",
       "      <td>1460.000000</td>\n",
       "      <td>1460.000000</td>\n",
       "      <td>1460.000000</td>\n",
       "      <td>1460.000000</td>\n",
       "      <td>1460.000000</td>\n",
       "      <td>1460.000000</td>\n",
       "      <td>1460.000000</td>\n",
       "      <td>1460.000000</td>\n",
       "      <td>1460.000000</td>\n",
       "      <td>1460.000000</td>\n",
       "      <td>...</td>\n",
       "      <td>1460.000000</td>\n",
       "      <td>1460.000000</td>\n",
       "      <td>1460.000000</td>\n",
       "      <td>1460.000000</td>\n",
       "      <td>1460.000000</td>\n",
       "      <td>1460.000000</td>\n",
       "      <td>1460.000000</td>\n",
       "      <td>1460.000000</td>\n",
       "      <td>1460.000000</td>\n",
       "      <td>1460.000000</td>\n",
       "    </tr>\n",
       "    <tr>\n",
       "      <th>mean</th>\n",
       "      <td>730.500000</td>\n",
       "      <td>56.897260</td>\n",
       "      <td>70.306164</td>\n",
       "      <td>10516.828082</td>\n",
       "      <td>6.099315</td>\n",
       "      <td>5.575342</td>\n",
       "      <td>1971.267808</td>\n",
       "      <td>1984.865753</td>\n",
       "      <td>103.117123</td>\n",
       "      <td>443.639726</td>\n",
       "      <td>...</td>\n",
       "      <td>94.244521</td>\n",
       "      <td>46.660274</td>\n",
       "      <td>21.954110</td>\n",
       "      <td>3.409589</td>\n",
       "      <td>15.060959</td>\n",
       "      <td>2.758904</td>\n",
       "      <td>43.489041</td>\n",
       "      <td>6.321918</td>\n",
       "      <td>2007.815753</td>\n",
       "      <td>180921.195890</td>\n",
       "    </tr>\n",
       "    <tr>\n",
       "      <th>std</th>\n",
       "      <td>421.610009</td>\n",
       "      <td>42.300571</td>\n",
       "      <td>23.945565</td>\n",
       "      <td>9981.264932</td>\n",
       "      <td>1.382997</td>\n",
       "      <td>1.112799</td>\n",
       "      <td>30.202904</td>\n",
       "      <td>20.645407</td>\n",
       "      <td>180.731373</td>\n",
       "      <td>456.098091</td>\n",
       "      <td>...</td>\n",
       "      <td>125.338794</td>\n",
       "      <td>66.256028</td>\n",
       "      <td>61.119149</td>\n",
       "      <td>29.317331</td>\n",
       "      <td>55.757415</td>\n",
       "      <td>40.177307</td>\n",
       "      <td>496.123024</td>\n",
       "      <td>2.703626</td>\n",
       "      <td>1.328095</td>\n",
       "      <td>79442.502883</td>\n",
       "    </tr>\n",
       "    <tr>\n",
       "      <th>min</th>\n",
       "      <td>1.000000</td>\n",
       "      <td>20.000000</td>\n",
       "      <td>21.000000</td>\n",
       "      <td>1300.000000</td>\n",
       "      <td>1.000000</td>\n",
       "      <td>1.000000</td>\n",
       "      <td>1872.000000</td>\n",
       "      <td>1950.000000</td>\n",
       "      <td>0.000000</td>\n",
       "      <td>0.000000</td>\n",
       "      <td>...</td>\n",
       "      <td>0.000000</td>\n",
       "      <td>0.000000</td>\n",
       "      <td>0.000000</td>\n",
       "      <td>0.000000</td>\n",
       "      <td>0.000000</td>\n",
       "      <td>0.000000</td>\n",
       "      <td>0.000000</td>\n",
       "      <td>1.000000</td>\n",
       "      <td>2006.000000</td>\n",
       "      <td>34900.000000</td>\n",
       "    </tr>\n",
       "    <tr>\n",
       "      <th>25%</th>\n",
       "      <td>365.750000</td>\n",
       "      <td>20.000000</td>\n",
       "      <td>59.000000</td>\n",
       "      <td>7553.500000</td>\n",
       "      <td>5.000000</td>\n",
       "      <td>5.000000</td>\n",
       "      <td>1954.000000</td>\n",
       "      <td>1967.000000</td>\n",
       "      <td>0.000000</td>\n",
       "      <td>0.000000</td>\n",
       "      <td>...</td>\n",
       "      <td>0.000000</td>\n",
       "      <td>0.000000</td>\n",
       "      <td>0.000000</td>\n",
       "      <td>0.000000</td>\n",
       "      <td>0.000000</td>\n",
       "      <td>0.000000</td>\n",
       "      <td>0.000000</td>\n",
       "      <td>5.000000</td>\n",
       "      <td>2007.000000</td>\n",
       "      <td>129975.000000</td>\n",
       "    </tr>\n",
       "    <tr>\n",
       "      <th>50%</th>\n",
       "      <td>730.500000</td>\n",
       "      <td>50.000000</td>\n",
       "      <td>70.000000</td>\n",
       "      <td>9478.500000</td>\n",
       "      <td>6.000000</td>\n",
       "      <td>5.000000</td>\n",
       "      <td>1973.000000</td>\n",
       "      <td>1994.000000</td>\n",
       "      <td>0.000000</td>\n",
       "      <td>383.500000</td>\n",
       "      <td>...</td>\n",
       "      <td>0.000000</td>\n",
       "      <td>25.000000</td>\n",
       "      <td>0.000000</td>\n",
       "      <td>0.000000</td>\n",
       "      <td>0.000000</td>\n",
       "      <td>0.000000</td>\n",
       "      <td>0.000000</td>\n",
       "      <td>6.000000</td>\n",
       "      <td>2008.000000</td>\n",
       "      <td>163000.000000</td>\n",
       "    </tr>\n",
       "    <tr>\n",
       "      <th>75%</th>\n",
       "      <td>1095.250000</td>\n",
       "      <td>70.000000</td>\n",
       "      <td>80.000000</td>\n",
       "      <td>11601.500000</td>\n",
       "      <td>7.000000</td>\n",
       "      <td>6.000000</td>\n",
       "      <td>2000.000000</td>\n",
       "      <td>2004.000000</td>\n",
       "      <td>164.250000</td>\n",
       "      <td>712.250000</td>\n",
       "      <td>...</td>\n",
       "      <td>168.000000</td>\n",
       "      <td>68.000000</td>\n",
       "      <td>0.000000</td>\n",
       "      <td>0.000000</td>\n",
       "      <td>0.000000</td>\n",
       "      <td>0.000000</td>\n",
       "      <td>0.000000</td>\n",
       "      <td>8.000000</td>\n",
       "      <td>2009.000000</td>\n",
       "      <td>214000.000000</td>\n",
       "    </tr>\n",
       "    <tr>\n",
       "      <th>max</th>\n",
       "      <td>1460.000000</td>\n",
       "      <td>190.000000</td>\n",
       "      <td>313.000000</td>\n",
       "      <td>215245.000000</td>\n",
       "      <td>10.000000</td>\n",
       "      <td>9.000000</td>\n",
       "      <td>2010.000000</td>\n",
       "      <td>2010.000000</td>\n",
       "      <td>1600.000000</td>\n",
       "      <td>5644.000000</td>\n",
       "      <td>...</td>\n",
       "      <td>857.000000</td>\n",
       "      <td>547.000000</td>\n",
       "      <td>552.000000</td>\n",
       "      <td>508.000000</td>\n",
       "      <td>480.000000</td>\n",
       "      <td>738.000000</td>\n",
       "      <td>15500.000000</td>\n",
       "      <td>12.000000</td>\n",
       "      <td>2010.000000</td>\n",
       "      <td>755000.000000</td>\n",
       "    </tr>\n",
       "  </tbody>\n",
       "</table>\n",
       "<p>8 rows × 37 columns</p>\n",
       "</div>"
      ],
      "text/plain": [
       "                Id   MSSubClass  LotFrontage        LotArea  OverallQual  \\\n",
       "count  1460.000000  1460.000000  1460.000000    1460.000000  1460.000000   \n",
       "mean    730.500000    56.897260    70.306164   10516.828082     6.099315   \n",
       "std     421.610009    42.300571    23.945565    9981.264932     1.382997   \n",
       "min       1.000000    20.000000    21.000000    1300.000000     1.000000   \n",
       "25%     365.750000    20.000000    59.000000    7553.500000     5.000000   \n",
       "50%     730.500000    50.000000    70.000000    9478.500000     6.000000   \n",
       "75%    1095.250000    70.000000    80.000000   11601.500000     7.000000   \n",
       "max    1460.000000   190.000000   313.000000  215245.000000    10.000000   \n",
       "\n",
       "       OverallCond    YearBuilt  YearRemodAdd   MasVnrArea   BsmtFinSF1  ...  \\\n",
       "count  1460.000000  1460.000000   1460.000000  1460.000000  1460.000000  ...   \n",
       "mean      5.575342  1971.267808   1984.865753   103.117123   443.639726  ...   \n",
       "std       1.112799    30.202904     20.645407   180.731373   456.098091  ...   \n",
       "min       1.000000  1872.000000   1950.000000     0.000000     0.000000  ...   \n",
       "25%       5.000000  1954.000000   1967.000000     0.000000     0.000000  ...   \n",
       "50%       5.000000  1973.000000   1994.000000     0.000000   383.500000  ...   \n",
       "75%       6.000000  2000.000000   2004.000000   164.250000   712.250000  ...   \n",
       "max       9.000000  2010.000000   2010.000000  1600.000000  5644.000000  ...   \n",
       "\n",
       "        WoodDeckSF  OpenPorchSF  EnclosedPorch    3SsnPorch  ScreenPorch  \\\n",
       "count  1460.000000  1460.000000    1460.000000  1460.000000  1460.000000   \n",
       "mean     94.244521    46.660274      21.954110     3.409589    15.060959   \n",
       "std     125.338794    66.256028      61.119149    29.317331    55.757415   \n",
       "min       0.000000     0.000000       0.000000     0.000000     0.000000   \n",
       "25%       0.000000     0.000000       0.000000     0.000000     0.000000   \n",
       "50%       0.000000    25.000000       0.000000     0.000000     0.000000   \n",
       "75%     168.000000    68.000000       0.000000     0.000000     0.000000   \n",
       "max     857.000000   547.000000     552.000000   508.000000   480.000000   \n",
       "\n",
       "          PoolArea       MiscVal       MoSold       YrSold      SalePrice  \n",
       "count  1460.000000   1460.000000  1460.000000  1460.000000    1460.000000  \n",
       "mean      2.758904     43.489041     6.321918  2007.815753  180921.195890  \n",
       "std      40.177307    496.123024     2.703626     1.328095   79442.502883  \n",
       "min       0.000000      0.000000     1.000000  2006.000000   34900.000000  \n",
       "25%       0.000000      0.000000     5.000000  2007.000000  129975.000000  \n",
       "50%       0.000000      0.000000     6.000000  2008.000000  163000.000000  \n",
       "75%       0.000000      0.000000     8.000000  2009.000000  214000.000000  \n",
       "max     738.000000  15500.000000    12.000000  2010.000000  755000.000000  \n",
       "\n",
       "[8 rows x 37 columns]"
      ]
     },
     "execution_count": 122,
     "metadata": {},
     "output_type": "execute_result"
    }
   ],
   "source": [
    "df_train.describe()"
   ]
  },
  {
   "cell_type": "code",
   "execution_count": 123,
   "id": "0f9b3968",
   "metadata": {
    "scrolled": true
   },
   "outputs": [
    {
     "data": {
      "text/plain": [
       "count    1460.000000\n",
       "mean      103.117123\n",
       "std       180.731373\n",
       "min         0.000000\n",
       "25%         0.000000\n",
       "50%         0.000000\n",
       "75%       164.250000\n",
       "max      1600.000000\n",
       "Name: MasVnrArea, dtype: float64"
      ]
     },
     "execution_count": 123,
     "metadata": {},
     "output_type": "execute_result"
    }
   ],
   "source": [
    "df_train['MasVnrArea'].describe()"
   ]
  },
  {
   "cell_type": "code",
   "execution_count": 124,
   "id": "2d44d125",
   "metadata": {
    "scrolled": true
   },
   "outputs": [
    {
     "data": {
      "text/plain": [
       "0      1252\n",
       "112      15\n",
       "96        6\n",
       "120       5\n",
       "192       5\n",
       "       ... \n",
       "170       1\n",
       "169       1\n",
       "67        1\n",
       "68        1\n",
       "552       1\n",
       "Name: EnclosedPorch, Length: 120, dtype: int64"
      ]
     },
     "execution_count": 124,
     "metadata": {},
     "output_type": "execute_result"
    }
   ],
   "source": [
    "df_train['EnclosedPorch'].value_counts()"
   ]
  },
  {
   "cell_type": "code",
   "execution_count": 125,
   "id": "02ab4f56",
   "metadata": {},
   "outputs": [
    {
     "data": {
      "image/png": "[encoded data removed]",
      "text/plain": [
       "<Figure size 432x288 with 1 Axes>"
      ]
     },
     "metadata": {
      "needs_background": "light"
     },
     "output_type": "display_data"
    }
   ],
   "source": [
    "sns.boxplot(data= df_train,x='EnclosedPorch')\n",
    "plt.show()"
   ]
  },
  {
   "cell_type": "code",
   "execution_count": 126,
   "id": "5004cdda",
   "metadata": {},
   "outputs": [
    {
     "data": {
      "text/plain": [
       "Index(['Id', 'MSSubClass', 'LotFrontage', 'LotArea', 'OverallQual',\n",
       "       'OverallCond', 'YearBuilt', 'YearRemodAdd', 'MasVnrArea', 'BsmtFinSF1',\n",
       "       'BsmtFinSF2', 'BsmtUnfSF', 'TotalBsmtSF', '1stFlrSF', '2ndFlrSF',\n",
       "       'LowQualFinSF', 'GrLivArea', 'BsmtFullBath', 'BsmtHalfBath', 'FullBath',\n",
       "       'HalfBath', 'BedroomAbvGr', 'KitchenAbvGr', 'TotRmsAbvGrd',\n",
       "       'Fireplaces', 'GarageCars', 'GarageArea', 'WoodDeckSF', 'OpenPorchSF',\n",
       "       'EnclosedPorch', '3SsnPorch', 'ScreenPorch', 'PoolArea', 'MiscVal',\n",
       "       'MoSold', 'YrSold', 'SalePrice'],\n",
       "      dtype='object')"
      ]
     },
     "execution_count": 126,
     "metadata": {},
     "output_type": "execute_result"
    }
   ],
   "source": [
    "desc_cols = df_train.describe().columns\n",
    "desc_cols"
   ]
  },
  {
   "cell_type": "code",
   "execution_count": 127,
   "id": "b6bfbf8b",
   "metadata": {},
   "outputs": [],
   "source": [
    "# ['MSSubClass', 'LotFrontage', 'LotArea', 'OverallQual',\n",
    "#        'OverallCond', 'YearBuilt', 'YearRemodAdd', 'MasVnrArea', 'BsmtFinSF1',\n",
    "#        'BsmtFinSF2', 'BsmtUnfSF', 'TotalBsmtSF', '1stFlrSF', '2ndFlrSF',\n",
    "#        'LowQualFinSF', 'GrLivArea', 'BsmtFullBath', 'BsmtHalfBath', 'FullBath',\n",
    "#        'HalfBath', 'BedroomAbvGr', 'KitchenAbvGr', 'TotRmsAbvGrd',\n",
    "#        'Fireplaces', 'GarageYrBlt', 'GarageCars', 'GarageArea', 'WoodDeckSF',\n",
    "#        'OpenPorchSF', 'EnclosedPorch', '3SsnPorch', 'ScreenPorch', 'PoolArea',\n",
    "#        'MiscVal']"
   ]
  },
  {
   "cell_type": "code",
   "execution_count": 128,
   "id": "73da3d83",
   "metadata": {},
   "outputs": [
    {
     "name": "stdout",
     "output_type": "stream",
     "text": [
      "count    1460.000000\n",
      "mean       56.897260\n",
      "std        42.300571\n",
      "min        20.000000\n",
      "25%        20.000000\n",
      "50%        50.000000\n",
      "75%        70.000000\n",
      "max       190.000000\n",
      "Name: MSSubClass, dtype: float64\n",
      "count    1460.000000\n",
      "mean       70.306164\n",
      "std        23.945565\n",
      "min        21.000000\n",
      "25%        59.000000\n",
      "50%        70.000000\n",
      "75%        80.000000\n",
      "max       313.000000\n",
      "Name: LotFrontage, dtype: float64\n",
      "count      1460.000000\n",
      "mean      10516.828082\n",
      "std        9981.264932\n",
      "min        1300.000000\n",
      "25%        7553.500000\n",
      "50%        9478.500000\n",
      "75%       11601.500000\n",
      "max      215245.000000\n",
      "Name: LotArea, dtype: float64\n",
      "count    1460.000000\n",
      "mean        6.099315\n",
      "std         1.382997\n",
      "min         1.000000\n",
      "25%         5.000000\n",
      "50%         6.000000\n",
      "75%         7.000000\n",
      "max        10.000000\n",
      "Name: OverallQual, dtype: float64\n",
      "count    1460.000000\n",
      "mean        5.575342\n",
      "std         1.112799\n",
      "min         1.000000\n",
      "25%         5.000000\n",
      "50%         5.000000\n",
      "75%         6.000000\n",
      "max         9.000000\n",
      "Name: OverallCond, dtype: float64\n",
      "count    1460.000000\n",
      "mean     1971.267808\n",
      "std        30.202904\n",
      "min      1872.000000\n",
      "25%      1954.000000\n",
      "50%      1973.000000\n",
      "75%      2000.000000\n",
      "max      2010.000000\n",
      "Name: YearBuilt, dtype: float64\n",
      "count    1460.000000\n",
      "mean     1984.865753\n",
      "std        20.645407\n",
      "min      1950.000000\n",
      "25%      1967.000000\n",
      "50%      1994.000000\n",
      "75%      2004.000000\n",
      "max      2010.000000\n",
      "Name: YearRemodAdd, dtype: float64\n",
      "count    1460.000000\n",
      "mean      103.117123\n",
      "std       180.731373\n",
      "min         0.000000\n",
      "25%         0.000000\n",
      "50%         0.000000\n",
      "75%       164.250000\n",
      "max      1600.000000\n",
      "Name: MasVnrArea, dtype: float64\n",
      "count    1460.000000\n",
      "mean      443.639726\n",
      "std       456.098091\n",
      "min         0.000000\n",
      "25%         0.000000\n",
      "50%       383.500000\n",
      "75%       712.250000\n",
      "max      5644.000000\n",
      "Name: BsmtFinSF1, dtype: float64\n",
      "count    1460.000000\n",
      "mean       46.549315\n",
      "std       161.319273\n",
      "min         0.000000\n",
      "25%         0.000000\n",
      "50%         0.000000\n",
      "75%         0.000000\n",
      "max      1474.000000\n",
      "Name: BsmtFinSF2, dtype: float64\n",
      "count    1460.000000\n",
      "mean      567.240411\n",
      "std       441.866955\n",
      "min         0.000000\n",
      "25%       223.000000\n",
      "50%       477.500000\n",
      "75%       808.000000\n",
      "max      2336.000000\n",
      "Name: BsmtUnfSF, dtype: float64\n",
      "count    1460.000000\n",
      "mean     1057.429452\n",
      "std       438.705324\n",
      "min         0.000000\n",
      "25%       795.750000\n",
      "50%       991.500000\n",
      "75%      1298.250000\n",
      "max      6110.000000\n",
      "Name: TotalBsmtSF, dtype: float64\n",
      "count    1460.000000\n",
      "mean     1162.626712\n",
      "std       386.587738\n",
      "min       334.000000\n",
      "25%       882.000000\n",
      "50%      1087.000000\n",
      "75%      1391.250000\n",
      "max      4692.000000\n",
      "Name: 1stFlrSF, dtype: float64\n",
      "count    1460.000000\n",
      "mean      346.992466\n",
      "std       436.528436\n",
      "min         0.000000\n",
      "25%         0.000000\n",
      "50%         0.000000\n",
      "75%       728.000000\n",
      "max      2065.000000\n",
      "Name: 2ndFlrSF, dtype: float64\n",
      "count    1460.000000\n",
      "mean        5.844521\n",
      "std        48.623081\n",
      "min         0.000000\n",
      "25%         0.000000\n",
      "50%         0.000000\n",
      "75%         0.000000\n",
      "max       572.000000\n",
      "Name: LowQualFinSF, dtype: float64\n",
      "count    1460.000000\n",
      "mean     1515.463699\n",
      "std       525.480383\n",
      "min       334.000000\n",
      "25%      1129.500000\n",
      "50%      1464.000000\n",
      "75%      1776.750000\n",
      "max      5642.000000\n",
      "Name: GrLivArea, dtype: float64\n",
      "count    1460.000000\n",
      "mean        0.425342\n",
      "std         0.518911\n",
      "min         0.000000\n",
      "25%         0.000000\n",
      "50%         0.000000\n",
      "75%         1.000000\n",
      "max         3.000000\n",
      "Name: BsmtFullBath, dtype: float64\n",
      "count    1460.000000\n",
      "mean        0.057534\n",
      "std         0.238753\n",
      "min         0.000000\n",
      "25%         0.000000\n",
      "50%         0.000000\n",
      "75%         0.000000\n",
      "max         2.000000\n",
      "Name: BsmtHalfBath, dtype: float64\n",
      "count    1460.000000\n",
      "mean        1.565068\n",
      "std         0.550916\n",
      "min         0.000000\n",
      "25%         1.000000\n",
      "50%         2.000000\n",
      "75%         2.000000\n",
      "max         3.000000\n",
      "Name: FullBath, dtype: float64\n",
      "count    1460.000000\n",
      "mean        0.382877\n",
      "std         0.502885\n",
      "min         0.000000\n",
      "25%         0.000000\n",
      "50%         0.000000\n",
      "75%         1.000000\n",
      "max         2.000000\n",
      "Name: HalfBath, dtype: float64\n",
      "count    1460.000000\n",
      "mean        2.866438\n",
      "std         0.815778\n",
      "min         0.000000\n",
      "25%         2.000000\n",
      "50%         3.000000\n",
      "75%         3.000000\n",
      "max         8.000000\n",
      "Name: BedroomAbvGr, dtype: float64\n",
      "count    1460.000000\n",
      "mean        1.046575\n",
      "std         0.220338\n",
      "min         0.000000\n",
      "25%         1.000000\n",
      "50%         1.000000\n",
      "75%         1.000000\n",
      "max         3.000000\n",
      "Name: KitchenAbvGr, dtype: float64\n",
      "count    1460.000000\n",
      "mean        6.517808\n",
      "std         1.625393\n",
      "min         2.000000\n",
      "25%         5.000000\n",
      "50%         6.000000\n",
      "75%         7.000000\n",
      "max        14.000000\n",
      "Name: TotRmsAbvGrd, dtype: float64\n",
      "count    1460.000000\n",
      "mean        0.613014\n",
      "std         0.644666\n",
      "min         0.000000\n",
      "25%         0.000000\n",
      "50%         1.000000\n",
      "75%         1.000000\n",
      "max         3.000000\n",
      "Name: Fireplaces, dtype: float64\n",
      "count    1460.000000\n",
      "mean        1.767123\n",
      "std         0.747315\n",
      "min         0.000000\n",
      "25%         1.000000\n",
      "50%         2.000000\n",
      "75%         2.000000\n",
      "max         4.000000\n",
      "Name: GarageCars, dtype: float64\n",
      "count    1460.000000\n",
      "mean      472.980137\n",
      "std       213.804841\n",
      "min         0.000000\n",
      "25%       334.500000\n",
      "50%       480.000000\n",
      "75%       576.000000\n",
      "max      1418.000000\n",
      "Name: GarageArea, dtype: float64\n",
      "count    1460.000000\n",
      "mean       94.244521\n",
      "std       125.338794\n",
      "min         0.000000\n",
      "25%         0.000000\n",
      "50%         0.000000\n",
      "75%       168.000000\n",
      "max       857.000000\n",
      "Name: WoodDeckSF, dtype: float64\n",
      "count    1460.000000\n",
      "mean       46.660274\n",
      "std        66.256028\n",
      "min         0.000000\n",
      "25%         0.000000\n",
      "50%        25.000000\n",
      "75%        68.000000\n",
      "max       547.000000\n",
      "Name: OpenPorchSF, dtype: float64\n",
      "count    1460.000000\n",
      "mean       21.954110\n",
      "std        61.119149\n",
      "min         0.000000\n",
      "25%         0.000000\n",
      "50%         0.000000\n",
      "75%         0.000000\n",
      "max       552.000000\n",
      "Name: EnclosedPorch, dtype: float64\n",
      "count    1460.000000\n",
      "mean        3.409589\n",
      "std        29.317331\n",
      "min         0.000000\n",
      "25%         0.000000\n",
      "50%         0.000000\n",
      "75%         0.000000\n",
      "max       508.000000\n",
      "Name: 3SsnPorch, dtype: float64\n",
      "count    1460.000000\n",
      "mean       15.060959\n",
      "std        55.757415\n",
      "min         0.000000\n",
      "25%         0.000000\n",
      "50%         0.000000\n",
      "75%         0.000000\n",
      "max       480.000000\n",
      "Name: ScreenPorch, dtype: float64\n",
      "count    1460.000000\n",
      "mean        2.758904\n",
      "std        40.177307\n",
      "min         0.000000\n",
      "25%         0.000000\n",
      "50%         0.000000\n",
      "75%         0.000000\n",
      "max       738.000000\n",
      "Name: PoolArea, dtype: float64\n",
      "count     1460.000000\n",
      "mean        43.489041\n",
      "std        496.123024\n",
      "min          0.000000\n",
      "25%          0.000000\n",
      "50%          0.000000\n",
      "75%          0.000000\n",
      "max      15500.000000\n",
      "Name: MiscVal, dtype: float64\n",
      "count    1460.000000\n",
      "mean        6.321918\n",
      "std         2.703626\n",
      "min         1.000000\n",
      "25%         5.000000\n",
      "50%         6.000000\n",
      "75%         8.000000\n",
      "max        12.000000\n",
      "Name: MoSold, dtype: float64\n",
      "count    1460.000000\n",
      "mean     2007.815753\n",
      "std         1.328095\n",
      "min      2006.000000\n",
      "25%      2007.000000\n",
      "50%      2008.000000\n",
      "75%      2009.000000\n",
      "max      2010.000000\n",
      "Name: YrSold, dtype: float64\n",
      "count      1460.000000\n",
      "mean     180921.195890\n",
      "std       79442.502883\n",
      "min       34900.000000\n",
      "25%      129975.000000\n",
      "50%      163000.000000\n",
      "75%      214000.000000\n",
      "max      755000.000000\n",
      "Name: SalePrice, dtype: float64\n"
     ]
    }
   ],
   "source": [
    "for dc in range(1,len(desc_cols)):\n",
    "    print(df_train[desc_cols[dc]].describe())"
   ]
  },
  {
   "cell_type": "code",
   "execution_count": null,
   "id": "b25125de",
   "metadata": {},
   "outputs": [],
   "source": []
  },
  {
   "cell_type": "code",
   "execution_count": 129,
   "id": "a395a835",
   "metadata": {},
   "outputs": [],
   "source": [
    "# Q1 = np.percentile(df_train['LotArea'],25)\n",
    "# Q3 = np.percentile(df_train['LotArea'],75)\n",
    "# IQR = Q3-Q1\n",
    "# lower_fence = Q1 - (1.5*IQR)\n",
    "# upper_fence = Q3 + (1.5*IQR)\n",
    "# df_train['LotArea'] = df_train['LotArea'].apply(lambda x : x if x < upper_fence else upper_fence)\n",
    "# print(Q1,Q3)\n",
    "# print(lower_fence,upper_fence)"
   ]
  },
  {
   "cell_type": "code",
   "execution_count": 130,
   "id": "d7a4e66f",
   "metadata": {},
   "outputs": [
    {
     "data": {
      "image/png": "[encoded data removed]",
      "text/plain": [
       "<Figure size 432x288 with 1 Axes>"
      ]
     },
     "metadata": {
      "needs_background": "light"
     },
     "output_type": "display_data"
    }
   ],
   "source": [
    "sns.boxplot(data = df_train,x='LotArea')\n",
    "plt.show()"
   ]
  },
  {
   "cell_type": "code",
   "execution_count": 131,
   "id": "9d14eeac",
   "metadata": {},
   "outputs": [
    {
     "data": {
      "text/plain": [
       "count    1460.000000\n",
       "mean      103.117123\n",
       "std       180.731373\n",
       "min         0.000000\n",
       "25%         0.000000\n",
       "50%         0.000000\n",
       "75%       164.250000\n",
       "max      1600.000000\n",
       "Name: MasVnrArea, dtype: float64"
      ]
     },
     "execution_count": 131,
     "metadata": {},
     "output_type": "execute_result"
    }
   ],
   "source": [
    "df_train['MasVnrArea'].describe()"
   ]
  },
  {
   "cell_type": "code",
   "execution_count": 132,
   "id": "39f71940",
   "metadata": {
    "scrolled": true
   },
   "outputs": [],
   "source": [
    "# for col in range(1,len(desc_cols)):\n",
    "#     sns.boxplot(data = df_train,x=desc_cols[col])\n",
    "#     plt.show()"
   ]
  },
  {
   "cell_type": "code",
   "execution_count": 133,
   "id": "af7771d0",
   "metadata": {},
   "outputs": [],
   "source": [
    "# ['MSSubClass','LotFrontage','']\n",
    "desc_cols1 = ['MasVnrArea','BsmtFinSF1','BsmtFinSF2','2ndFlrSF','LowQualFinSF','WoodDeckSF']\n",
    "# treat outliers\n",
    "for i in range(len(desc_cols1)):\n",
    "    Q1 = np.percentile(df_train[desc_cols1[i]],25)\n",
    "    Q3 = np.percentile(df_train[desc_cols1[i]],75)\n",
    "    IQR = Q3-Q1\n",
    "    lower_fence = Q1 - (1.5*IQR)\n",
    "    upper_fence = Q3 + (1.5*IQR)\n",
    "    df_train[desc_cols1[i]] = df_train[desc_cols1[i]].apply(lambda x : x if x < upper_fence else upper_fence)\n",
    "#     df_train[desc_cols[i]] = df_train[desc_cols[i]].apply(lambda x : x if x > lower_fence else lower_fence)"
   ]
  },
  {
   "cell_type": "code",
   "execution_count": 134,
   "id": "30a4a489",
   "metadata": {},
   "outputs": [],
   "source": [
    "# for i in range(1,len(desc_cols)):\n",
    "#     sns.boxplot(data = df_train, x = desc_cols[i])\n",
    "#     plt.show()"
   ]
  },
  {
   "cell_type": "code",
   "execution_count": 135,
   "id": "96fb4288",
   "metadata": {},
   "outputs": [],
   "source": [
    "# for col in desc_cols:\n",
    "#     sns.distplot(df_train[col])\n",
    "#     plt.show()\n",
    "#     sns.histplot(df_train[col])\n",
    "#     plt.show()"
   ]
  },
  {
   "cell_type": "markdown",
   "id": "2e0354c1",
   "metadata": {},
   "source": [
    "## Encoding categorical features"
   ]
  },
  {
   "cell_type": "code",
   "execution_count": null,
   "id": "7212f033",
   "metadata": {},
   "outputs": [],
   "source": []
  },
  {
   "cell_type": "code",
   "execution_count": 136,
   "id": "1e5a67c5",
   "metadata": {},
   "outputs": [
    {
     "data": {
      "text/plain": [
       "Index(['MSZoning', 'Street', 'Alley', 'LotShape', 'LandContour', 'Utilities',\n",
       "       'LotConfig', 'LandSlope', 'Neighborhood', 'Condition1', 'Condition2',\n",
       "       'BldgType', 'HouseStyle', 'RoofStyle', 'RoofMatl', 'Exterior1st',\n",
       "       'Exterior2nd', 'MasVnrType', 'ExterQual', 'ExterCond', 'Foundation',\n",
       "       'BsmtQual', 'BsmtCond', 'BsmtExposure', 'BsmtFinType1', 'BsmtFinType2',\n",
       "       'Heating', 'HeatingQC', 'CentralAir', 'Electrical', 'KitchenQual',\n",
       "       'Functional', 'FireplaceQu', 'GarageType', 'GarageYrBlt',\n",
       "       'GarageFinish', 'GarageQual', 'GarageCond', 'PavedDrive', 'PoolQC',\n",
       "       'Fence', 'MiscFeature', 'SaleType', 'SaleCondition'],\n",
       "      dtype='object')"
      ]
     },
     "execution_count": 136,
     "metadata": {},
     "output_type": "execute_result"
    }
   ],
   "source": [
    "# categorical columns\n",
    "cat_cols = df_train.columns.drop(desc_cols)\n",
    "cat_cols"
   ]
  },
  {
   "cell_type": "code",
   "execution_count": 137,
   "id": "08d6577b",
   "metadata": {},
   "outputs": [],
   "source": [
    "for cat_col in cat_cols:\n",
    "    df = pd.get_dummies(df_train[cat_col],prefix=cat_col,drop_first=True)\n",
    "    df_train = pd.concat([df_train,df],axis=1)\n",
    "    df_train = df_train.drop(cat_col,axis = 1)"
   ]
  },
  {
   "cell_type": "code",
   "execution_count": 138,
   "id": "367d7a17",
   "metadata": {
    "scrolled": true
   },
   "outputs": [
    {
     "data": {
      "text/plain": [
       "Index(['Id', 'MSSubClass', 'LotFrontage', 'LotArea', 'OverallQual',\n",
       "       'OverallCond', 'YearBuilt', 'YearRemodAdd', 'MasVnrArea', 'BsmtFinSF1',\n",
       "       ...\n",
       "       'SaleType_ConLI', 'SaleType_ConLw', 'SaleType_New', 'SaleType_Oth',\n",
       "       'SaleType_WD', 'SaleCondition_AdjLand', 'SaleCondition_Alloca',\n",
       "       'SaleCondition_Family', 'SaleCondition_Normal',\n",
       "       'SaleCondition_Partial'],\n",
       "      dtype='object', length=357)"
      ]
     },
     "execution_count": 138,
     "metadata": {},
     "output_type": "execute_result"
    }
   ],
   "source": [
    "df_train.columns"
   ]
  },
  {
   "cell_type": "code",
   "execution_count": 139,
   "id": "d1dbf707",
   "metadata": {},
   "outputs": [
    {
     "data": {
      "text/html": [
       "<div>\n",
       "<style scoped>\n",
       "    .dataframe tbody tr th:only-of-type {\n",
       "        vertical-align: middle;\n",
       "    }\n",
       "\n",
       "    .dataframe tbody tr th {\n",
       "        vertical-align: top;\n",
       "    }\n",
       "\n",
       "    .dataframe thead th {\n",
       "        text-align: right;\n",
       "    }\n",
       "</style>\n",
       "<table border=\"1\" class=\"dataframe\">\n",
       "  <thead>\n",
       "    <tr style=\"text-align: right;\">\n",
       "      <th></th>\n",
       "      <th>Id</th>\n",
       "      <th>MSSubClass</th>\n",
       "      <th>LotFrontage</th>\n",
       "      <th>LotArea</th>\n",
       "      <th>OverallQual</th>\n",
       "      <th>OverallCond</th>\n",
       "      <th>YearBuilt</th>\n",
       "      <th>YearRemodAdd</th>\n",
       "      <th>MasVnrArea</th>\n",
       "      <th>BsmtFinSF1</th>\n",
       "      <th>...</th>\n",
       "      <th>SaleType_ConLI</th>\n",
       "      <th>SaleType_ConLw</th>\n",
       "      <th>SaleType_New</th>\n",
       "      <th>SaleType_Oth</th>\n",
       "      <th>SaleType_WD</th>\n",
       "      <th>SaleCondition_AdjLand</th>\n",
       "      <th>SaleCondition_Alloca</th>\n",
       "      <th>SaleCondition_Family</th>\n",
       "      <th>SaleCondition_Normal</th>\n",
       "      <th>SaleCondition_Partial</th>\n",
       "    </tr>\n",
       "  </thead>\n",
       "  <tbody>\n",
       "    <tr>\n",
       "      <th>count</th>\n",
       "      <td>1460.000000</td>\n",
       "      <td>1460.000000</td>\n",
       "      <td>1460.000000</td>\n",
       "      <td>1460.000000</td>\n",
       "      <td>1460.000000</td>\n",
       "      <td>1460.000000</td>\n",
       "      <td>1460.000000</td>\n",
       "      <td>1460.000000</td>\n",
       "      <td>1460.000000</td>\n",
       "      <td>1460.000000</td>\n",
       "      <td>...</td>\n",
       "      <td>1460.000000</td>\n",
       "      <td>1460.000000</td>\n",
       "      <td>1460.000000</td>\n",
       "      <td>1460.000000</td>\n",
       "      <td>1460.000000</td>\n",
       "      <td>1460.000000</td>\n",
       "      <td>1460.000000</td>\n",
       "      <td>1460.000000</td>\n",
       "      <td>1460.000000</td>\n",
       "      <td>1460.000000</td>\n",
       "    </tr>\n",
       "    <tr>\n",
       "      <th>mean</th>\n",
       "      <td>730.500000</td>\n",
       "      <td>56.897260</td>\n",
       "      <td>70.306164</td>\n",
       "      <td>10516.828082</td>\n",
       "      <td>6.099315</td>\n",
       "      <td>5.575342</td>\n",
       "      <td>1971.267808</td>\n",
       "      <td>1984.865753</td>\n",
       "      <td>89.406336</td>\n",
       "      <td>439.997517</td>\n",
       "      <td>...</td>\n",
       "      <td>0.003425</td>\n",
       "      <td>0.003425</td>\n",
       "      <td>0.083562</td>\n",
       "      <td>0.002055</td>\n",
       "      <td>0.867808</td>\n",
       "      <td>0.002740</td>\n",
       "      <td>0.008219</td>\n",
       "      <td>0.013699</td>\n",
       "      <td>0.820548</td>\n",
       "      <td>0.085616</td>\n",
       "    </tr>\n",
       "    <tr>\n",
       "      <th>std</th>\n",
       "      <td>421.610009</td>\n",
       "      <td>42.300571</td>\n",
       "      <td>23.945565</td>\n",
       "      <td>9981.264932</td>\n",
       "      <td>1.382997</td>\n",
       "      <td>1.112799</td>\n",
       "      <td>30.202904</td>\n",
       "      <td>20.645407</td>\n",
       "      <td>134.017553</td>\n",
       "      <td>433.219435</td>\n",
       "      <td>...</td>\n",
       "      <td>0.058440</td>\n",
       "      <td>0.058440</td>\n",
       "      <td>0.276824</td>\n",
       "      <td>0.045299</td>\n",
       "      <td>0.338815</td>\n",
       "      <td>0.052289</td>\n",
       "      <td>0.090317</td>\n",
       "      <td>0.116277</td>\n",
       "      <td>0.383862</td>\n",
       "      <td>0.279893</td>\n",
       "    </tr>\n",
       "    <tr>\n",
       "      <th>min</th>\n",
       "      <td>1.000000</td>\n",
       "      <td>20.000000</td>\n",
       "      <td>21.000000</td>\n",
       "      <td>1300.000000</td>\n",
       "      <td>1.000000</td>\n",
       "      <td>1.000000</td>\n",
       "      <td>1872.000000</td>\n",
       "      <td>1950.000000</td>\n",
       "      <td>0.000000</td>\n",
       "      <td>0.000000</td>\n",
       "      <td>...</td>\n",
       "      <td>0.000000</td>\n",
       "      <td>0.000000</td>\n",
       "      <td>0.000000</td>\n",
       "      <td>0.000000</td>\n",
       "      <td>0.000000</td>\n",
       "      <td>0.000000</td>\n",
       "      <td>0.000000</td>\n",
       "      <td>0.000000</td>\n",
       "      <td>0.000000</td>\n",
       "      <td>0.000000</td>\n",
       "    </tr>\n",
       "    <tr>\n",
       "      <th>25%</th>\n",
       "      <td>365.750000</td>\n",
       "      <td>20.000000</td>\n",
       "      <td>59.000000</td>\n",
       "      <td>7553.500000</td>\n",
       "      <td>5.000000</td>\n",
       "      <td>5.000000</td>\n",
       "      <td>1954.000000</td>\n",
       "      <td>1967.000000</td>\n",
       "      <td>0.000000</td>\n",
       "      <td>0.000000</td>\n",
       "      <td>...</td>\n",
       "      <td>0.000000</td>\n",
       "      <td>0.000000</td>\n",
       "      <td>0.000000</td>\n",
       "      <td>0.000000</td>\n",
       "      <td>1.000000</td>\n",
       "      <td>0.000000</td>\n",
       "      <td>0.000000</td>\n",
       "      <td>0.000000</td>\n",
       "      <td>1.000000</td>\n",
       "      <td>0.000000</td>\n",
       "    </tr>\n",
       "    <tr>\n",
       "      <th>50%</th>\n",
       "      <td>730.500000</td>\n",
       "      <td>50.000000</td>\n",
       "      <td>70.000000</td>\n",
       "      <td>9478.500000</td>\n",
       "      <td>6.000000</td>\n",
       "      <td>5.000000</td>\n",
       "      <td>1973.000000</td>\n",
       "      <td>1994.000000</td>\n",
       "      <td>0.000000</td>\n",
       "      <td>383.500000</td>\n",
       "      <td>...</td>\n",
       "      <td>0.000000</td>\n",
       "      <td>0.000000</td>\n",
       "      <td>0.000000</td>\n",
       "      <td>0.000000</td>\n",
       "      <td>1.000000</td>\n",
       "      <td>0.000000</td>\n",
       "      <td>0.000000</td>\n",
       "      <td>0.000000</td>\n",
       "      <td>1.000000</td>\n",
       "      <td>0.000000</td>\n",
       "    </tr>\n",
       "    <tr>\n",
       "      <th>75%</th>\n",
       "      <td>1095.250000</td>\n",
       "      <td>70.000000</td>\n",
       "      <td>80.000000</td>\n",
       "      <td>11601.500000</td>\n",
       "      <td>7.000000</td>\n",
       "      <td>6.000000</td>\n",
       "      <td>2000.000000</td>\n",
       "      <td>2004.000000</td>\n",
       "      <td>164.250000</td>\n",
       "      <td>712.250000</td>\n",
       "      <td>...</td>\n",
       "      <td>0.000000</td>\n",
       "      <td>0.000000</td>\n",
       "      <td>0.000000</td>\n",
       "      <td>0.000000</td>\n",
       "      <td>1.000000</td>\n",
       "      <td>0.000000</td>\n",
       "      <td>0.000000</td>\n",
       "      <td>0.000000</td>\n",
       "      <td>1.000000</td>\n",
       "      <td>0.000000</td>\n",
       "    </tr>\n",
       "    <tr>\n",
       "      <th>max</th>\n",
       "      <td>1460.000000</td>\n",
       "      <td>190.000000</td>\n",
       "      <td>313.000000</td>\n",
       "      <td>215245.000000</td>\n",
       "      <td>10.000000</td>\n",
       "      <td>9.000000</td>\n",
       "      <td>2010.000000</td>\n",
       "      <td>2010.000000</td>\n",
       "      <td>410.625000</td>\n",
       "      <td>1780.625000</td>\n",
       "      <td>...</td>\n",
       "      <td>1.000000</td>\n",
       "      <td>1.000000</td>\n",
       "      <td>1.000000</td>\n",
       "      <td>1.000000</td>\n",
       "      <td>1.000000</td>\n",
       "      <td>1.000000</td>\n",
       "      <td>1.000000</td>\n",
       "      <td>1.000000</td>\n",
       "      <td>1.000000</td>\n",
       "      <td>1.000000</td>\n",
       "    </tr>\n",
       "  </tbody>\n",
       "</table>\n",
       "<p>8 rows × 357 columns</p>\n",
       "</div>"
      ],
      "text/plain": [
       "                Id   MSSubClass  LotFrontage        LotArea  OverallQual  \\\n",
       "count  1460.000000  1460.000000  1460.000000    1460.000000  1460.000000   \n",
       "mean    730.500000    56.897260    70.306164   10516.828082     6.099315   \n",
       "std     421.610009    42.300571    23.945565    9981.264932     1.382997   \n",
       "min       1.000000    20.000000    21.000000    1300.000000     1.000000   \n",
       "25%     365.750000    20.000000    59.000000    7553.500000     5.000000   \n",
       "50%     730.500000    50.000000    70.000000    9478.500000     6.000000   \n",
       "75%    1095.250000    70.000000    80.000000   11601.500000     7.000000   \n",
       "max    1460.000000   190.000000   313.000000  215245.000000    10.000000   \n",
       "\n",
       "       OverallCond    YearBuilt  YearRemodAdd   MasVnrArea   BsmtFinSF1  ...  \\\n",
       "count  1460.000000  1460.000000   1460.000000  1460.000000  1460.000000  ...   \n",
       "mean      5.575342  1971.267808   1984.865753    89.406336   439.997517  ...   \n",
       "std       1.112799    30.202904     20.645407   134.017553   433.219435  ...   \n",
       "min       1.000000  1872.000000   1950.000000     0.000000     0.000000  ...   \n",
       "25%       5.000000  1954.000000   1967.000000     0.000000     0.000000  ...   \n",
       "50%       5.000000  1973.000000   1994.000000     0.000000   383.500000  ...   \n",
       "75%       6.000000  2000.000000   2004.000000   164.250000   712.250000  ...   \n",
       "max       9.000000  2010.000000   2010.000000   410.625000  1780.625000  ...   \n",
       "\n",
       "       SaleType_ConLI  SaleType_ConLw  SaleType_New  SaleType_Oth  \\\n",
       "count     1460.000000     1460.000000   1460.000000   1460.000000   \n",
       "mean         0.003425        0.003425      0.083562      0.002055   \n",
       "std          0.058440        0.058440      0.276824      0.045299   \n",
       "min          0.000000        0.000000      0.000000      0.000000   \n",
       "25%          0.000000        0.000000      0.000000      0.000000   \n",
       "50%          0.000000        0.000000      0.000000      0.000000   \n",
       "75%          0.000000        0.000000      0.000000      0.000000   \n",
       "max          1.000000        1.000000      1.000000      1.000000   \n",
       "\n",
       "       SaleType_WD  SaleCondition_AdjLand  SaleCondition_Alloca  \\\n",
       "count  1460.000000            1460.000000           1460.000000   \n",
       "mean      0.867808               0.002740              0.008219   \n",
       "std       0.338815               0.052289              0.090317   \n",
       "min       0.000000               0.000000              0.000000   \n",
       "25%       1.000000               0.000000              0.000000   \n",
       "50%       1.000000               0.000000              0.000000   \n",
       "75%       1.000000               0.000000              0.000000   \n",
       "max       1.000000               1.000000              1.000000   \n",
       "\n",
       "       SaleCondition_Family  SaleCondition_Normal  SaleCondition_Partial  \n",
       "count           1460.000000           1460.000000            1460.000000  \n",
       "mean               0.013699              0.820548               0.085616  \n",
       "std                0.116277              0.383862               0.279893  \n",
       "min                0.000000              0.000000               0.000000  \n",
       "25%                0.000000              1.000000               0.000000  \n",
       "50%                0.000000              1.000000               0.000000  \n",
       "75%                0.000000              1.000000               0.000000  \n",
       "max                1.000000              1.000000               1.000000  \n",
       "\n",
       "[8 rows x 357 columns]"
      ]
     },
     "execution_count": 139,
     "metadata": {},
     "output_type": "execute_result"
    }
   ],
   "source": [
    "df_train.describe()"
   ]
  },
  {
   "cell_type": "code",
   "execution_count": null,
   "id": "6544795e",
   "metadata": {},
   "outputs": [],
   "source": []
  },
  {
   "cell_type": "code",
   "execution_count": null,
   "id": "330b590c",
   "metadata": {},
   "outputs": [],
   "source": []
  },
  {
   "cell_type": "code",
   "execution_count": null,
   "id": "99ef0814",
   "metadata": {},
   "outputs": [],
   "source": []
  },
  {
   "cell_type": "code",
   "execution_count": null,
   "id": "6f462c18",
   "metadata": {},
   "outputs": [],
   "source": []
  },
  {
   "cell_type": "code",
   "execution_count": 140,
   "id": "9c9c650d",
   "metadata": {},
   "outputs": [
    {
     "data": {
      "text/plain": [
       "0          1\n",
       "1          2\n",
       "2          3\n",
       "3          4\n",
       "4          5\n",
       "        ... \n",
       "1455    1456\n",
       "1456    1457\n",
       "1457    1458\n",
       "1458    1459\n",
       "1459    1460\n",
       "Name: Id, Length: 1460, dtype: int64"
      ]
     },
     "execution_count": 140,
     "metadata": {},
     "output_type": "execute_result"
    }
   ],
   "source": [
    "# for test data\n",
    "df_train.pop('Id')"
   ]
  },
  {
   "cell_type": "code",
   "execution_count": null,
   "id": "d19e8a45",
   "metadata": {},
   "outputs": [],
   "source": []
  },
  {
   "cell_type": "code",
   "execution_count": null,
   "id": "4bebc723",
   "metadata": {},
   "outputs": [],
   "source": []
  },
  {
   "cell_type": "markdown",
   "id": "9a4e27ae",
   "metadata": {},
   "source": [
    "### our data is clean so we train out model\n"
   ]
  },
  {
   "cell_type": "code",
   "execution_count": 141,
   "id": "e2b26188",
   "metadata": {},
   "outputs": [],
   "source": [
    "y = df_train.pop('SalePrice')\n",
    "X = df_train"
   ]
  },
  {
   "cell_type": "code",
   "execution_count": 142,
   "id": "8eb4248d",
   "metadata": {},
   "outputs": [
    {
     "data": {
      "text/plain": [
       "0       208500\n",
       "1       181500\n",
       "2       223500\n",
       "3       140000\n",
       "4       250000\n",
       "         ...  \n",
       "1455    175000\n",
       "1456    210000\n",
       "1457    266500\n",
       "1458    142125\n",
       "1459    147500\n",
       "Name: SalePrice, Length: 1460, dtype: int64"
      ]
     },
     "execution_count": 142,
     "metadata": {},
     "output_type": "execute_result"
    }
   ],
   "source": [
    "y"
   ]
  },
  {
   "cell_type": "code",
   "execution_count": 143,
   "id": "c453a92e",
   "metadata": {},
   "outputs": [],
   "source": [
    "from sklearn.model_selection import train_test_split"
   ]
  },
  {
   "cell_type": "code",
   "execution_count": 144,
   "id": "6bb4f03c",
   "metadata": {},
   "outputs": [],
   "source": [
    "X_train, X_validate, y_train, y_validate = train_test_split(X,y,train_size=0.7,test_size=0.3,random_state=2)"
   ]
  },
  {
   "cell_type": "code",
   "execution_count": 145,
   "id": "51658186",
   "metadata": {},
   "outputs": [
    {
     "data": {
      "text/html": [
       "<div>\n",
       "<style scoped>\n",
       "    .dataframe tbody tr th:only-of-type {\n",
       "        vertical-align: middle;\n",
       "    }\n",
       "\n",
       "    .dataframe tbody tr th {\n",
       "        vertical-align: top;\n",
       "    }\n",
       "\n",
       "    .dataframe thead th {\n",
       "        text-align: right;\n",
       "    }\n",
       "</style>\n",
       "<table border=\"1\" class=\"dataframe\">\n",
       "  <thead>\n",
       "    <tr style=\"text-align: right;\">\n",
       "      <th></th>\n",
       "      <th>MSSubClass</th>\n",
       "      <th>LotFrontage</th>\n",
       "      <th>LotArea</th>\n",
       "      <th>OverallQual</th>\n",
       "      <th>OverallCond</th>\n",
       "      <th>YearBuilt</th>\n",
       "      <th>YearRemodAdd</th>\n",
       "      <th>MasVnrArea</th>\n",
       "      <th>BsmtFinSF1</th>\n",
       "      <th>BsmtFinSF2</th>\n",
       "      <th>...</th>\n",
       "      <th>SaleType_ConLI</th>\n",
       "      <th>SaleType_ConLw</th>\n",
       "      <th>SaleType_New</th>\n",
       "      <th>SaleType_Oth</th>\n",
       "      <th>SaleType_WD</th>\n",
       "      <th>SaleCondition_AdjLand</th>\n",
       "      <th>SaleCondition_Alloca</th>\n",
       "      <th>SaleCondition_Family</th>\n",
       "      <th>SaleCondition_Normal</th>\n",
       "      <th>SaleCondition_Partial</th>\n",
       "    </tr>\n",
       "  </thead>\n",
       "  <tbody>\n",
       "    <tr>\n",
       "      <th>104</th>\n",
       "      <td>50</td>\n",
       "      <td>75</td>\n",
       "      <td>7758</td>\n",
       "      <td>7</td>\n",
       "      <td>4</td>\n",
       "      <td>1931</td>\n",
       "      <td>1950</td>\n",
       "      <td>410.625</td>\n",
       "      <td>224.0</td>\n",
       "      <td>0.0</td>\n",
       "      <td>...</td>\n",
       "      <td>0</td>\n",
       "      <td>0</td>\n",
       "      <td>0</td>\n",
       "      <td>0</td>\n",
       "      <td>1</td>\n",
       "      <td>0</td>\n",
       "      <td>0</td>\n",
       "      <td>0</td>\n",
       "      <td>1</td>\n",
       "      <td>0</td>\n",
       "    </tr>\n",
       "    <tr>\n",
       "      <th>1185</th>\n",
       "      <td>50</td>\n",
       "      <td>60</td>\n",
       "      <td>9738</td>\n",
       "      <td>5</td>\n",
       "      <td>7</td>\n",
       "      <td>1924</td>\n",
       "      <td>1950</td>\n",
       "      <td>0.000</td>\n",
       "      <td>392.0</td>\n",
       "      <td>0.0</td>\n",
       "      <td>...</td>\n",
       "      <td>0</td>\n",
       "      <td>0</td>\n",
       "      <td>0</td>\n",
       "      <td>0</td>\n",
       "      <td>1</td>\n",
       "      <td>0</td>\n",
       "      <td>0</td>\n",
       "      <td>0</td>\n",
       "      <td>1</td>\n",
       "      <td>0</td>\n",
       "    </tr>\n",
       "    <tr>\n",
       "      <th>786</th>\n",
       "      <td>50</td>\n",
       "      <td>60</td>\n",
       "      <td>10800</td>\n",
       "      <td>5</td>\n",
       "      <td>6</td>\n",
       "      <td>1915</td>\n",
       "      <td>1950</td>\n",
       "      <td>0.000</td>\n",
       "      <td>686.0</td>\n",
       "      <td>0.0</td>\n",
       "      <td>...</td>\n",
       "      <td>0</td>\n",
       "      <td>0</td>\n",
       "      <td>0</td>\n",
       "      <td>0</td>\n",
       "      <td>1</td>\n",
       "      <td>0</td>\n",
       "      <td>0</td>\n",
       "      <td>0</td>\n",
       "      <td>1</td>\n",
       "      <td>0</td>\n",
       "    </tr>\n",
       "    <tr>\n",
       "      <th>379</th>\n",
       "      <td>60</td>\n",
       "      <td>60</td>\n",
       "      <td>8123</td>\n",
       "      <td>6</td>\n",
       "      <td>5</td>\n",
       "      <td>2000</td>\n",
       "      <td>2000</td>\n",
       "      <td>16.000</td>\n",
       "      <td>0.0</td>\n",
       "      <td>0.0</td>\n",
       "      <td>...</td>\n",
       "      <td>0</td>\n",
       "      <td>0</td>\n",
       "      <td>0</td>\n",
       "      <td>0</td>\n",
       "      <td>1</td>\n",
       "      <td>0</td>\n",
       "      <td>0</td>\n",
       "      <td>0</td>\n",
       "      <td>1</td>\n",
       "      <td>0</td>\n",
       "    </tr>\n",
       "    <tr>\n",
       "      <th>1129</th>\n",
       "      <td>90</td>\n",
       "      <td>60</td>\n",
       "      <td>7200</td>\n",
       "      <td>5</td>\n",
       "      <td>5</td>\n",
       "      <td>1980</td>\n",
       "      <td>1980</td>\n",
       "      <td>180.000</td>\n",
       "      <td>936.0</td>\n",
       "      <td>0.0</td>\n",
       "      <td>...</td>\n",
       "      <td>0</td>\n",
       "      <td>0</td>\n",
       "      <td>0</td>\n",
       "      <td>0</td>\n",
       "      <td>1</td>\n",
       "      <td>0</td>\n",
       "      <td>0</td>\n",
       "      <td>0</td>\n",
       "      <td>1</td>\n",
       "      <td>0</td>\n",
       "    </tr>\n",
       "    <tr>\n",
       "      <th>...</th>\n",
       "      <td>...</td>\n",
       "      <td>...</td>\n",
       "      <td>...</td>\n",
       "      <td>...</td>\n",
       "      <td>...</td>\n",
       "      <td>...</td>\n",
       "      <td>...</td>\n",
       "      <td>...</td>\n",
       "      <td>...</td>\n",
       "      <td>...</td>\n",
       "      <td>...</td>\n",
       "      <td>...</td>\n",
       "      <td>...</td>\n",
       "      <td>...</td>\n",
       "      <td>...</td>\n",
       "      <td>...</td>\n",
       "      <td>...</td>\n",
       "      <td>...</td>\n",
       "      <td>...</td>\n",
       "      <td>...</td>\n",
       "      <td>...</td>\n",
       "    </tr>\n",
       "    <tr>\n",
       "      <th>1099</th>\n",
       "      <td>20</td>\n",
       "      <td>82</td>\n",
       "      <td>11880</td>\n",
       "      <td>7</td>\n",
       "      <td>5</td>\n",
       "      <td>1978</td>\n",
       "      <td>1978</td>\n",
       "      <td>206.000</td>\n",
       "      <td>704.0</td>\n",
       "      <td>0.0</td>\n",
       "      <td>...</td>\n",
       "      <td>0</td>\n",
       "      <td>0</td>\n",
       "      <td>0</td>\n",
       "      <td>0</td>\n",
       "      <td>0</td>\n",
       "      <td>0</td>\n",
       "      <td>0</td>\n",
       "      <td>0</td>\n",
       "      <td>0</td>\n",
       "      <td>0</td>\n",
       "    </tr>\n",
       "    <tr>\n",
       "      <th>466</th>\n",
       "      <td>20</td>\n",
       "      <td>85</td>\n",
       "      <td>10628</td>\n",
       "      <td>7</td>\n",
       "      <td>5</td>\n",
       "      <td>1970</td>\n",
       "      <td>1970</td>\n",
       "      <td>0.000</td>\n",
       "      <td>778.0</td>\n",
       "      <td>0.0</td>\n",
       "      <td>...</td>\n",
       "      <td>0</td>\n",
       "      <td>0</td>\n",
       "      <td>0</td>\n",
       "      <td>0</td>\n",
       "      <td>1</td>\n",
       "      <td>0</td>\n",
       "      <td>0</td>\n",
       "      <td>0</td>\n",
       "      <td>1</td>\n",
       "      <td>0</td>\n",
       "    </tr>\n",
       "    <tr>\n",
       "      <th>299</th>\n",
       "      <td>20</td>\n",
       "      <td>80</td>\n",
       "      <td>14000</td>\n",
       "      <td>6</td>\n",
       "      <td>8</td>\n",
       "      <td>1950</td>\n",
       "      <td>2004</td>\n",
       "      <td>0.000</td>\n",
       "      <td>0.0</td>\n",
       "      <td>0.0</td>\n",
       "      <td>...</td>\n",
       "      <td>0</td>\n",
       "      <td>0</td>\n",
       "      <td>0</td>\n",
       "      <td>0</td>\n",
       "      <td>1</td>\n",
       "      <td>0</td>\n",
       "      <td>0</td>\n",
       "      <td>1</td>\n",
       "      <td>0</td>\n",
       "      <td>0</td>\n",
       "    </tr>\n",
       "    <tr>\n",
       "      <th>493</th>\n",
       "      <td>20</td>\n",
       "      <td>70</td>\n",
       "      <td>7931</td>\n",
       "      <td>5</td>\n",
       "      <td>6</td>\n",
       "      <td>1960</td>\n",
       "      <td>1960</td>\n",
       "      <td>0.000</td>\n",
       "      <td>374.0</td>\n",
       "      <td>0.0</td>\n",
       "      <td>...</td>\n",
       "      <td>0</td>\n",
       "      <td>0</td>\n",
       "      <td>0</td>\n",
       "      <td>0</td>\n",
       "      <td>1</td>\n",
       "      <td>0</td>\n",
       "      <td>0</td>\n",
       "      <td>0</td>\n",
       "      <td>1</td>\n",
       "      <td>0</td>\n",
       "    </tr>\n",
       "    <tr>\n",
       "      <th>527</th>\n",
       "      <td>60</td>\n",
       "      <td>67</td>\n",
       "      <td>14948</td>\n",
       "      <td>9</td>\n",
       "      <td>5</td>\n",
       "      <td>2008</td>\n",
       "      <td>2008</td>\n",
       "      <td>268.000</td>\n",
       "      <td>1330.0</td>\n",
       "      <td>0.0</td>\n",
       "      <td>...</td>\n",
       "      <td>0</td>\n",
       "      <td>0</td>\n",
       "      <td>1</td>\n",
       "      <td>0</td>\n",
       "      <td>0</td>\n",
       "      <td>0</td>\n",
       "      <td>0</td>\n",
       "      <td>0</td>\n",
       "      <td>0</td>\n",
       "      <td>1</td>\n",
       "    </tr>\n",
       "  </tbody>\n",
       "</table>\n",
       "<p>1021 rows × 355 columns</p>\n",
       "</div>"
      ],
      "text/plain": [
       "      MSSubClass  LotFrontage  LotArea  OverallQual  OverallCond  YearBuilt  \\\n",
       "104           50           75     7758            7            4       1931   \n",
       "1185          50           60     9738            5            7       1924   \n",
       "786           50           60    10800            5            6       1915   \n",
       "379           60           60     8123            6            5       2000   \n",
       "1129          90           60     7200            5            5       1980   \n",
       "...          ...          ...      ...          ...          ...        ...   \n",
       "1099          20           82    11880            7            5       1978   \n",
       "466           20           85    10628            7            5       1970   \n",
       "299           20           80    14000            6            8       1950   \n",
       "493           20           70     7931            5            6       1960   \n",
       "527           60           67    14948            9            5       2008   \n",
       "\n",
       "      YearRemodAdd  MasVnrArea  BsmtFinSF1  BsmtFinSF2  ...  SaleType_ConLI  \\\n",
       "104           1950     410.625       224.0         0.0  ...               0   \n",
       "1185          1950       0.000       392.0         0.0  ...               0   \n",
       "786           1950       0.000       686.0         0.0  ...               0   \n",
       "379           2000      16.000         0.0         0.0  ...               0   \n",
       "1129          1980     180.000       936.0         0.0  ...               0   \n",
       "...            ...         ...         ...         ...  ...             ...   \n",
       "1099          1978     206.000       704.0         0.0  ...               0   \n",
       "466           1970       0.000       778.0         0.0  ...               0   \n",
       "299           2004       0.000         0.0         0.0  ...               0   \n",
       "493           1960       0.000       374.0         0.0  ...               0   \n",
       "527           2008     268.000      1330.0         0.0  ...               0   \n",
       "\n",
       "      SaleType_ConLw  SaleType_New  SaleType_Oth  SaleType_WD  \\\n",
       "104                0             0             0            1   \n",
       "1185               0             0             0            1   \n",
       "786                0             0             0            1   \n",
       "379                0             0             0            1   \n",
       "1129               0             0             0            1   \n",
       "...              ...           ...           ...          ...   \n",
       "1099               0             0             0            0   \n",
       "466                0             0             0            1   \n",
       "299                0             0             0            1   \n",
       "493                0             0             0            1   \n",
       "527                0             1             0            0   \n",
       "\n",
       "      SaleCondition_AdjLand  SaleCondition_Alloca  SaleCondition_Family  \\\n",
       "104                       0                     0                     0   \n",
       "1185                      0                     0                     0   \n",
       "786                       0                     0                     0   \n",
       "379                       0                     0                     0   \n",
       "1129                      0                     0                     0   \n",
       "...                     ...                   ...                   ...   \n",
       "1099                      0                     0                     0   \n",
       "466                       0                     0                     0   \n",
       "299                       0                     0                     1   \n",
       "493                       0                     0                     0   \n",
       "527                       0                     0                     0   \n",
       "\n",
       "      SaleCondition_Normal  SaleCondition_Partial  \n",
       "104                      1                      0  \n",
       "1185                     1                      0  \n",
       "786                      1                      0  \n",
       "379                      1                      0  \n",
       "1129                     1                      0  \n",
       "...                    ...                    ...  \n",
       "1099                     0                      0  \n",
       "466                      1                      0  \n",
       "299                      0                      0  \n",
       "493                      1                      0  \n",
       "527                      0                      1  \n",
       "\n",
       "[1021 rows x 355 columns]"
      ]
     },
     "execution_count": 145,
     "metadata": {},
     "output_type": "execute_result"
    }
   ],
   "source": [
    "X_train"
   ]
  },
  {
   "cell_type": "code",
   "execution_count": 146,
   "id": "accb2087",
   "metadata": {},
   "outputs": [
    {
     "data": {
      "text/plain": [
       "104     169500\n",
       "1185    104900\n",
       "786     139000\n",
       "379     179000\n",
       "1129    140000\n",
       "         ...  \n",
       "1099    157000\n",
       "466     167000\n",
       "299     158500\n",
       "493     155000\n",
       "527     446261\n",
       "Name: SalePrice, Length: 1021, dtype: int64"
      ]
     },
     "execution_count": 146,
     "metadata": {},
     "output_type": "execute_result"
    }
   ],
   "source": [
    "y_train"
   ]
  },
  {
   "cell_type": "code",
   "execution_count": 147,
   "id": "9f0552d1",
   "metadata": {},
   "outputs": [
    {
     "data": {
      "text/html": [
       "<div>\n",
       "<style scoped>\n",
       "    .dataframe tbody tr th:only-of-type {\n",
       "        vertical-align: middle;\n",
       "    }\n",
       "\n",
       "    .dataframe tbody tr th {\n",
       "        vertical-align: top;\n",
       "    }\n",
       "\n",
       "    .dataframe thead th {\n",
       "        text-align: right;\n",
       "    }\n",
       "</style>\n",
       "<table border=\"1\" class=\"dataframe\">\n",
       "  <thead>\n",
       "    <tr style=\"text-align: right;\">\n",
       "      <th></th>\n",
       "      <th>MSSubClass</th>\n",
       "      <th>LotFrontage</th>\n",
       "      <th>LotArea</th>\n",
       "      <th>OverallQual</th>\n",
       "      <th>OverallCond</th>\n",
       "      <th>YearBuilt</th>\n",
       "      <th>YearRemodAdd</th>\n",
       "      <th>MasVnrArea</th>\n",
       "      <th>BsmtFinSF1</th>\n",
       "      <th>BsmtFinSF2</th>\n",
       "      <th>...</th>\n",
       "      <th>SaleType_ConLI</th>\n",
       "      <th>SaleType_ConLw</th>\n",
       "      <th>SaleType_New</th>\n",
       "      <th>SaleType_Oth</th>\n",
       "      <th>SaleType_WD</th>\n",
       "      <th>SaleCondition_AdjLand</th>\n",
       "      <th>SaleCondition_Alloca</th>\n",
       "      <th>SaleCondition_Family</th>\n",
       "      <th>SaleCondition_Normal</th>\n",
       "      <th>SaleCondition_Partial</th>\n",
       "    </tr>\n",
       "  </thead>\n",
       "  <tbody>\n",
       "    <tr>\n",
       "      <th>503</th>\n",
       "      <td>20</td>\n",
       "      <td>100</td>\n",
       "      <td>15602</td>\n",
       "      <td>7</td>\n",
       "      <td>8</td>\n",
       "      <td>1959</td>\n",
       "      <td>1997</td>\n",
       "      <td>0.0</td>\n",
       "      <td>1247.0</td>\n",
       "      <td>0.0</td>\n",
       "      <td>...</td>\n",
       "      <td>0</td>\n",
       "      <td>0</td>\n",
       "      <td>0</td>\n",
       "      <td>0</td>\n",
       "      <td>1</td>\n",
       "      <td>0</td>\n",
       "      <td>0</td>\n",
       "      <td>0</td>\n",
       "      <td>1</td>\n",
       "      <td>0</td>\n",
       "    </tr>\n",
       "    <tr>\n",
       "      <th>101</th>\n",
       "      <td>60</td>\n",
       "      <td>77</td>\n",
       "      <td>9206</td>\n",
       "      <td>6</td>\n",
       "      <td>5</td>\n",
       "      <td>1985</td>\n",
       "      <td>1985</td>\n",
       "      <td>336.0</td>\n",
       "      <td>0.0</td>\n",
       "      <td>0.0</td>\n",
       "      <td>...</td>\n",
       "      <td>0</td>\n",
       "      <td>0</td>\n",
       "      <td>0</td>\n",
       "      <td>0</td>\n",
       "      <td>1</td>\n",
       "      <td>0</td>\n",
       "      <td>0</td>\n",
       "      <td>0</td>\n",
       "      <td>1</td>\n",
       "      <td>0</td>\n",
       "    </tr>\n",
       "    <tr>\n",
       "      <th>608</th>\n",
       "      <td>70</td>\n",
       "      <td>78</td>\n",
       "      <td>12168</td>\n",
       "      <td>8</td>\n",
       "      <td>6</td>\n",
       "      <td>1934</td>\n",
       "      <td>1998</td>\n",
       "      <td>0.0</td>\n",
       "      <td>428.0</td>\n",
       "      <td>0.0</td>\n",
       "      <td>...</td>\n",
       "      <td>0</td>\n",
       "      <td>0</td>\n",
       "      <td>0</td>\n",
       "      <td>0</td>\n",
       "      <td>1</td>\n",
       "      <td>0</td>\n",
       "      <td>1</td>\n",
       "      <td>0</td>\n",
       "      <td>0</td>\n",
       "      <td>0</td>\n",
       "    </tr>\n",
       "    <tr>\n",
       "      <th>1089</th>\n",
       "      <td>120</td>\n",
       "      <td>37</td>\n",
       "      <td>3316</td>\n",
       "      <td>8</td>\n",
       "      <td>5</td>\n",
       "      <td>2005</td>\n",
       "      <td>2005</td>\n",
       "      <td>0.0</td>\n",
       "      <td>1039.0</td>\n",
       "      <td>0.0</td>\n",
       "      <td>...</td>\n",
       "      <td>0</td>\n",
       "      <td>0</td>\n",
       "      <td>0</td>\n",
       "      <td>0</td>\n",
       "      <td>1</td>\n",
       "      <td>0</td>\n",
       "      <td>0</td>\n",
       "      <td>0</td>\n",
       "      <td>1</td>\n",
       "      <td>0</td>\n",
       "    </tr>\n",
       "    <tr>\n",
       "      <th>819</th>\n",
       "      <td>120</td>\n",
       "      <td>44</td>\n",
       "      <td>6371</td>\n",
       "      <td>7</td>\n",
       "      <td>5</td>\n",
       "      <td>2009</td>\n",
       "      <td>2010</td>\n",
       "      <td>128.0</td>\n",
       "      <td>733.0</td>\n",
       "      <td>0.0</td>\n",
       "      <td>...</td>\n",
       "      <td>0</td>\n",
       "      <td>0</td>\n",
       "      <td>1</td>\n",
       "      <td>0</td>\n",
       "      <td>0</td>\n",
       "      <td>0</td>\n",
       "      <td>0</td>\n",
       "      <td>0</td>\n",
       "      <td>0</td>\n",
       "      <td>1</td>\n",
       "    </tr>\n",
       "    <tr>\n",
       "      <th>...</th>\n",
       "      <td>...</td>\n",
       "      <td>...</td>\n",
       "      <td>...</td>\n",
       "      <td>...</td>\n",
       "      <td>...</td>\n",
       "      <td>...</td>\n",
       "      <td>...</td>\n",
       "      <td>...</td>\n",
       "      <td>...</td>\n",
       "      <td>...</td>\n",
       "      <td>...</td>\n",
       "      <td>...</td>\n",
       "      <td>...</td>\n",
       "      <td>...</td>\n",
       "      <td>...</td>\n",
       "      <td>...</td>\n",
       "      <td>...</td>\n",
       "      <td>...</td>\n",
       "      <td>...</td>\n",
       "      <td>...</td>\n",
       "      <td>...</td>\n",
       "    </tr>\n",
       "    <tr>\n",
       "      <th>1384</th>\n",
       "      <td>50</td>\n",
       "      <td>60</td>\n",
       "      <td>9060</td>\n",
       "      <td>6</td>\n",
       "      <td>5</td>\n",
       "      <td>1939</td>\n",
       "      <td>1950</td>\n",
       "      <td>0.0</td>\n",
       "      <td>204.0</td>\n",
       "      <td>0.0</td>\n",
       "      <td>...</td>\n",
       "      <td>0</td>\n",
       "      <td>0</td>\n",
       "      <td>0</td>\n",
       "      <td>0</td>\n",
       "      <td>1</td>\n",
       "      <td>0</td>\n",
       "      <td>0</td>\n",
       "      <td>0</td>\n",
       "      <td>1</td>\n",
       "      <td>0</td>\n",
       "    </tr>\n",
       "    <tr>\n",
       "      <th>557</th>\n",
       "      <td>50</td>\n",
       "      <td>60</td>\n",
       "      <td>11040</td>\n",
       "      <td>4</td>\n",
       "      <td>6</td>\n",
       "      <td>1920</td>\n",
       "      <td>1950</td>\n",
       "      <td>0.0</td>\n",
       "      <td>637.0</td>\n",
       "      <td>0.0</td>\n",
       "      <td>...</td>\n",
       "      <td>0</td>\n",
       "      <td>0</td>\n",
       "      <td>0</td>\n",
       "      <td>0</td>\n",
       "      <td>0</td>\n",
       "      <td>0</td>\n",
       "      <td>0</td>\n",
       "      <td>0</td>\n",
       "      <td>1</td>\n",
       "      <td>0</td>\n",
       "    </tr>\n",
       "    <tr>\n",
       "      <th>391</th>\n",
       "      <td>60</td>\n",
       "      <td>71</td>\n",
       "      <td>12209</td>\n",
       "      <td>6</td>\n",
       "      <td>5</td>\n",
       "      <td>2001</td>\n",
       "      <td>2002</td>\n",
       "      <td>0.0</td>\n",
       "      <td>690.0</td>\n",
       "      <td>0.0</td>\n",
       "      <td>...</td>\n",
       "      <td>0</td>\n",
       "      <td>0</td>\n",
       "      <td>0</td>\n",
       "      <td>0</td>\n",
       "      <td>1</td>\n",
       "      <td>0</td>\n",
       "      <td>0</td>\n",
       "      <td>0</td>\n",
       "      <td>1</td>\n",
       "      <td>0</td>\n",
       "    </tr>\n",
       "    <tr>\n",
       "      <th>1254</th>\n",
       "      <td>60</td>\n",
       "      <td>60</td>\n",
       "      <td>6931</td>\n",
       "      <td>7</td>\n",
       "      <td>5</td>\n",
       "      <td>2003</td>\n",
       "      <td>2004</td>\n",
       "      <td>92.0</td>\n",
       "      <td>0.0</td>\n",
       "      <td>0.0</td>\n",
       "      <td>...</td>\n",
       "      <td>0</td>\n",
       "      <td>0</td>\n",
       "      <td>0</td>\n",
       "      <td>0</td>\n",
       "      <td>1</td>\n",
       "      <td>0</td>\n",
       "      <td>0</td>\n",
       "      <td>0</td>\n",
       "      <td>1</td>\n",
       "      <td>0</td>\n",
       "    </tr>\n",
       "    <tr>\n",
       "      <th>116</th>\n",
       "      <td>20</td>\n",
       "      <td>74</td>\n",
       "      <td>11616</td>\n",
       "      <td>5</td>\n",
       "      <td>5</td>\n",
       "      <td>1962</td>\n",
       "      <td>1962</td>\n",
       "      <td>116.0</td>\n",
       "      <td>170.0</td>\n",
       "      <td>0.0</td>\n",
       "      <td>...</td>\n",
       "      <td>0</td>\n",
       "      <td>0</td>\n",
       "      <td>0</td>\n",
       "      <td>0</td>\n",
       "      <td>1</td>\n",
       "      <td>0</td>\n",
       "      <td>0</td>\n",
       "      <td>0</td>\n",
       "      <td>1</td>\n",
       "      <td>0</td>\n",
       "    </tr>\n",
       "  </tbody>\n",
       "</table>\n",
       "<p>438 rows × 355 columns</p>\n",
       "</div>"
      ],
      "text/plain": [
       "      MSSubClass  LotFrontage  LotArea  OverallQual  OverallCond  YearBuilt  \\\n",
       "503           20          100    15602            7            8       1959   \n",
       "101           60           77     9206            6            5       1985   \n",
       "608           70           78    12168            8            6       1934   \n",
       "1089         120           37     3316            8            5       2005   \n",
       "819          120           44     6371            7            5       2009   \n",
       "...          ...          ...      ...          ...          ...        ...   \n",
       "1384          50           60     9060            6            5       1939   \n",
       "557           50           60    11040            4            6       1920   \n",
       "391           60           71    12209            6            5       2001   \n",
       "1254          60           60     6931            7            5       2003   \n",
       "116           20           74    11616            5            5       1962   \n",
       "\n",
       "      YearRemodAdd  MasVnrArea  BsmtFinSF1  BsmtFinSF2  ...  SaleType_ConLI  \\\n",
       "503           1997         0.0      1247.0         0.0  ...               0   \n",
       "101           1985       336.0         0.0         0.0  ...               0   \n",
       "608           1998         0.0       428.0         0.0  ...               0   \n",
       "1089          2005         0.0      1039.0         0.0  ...               0   \n",
       "819           2010       128.0       733.0         0.0  ...               0   \n",
       "...            ...         ...         ...         ...  ...             ...   \n",
       "1384          1950         0.0       204.0         0.0  ...               0   \n",
       "557           1950         0.0       637.0         0.0  ...               0   \n",
       "391           2002         0.0       690.0         0.0  ...               0   \n",
       "1254          2004        92.0         0.0         0.0  ...               0   \n",
       "116           1962       116.0       170.0         0.0  ...               0   \n",
       "\n",
       "      SaleType_ConLw  SaleType_New  SaleType_Oth  SaleType_WD  \\\n",
       "503                0             0             0            1   \n",
       "101                0             0             0            1   \n",
       "608                0             0             0            1   \n",
       "1089               0             0             0            1   \n",
       "819                0             1             0            0   \n",
       "...              ...           ...           ...          ...   \n",
       "1384               0             0             0            1   \n",
       "557                0             0             0            0   \n",
       "391                0             0             0            1   \n",
       "1254               0             0             0            1   \n",
       "116                0             0             0            1   \n",
       "\n",
       "      SaleCondition_AdjLand  SaleCondition_Alloca  SaleCondition_Family  \\\n",
       "503                       0                     0                     0   \n",
       "101                       0                     0                     0   \n",
       "608                       0                     1                     0   \n",
       "1089                      0                     0                     0   \n",
       "819                       0                     0                     0   \n",
       "...                     ...                   ...                   ...   \n",
       "1384                      0                     0                     0   \n",
       "557                       0                     0                     0   \n",
       "391                       0                     0                     0   \n",
       "1254                      0                     0                     0   \n",
       "116                       0                     0                     0   \n",
       "\n",
       "      SaleCondition_Normal  SaleCondition_Partial  \n",
       "503                      1                      0  \n",
       "101                      1                      0  \n",
       "608                      0                      0  \n",
       "1089                     1                      0  \n",
       "819                      0                      1  \n",
       "...                    ...                    ...  \n",
       "1384                     1                      0  \n",
       "557                      1                      0  \n",
       "391                      1                      0  \n",
       "1254                     1                      0  \n",
       "116                      1                      0  \n",
       "\n",
       "[438 rows x 355 columns]"
      ]
     },
     "execution_count": 147,
     "metadata": {},
     "output_type": "execute_result"
    }
   ],
   "source": [
    "X_validate"
   ]
  },
  {
   "cell_type": "code",
   "execution_count": 148,
   "id": "e9475614",
   "metadata": {},
   "outputs": [
    {
     "data": {
      "text/plain": [
       "503     289000\n",
       "101     178000\n",
       "608     359100\n",
       "1089    197000\n",
       "819     224000\n",
       "         ...  \n",
       "1384    105000\n",
       "557     108000\n",
       "391     215000\n",
       "1254    165400\n",
       "116     139000\n",
       "Name: SalePrice, Length: 438, dtype: int64"
      ]
     },
     "execution_count": 148,
     "metadata": {},
     "output_type": "execute_result"
    }
   ],
   "source": [
    "y_validate"
   ]
  },
  {
   "cell_type": "markdown",
   "id": "44d5b1ec",
   "metadata": {},
   "source": [
    "## scaling on dataset"
   ]
  },
  {
   "cell_type": "code",
   "execution_count": 149,
   "id": "586dfb7f",
   "metadata": {},
   "outputs": [],
   "source": [
    "# from sklearn.preprocessing import StandardScaler"
   ]
  },
  {
   "cell_type": "code",
   "execution_count": 150,
   "id": "04384ed3",
   "metadata": {},
   "outputs": [],
   "source": [
    "# scaler = StandardScaler()"
   ]
  },
  {
   "cell_type": "code",
   "execution_count": 151,
   "id": "8093afb0",
   "metadata": {},
   "outputs": [],
   "source": [
    "# y_train = np.array(y_train)\n",
    "# y_train = y_train.reshape(-1,1)"
   ]
  },
  {
   "cell_type": "code",
   "execution_count": 152,
   "id": "aba55462",
   "metadata": {},
   "outputs": [],
   "source": [
    "# y_validate = np.array(y_validate)\n",
    "# y_validate = y_validate.reshape(-1,1)"
   ]
  },
  {
   "cell_type": "code",
   "execution_count": 153,
   "id": "d11035dc",
   "metadata": {},
   "outputs": [],
   "source": [
    "# X_train_scaled = scaler.fit_transform(X_train)\n",
    "# X_val_scaled = scaler.transform(X_validate)\n",
    "# y_train_scaled = scaler.fit_transform(y_train)\n",
    "# y_val_scaled = scaler.transform(y_validate)"
   ]
  },
  {
   "cell_type": "code",
   "execution_count": null,
   "id": "0f110c50",
   "metadata": {},
   "outputs": [],
   "source": []
  },
  {
   "cell_type": "code",
   "execution_count": null,
   "id": "8e4589cb",
   "metadata": {},
   "outputs": [],
   "source": []
  },
  {
   "cell_type": "code",
   "execution_count": null,
   "id": "2c9ffa0b",
   "metadata": {},
   "outputs": [],
   "source": []
  },
  {
   "cell_type": "code",
   "execution_count": 154,
   "id": "789d2c33",
   "metadata": {},
   "outputs": [],
   "source": [
    "from sklearn.linear_model import LinearRegression"
   ]
  },
  {
   "cell_type": "code",
   "execution_count": 155,
   "id": "e3cc8dd8",
   "metadata": {},
   "outputs": [],
   "source": [
    "sale_lr = LinearRegression()"
   ]
  },
  {
   "cell_type": "code",
   "execution_count": 156,
   "id": "410bb213",
   "metadata": {},
   "outputs": [
    {
     "data": {
      "text/html": [
       "<style>#sk-container-id-1 {color: black;background-color: white;}#sk-container-id-1 pre{padding: 0;}#sk-container-id-1 div.sk-toggleable {background-color: white;}#sk-container-id-1 label.sk-toggleable__label {cursor: pointer;display: block;width: 100%;margin-bottom: 0;padding: 0.3em;box-sizing: border-box;text-align: center;}#sk-container-id-1 label.sk-toggleable__label-arrow:before {content: \"▸\";float: left;margin-right: 0.25em;color: #696969;}#sk-container-id-1 label.sk-toggleable__label-arrow:hover:before {color: black;}#sk-container-id-1 div.sk-estimator:hover label.sk-toggleable__label-arrow:before {color: black;}#sk-container-id-1 div.sk-toggleable__content {max-height: 0;max-width: 0;overflow: hidden;text-align: left;background-color: #f0f8ff;}#sk-container-id-1 div.sk-toggleable__content pre {margin: 0.2em;color: black;border-radius: 0.25em;background-color: #f0f8ff;}#sk-container-id-1 input.sk-toggleable__control:checked~div.sk-toggleable__content {max-height: 200px;max-width: 100%;overflow: auto;}#sk-container-id-1 input.sk-toggleable__control:checked~label.sk-toggleable__label-arrow:before {content: \"▾\";}#sk-container-id-1 div.sk-estimator input.sk-toggleable__control:checked~label.sk-toggleable__label {background-color: #d4ebff;}#sk-container-id-1 div.sk-label input.sk-toggleable__control:checked~label.sk-toggleable__label {background-color: #d4ebff;}#sk-container-id-1 input.sk-hidden--visually {border: 0;clip: rect(1px 1px 1px 1px);clip: rect(1px, 1px, 1px, 1px);height: 1px;margin: -1px;overflow: hidden;padding: 0;position: absolute;width: 1px;}#sk-container-id-1 div.sk-estimator {font-family: monospace;background-color: #f0f8ff;border: 1px dotted black;border-radius: 0.25em;box-sizing: border-box;margin-bottom: 0.5em;}#sk-container-id-1 div.sk-estimator:hover {background-color: #d4ebff;}#sk-container-id-1 div.sk-parallel-item::after {content: \"\";width: 100%;border-bottom: 1px solid gray;flex-grow: 1;}#sk-container-id-1 div.sk-label:hover label.sk-toggleable__label {background-color: #d4ebff;}#sk-container-id-1 div.sk-serial::before {content: \"\";position: absolute;border-left: 1px solid gray;box-sizing: border-box;top: 0;bottom: 0;left: 50%;z-index: 0;}#sk-container-id-1 div.sk-serial {display: flex;flex-direction: column;align-items: center;background-color: white;padding-right: 0.2em;padding-left: 0.2em;position: relative;}#sk-container-id-1 div.sk-item {position: relative;z-index: 1;}#sk-container-id-1 div.sk-parallel {display: flex;align-items: stretch;justify-content: center;background-color: white;position: relative;}#sk-container-id-1 div.sk-item::before, #sk-container-id-1 div.sk-parallel-item::before {content: \"\";position: absolute;border-left: 1px solid gray;box-sizing: border-box;top: 0;bottom: 0;left: 50%;z-index: -1;}#sk-container-id-1 div.sk-parallel-item {display: flex;flex-direction: column;z-index: 1;position: relative;background-color: white;}#sk-container-id-1 div.sk-parallel-item:first-child::after {align-self: flex-end;width: 50%;}#sk-container-id-1 div.sk-parallel-item:last-child::after {align-self: flex-start;width: 50%;}#sk-container-id-1 div.sk-parallel-item:only-child::after {width: 0;}#sk-container-id-1 div.sk-dashed-wrapped {border: 1px dashed gray;margin: 0 0.4em 0.5em 0.4em;box-sizing: border-box;padding-bottom: 0.4em;background-color: white;}#sk-container-id-1 div.sk-label label {font-family: monospace;font-weight: bold;display: inline-block;line-height: 1.2em;}#sk-container-id-1 div.sk-label-container {text-align: center;}#sk-container-id-1 div.sk-container {/* jupyter's `normalize.less` sets `[hidden] { display: none; }` but bootstrap.min.css set `[hidden] { display: none !important; }` so we also need the `!important` here to be able to override the default hidden behavior on the sphinx rendered scikit-learn.org. See: https://github.com/scikit-learn/scikit-learn/issues/21755 */display: inline-block !important;position: relative;}#sk-container-id-1 div.sk-text-repr-fallback {display: none;}</style><div id=\"sk-container-id-1\" class=\"sk-top-container\"><div class=\"sk-text-repr-fallback\"><pre>LinearRegression()</pre><b>In a Jupyter environment, please rerun this cell to show the HTML representation or trust the notebook. <br />On GitHub, the HTML representation is unable to render, please try loading this page with nbviewer.org.</b></div><div class=\"sk-container\" hidden><div class=\"sk-item\"><div class=\"sk-estimator sk-toggleable\"><input class=\"sk-toggleable__control sk-hidden--visually\" id=\"sk-estimator-id-1\" type=\"checkbox\" checked><label for=\"sk-estimator-id-1\" class=\"sk-toggleable__label sk-toggleable__label-arrow\">LinearRegression</label><div class=\"sk-toggleable__content\"><pre>LinearRegression()</pre></div></div></div></div></div>"
      ],
      "text/plain": [
       "LinearRegression()"
      ]
     },
     "execution_count": 156,
     "metadata": {},
     "output_type": "execute_result"
    }
   ],
   "source": [
    "sale_lr.fit(X_train,y_train)"
   ]
  },
  {
   "cell_type": "code",
   "execution_count": 157,
   "id": "0db6137f",
   "metadata": {},
   "outputs": [],
   "source": [
    "y_pred_val= sale_lr.predict(X_validate)"
   ]
  },
  {
   "cell_type": "code",
   "execution_count": 158,
   "id": "d647294e",
   "metadata": {},
   "outputs": [
    {
     "data": {
      "text/plain": [
       "array([290354.9993724 , 165396.12134619, 329909.65772005, 190270.9698871 ,\n",
       "       248161.68641036, 233765.42978493, 207620.40960638, 193561.45384968,\n",
       "       148295.80522465, 360488.94130867, 200617.794744  , 209806.88613677,\n",
       "       114180.29194695, 160946.81109783,  81562.8565233 , 229565.36232218,\n",
       "       250350.44905221, 306395.82718235, 236031.92908281, 302647.53837834,\n",
       "       369460.2615443 , 160876.66394938, 165805.63775745, 218450.86269264,\n",
       "       453630.32305771, 256980.86435803, 145310.17057225, 246626.1926299 ,\n",
       "       229590.07556663, 429927.02539357, 339610.57035804, 161360.24989307,\n",
       "       315328.72224612, 123646.79516578, 173035.00730533, 199617.07783137,\n",
       "       155005.51317355, 316026.84091798, 340368.66513506, 371096.01497705,\n",
       "       136356.95279786, 210782.27647803, 137677.25749866,  91494.07500908,\n",
       "        97946.47189075, 250797.00988721,  41388.35548427, 163142.72649287,\n",
       "       102170.83849546, 128717.78582229, 146436.42494838,  97369.42985497,\n",
       "       225148.6774275 , 132160.28083299, 117863.17897032, 305501.67008514,\n",
       "       124048.85029989, 295536.30340607, 390671.72484371, 121389.76158172,\n",
       "       130104.5605935 , 112194.80011924, 322522.79803402, 134072.56602821,\n",
       "       364268.14984004, 170009.09389518, 268864.28557492, 110603.18040676,\n",
       "       160191.93701316, 141836.84728939, 206847.96872511,  62711.79704349,\n",
       "        67693.96140952, 124337.01907017, 144424.04474741, 192376.42554872,\n",
       "       169388.96016857, 292810.1815709 , 135088.80036729, 142519.71999063,\n",
       "       312649.29246312, 204732.03378169, 191813.11037768, 222579.68315051,\n",
       "       129699.40115491, 189196.38306867, 205059.51511415, 292882.45599044,\n",
       "       220212.03152028, 129574.34426283, 158071.53853853, 210944.8774929 ,\n",
       "       181346.75591225, 158322.35344412, 191757.90722935, 216141.45027331,\n",
       "       119107.17580497, 138117.54465236, 132001.42456518, 179484.65150927,\n",
       "       134655.48083387, 103757.38557612, 175596.2330744 , 106830.26641428,\n",
       "       140219.2426256 , 145281.95849332, 131355.67896329, 117418.07611261,\n",
       "       158989.17949465, 178794.90637009, 191731.29346501, 166417.38997774,\n",
       "       159287.14026902, 174320.47514833, 373450.92027319, 392280.14873099,\n",
       "       129774.64759347, 270660.3768251 , 130914.14826389, 146670.07964822,\n",
       "       177436.32195972, 280672.48914718, 321646.94683565, 163950.2416143 ,\n",
       "       393303.06162194, 205356.0238431 , 298284.02623405, 151137.20263496,\n",
       "       318256.02706963, 288678.12199207, 384517.04726921, 120917.37986019,\n",
       "       314039.14254569, 133177.65590358, 121120.98295524,  75900.3280335 ,\n",
       "       193775.57122603, 162884.9780077 , 211346.22182643, 214493.70693819,\n",
       "       123256.11460412, 288882.44000546, 114919.06901143, 104910.44920882,\n",
       "        94943.92022299,  71792.04520017, 201717.32823606, 126908.75304477,\n",
       "       192127.35848315, 189997.93281339, 149280.10353675, 331076.14860788,\n",
       "       233160.10357737, 165240.69738107, 451176.09955534, 112668.66186299,\n",
       "        94191.70649171, 113310.08715   , 358343.39507123, 134859.72796778,\n",
       "       240320.1911166 , 197876.1845783 ,  91271.42355207, 107512.21046732,\n",
       "        64815.35287369, 289307.88581665, 146083.96959184, 163013.40313297,\n",
       "       176253.80603242, 132219.5189753 , 129285.1649118 , 165635.85699977,\n",
       "       156126.32118112, 173856.08624295, 170818.95682104, 196914.91550523,\n",
       "       139676.78870469, 172946.48071089, 152378.99206861, 143451.01824005,\n",
       "       104710.69664437, 168937.66685204, 124929.13630926, 138972.95051066,\n",
       "       239328.57945349, 171610.6809834 , 132431.76469205, 165996.05752286,\n",
       "       112059.82590854, 149290.87851937, 214460.89892919, 110877.25952877,\n",
       "       146802.11319817, 144080.07954205, 148900.56026655, 199605.7023853 ,\n",
       "       112187.45033655, 198056.03816816, 121689.36003242, 182284.00940351,\n",
       "       210426.18437741, 119761.90386626, 508482.38303484, 267182.30149243,\n",
       "       140902.60393314, 128383.28421163, 137553.31055519, 174566.35701057,\n",
       "       135987.79422071, 325752.1871199 , 169187.88100277, 150127.92879301,\n",
       "        83206.49871709, 178807.32129112, 209445.18376546,  94651.34706937,\n",
       "       300080.72231118,  49372.36297741,  60473.79729156, 132755.13532814,\n",
       "       157066.95153173, 298706.23811564, 139714.34849451, 177925.97776262,\n",
       "       231469.28679391, 115388.42048589, 161180.47386755,  75122.94884234,\n",
       "       131885.852077  , 100953.01025804, 123864.71601075, 225260.66520998,\n",
       "       140207.92257187, 134735.75397984, 163879.9176745 , 384545.85975579,\n",
       "       315196.35872992, 142447.90758131, 202104.73703978, 128088.0503755 ,\n",
       "       151794.62119943, 309993.71839313, 318738.67837507, 265742.37003813,\n",
       "       101466.34578315,  89730.02522108,  98712.52052488, 219254.18112117,\n",
       "       179143.65118915, 135089.83382672,  92559.13704413, 151262.87937232,\n",
       "       202692.79137218, 258923.49202172, 118867.98029702, 169428.03243451,\n",
       "       142940.01355142, 133078.37652038, 182736.55175974, 238122.85707376,\n",
       "       167325.40834922, 193064.79810412, 128350.99424992, 186529.21368388,\n",
       "       143536.07301099,  74742.15130636, 188521.44973305,  55729.72497553,\n",
       "       229905.864981  , 137041.03566261, 136173.45638358, 234201.16405241,\n",
       "       121352.41644317, 169682.54376543, 111873.42463214, 258665.72248732,\n",
       "       241996.44467945, 251270.30639537, 118514.93827895, 302342.58581343,\n",
       "       245609.38933651, 283629.46840723, 195123.3966611 ,  69392.03348886,\n",
       "       141027.94451002,  75362.5421708 , 156694.26950267, 132277.39573607,\n",
       "       172103.15404402, 168491.14953922, 120704.96152587, 333671.08906182,\n",
       "       160241.51009353, 149156.20299335, 138374.02218372, 253008.55026269,\n",
       "       118917.88508053, 148229.33364623, 191810.80572908, 887065.20319002,\n",
       "       119486.79706704, 124917.49165926, 165390.83515195, 173333.92370744,\n",
       "       223544.75389985,  84588.43111768, 125082.8363488 , 162333.86091295,\n",
       "       210942.74653108, 175244.36266863, 279208.71260617, 127791.03948937,\n",
       "        94114.4920024 , 146226.95497374,  92872.9245977 , 173947.83451427,\n",
       "       251353.89854206, 134788.31802233, 261574.12105977, 214605.58953353,\n",
       "       182621.64281088,  81235.30752597, 157616.08361088, 599427.28518698,\n",
       "       478368.80703457, 253747.18049668, 243304.71689979, 130803.91816697,\n",
       "       112415.2074343 , 220433.30378297, 321071.35993643, 309515.1414866 ,\n",
       "       221169.87750268, 208221.25318844, 158930.09628705, 246862.31918449,\n",
       "       130416.92945455, 242036.96690689, 134734.03162613, 400325.80446442,\n",
       "       110565.54300735, 130244.91146233, 148139.10359748, 253651.80872356,\n",
       "       101950.77542233, 110909.1895085 , 102700.07934951, 135299.58528841,\n",
       "       134860.91612156, 215405.65105069, 129661.36043482, 142619.40194766,\n",
       "       178677.51929118, 112108.55758815, 105668.06222424, 204056.64344133,\n",
       "       386021.06781316, 143658.20840956, 270857.3412131 , 102486.36917435,\n",
       "       608960.77662192, 111538.27969745, 301511.77873508, 161315.45702935,\n",
       "       209440.13289756, 168870.4908989 , 146143.02469401, 105497.19410955,\n",
       "       136490.42100303,  76796.95186752, 115611.86721853, 330369.17667757,\n",
       "        94476.35692771, 269572.79934398,  91728.20538325, 252161.37041836,\n",
       "       168224.86970142, 320412.65656135, 169460.66309042, 209864.57829204,\n",
       "       273363.80154655, 206788.65385441, 124566.9979227 , 126409.59745632,\n",
       "       133479.25598523, 276662.52540668,  97998.66006349, 195145.85195387,\n",
       "        97756.39936751, 194463.981994  , 120402.0695012 , 143385.56504693,\n",
       "       267559.4972257 ,  93638.80594569, 241519.5754845 , 216676.18119196,\n",
       "       107136.4757666 , 141543.57515275, 175417.63172775, 263043.55184328,\n",
       "       113195.13651691, 121384.7831654 , 121952.55819521,  75724.32908824,\n",
       "       170117.91415409, 171954.2275969 , 162609.98458996, 159790.16270016,\n",
       "       210646.58241701, 136076.99011026, 189878.48276921, 242475.27664076,\n",
       "       161616.40798326, 182912.72411605, 246066.15813854,  85005.40284311,\n",
       "       277371.67050953, 170216.41871647, 148103.01051262, 216777.59952016,\n",
       "       249742.29400203, 125370.02031856, 270022.15257481, 198821.28180913,\n",
       "       233300.02330731, 281995.27968678,  97900.87682866, 118221.29928744,\n",
       "       175751.64581409, 191574.03344364, 185871.60122491, 210985.74364987,\n",
       "       173966.37301641, 136461.98989671,  62567.26093007, 244631.51237261,\n",
       "       189819.2521034 , 140943.22291678])"
      ]
     },
     "execution_count": 158,
     "metadata": {},
     "output_type": "execute_result"
    }
   ],
   "source": [
    "y_pred_val"
   ]
  },
  {
   "cell_type": "code",
   "execution_count": 159,
   "id": "2fc92d44",
   "metadata": {},
   "outputs": [],
   "source": [
    "from sklearn.metrics import r2_score,mean_squared_error"
   ]
  },
  {
   "cell_type": "code",
   "execution_count": 160,
   "id": "c8e2a8cc",
   "metadata": {},
   "outputs": [],
   "source": [
    "score = r2_score(y_validate,y_pred_val)"
   ]
  },
  {
   "cell_type": "code",
   "execution_count": 161,
   "id": "82892977",
   "metadata": {},
   "outputs": [
    {
     "data": {
      "text/plain": [
       "0.572195203549596"
      ]
     },
     "execution_count": 161,
     "metadata": {},
     "output_type": "execute_result"
    }
   ],
   "source": [
    "score"
   ]
  },
  {
   "cell_type": "code",
   "execution_count": 162,
   "id": "00bb09ba",
   "metadata": {},
   "outputs": [
    {
     "data": {
      "text/plain": [
       "52626.09583491912"
      ]
     },
     "execution_count": 162,
     "metadata": {},
     "output_type": "execute_result"
    }
   ],
   "source": [
    "rmse = np.sqrt(mean_squared_error(y_validate,y_pred_val))\n",
    "rmse"
   ]
  },
  {
   "cell_type": "code",
   "execution_count": 163,
   "id": "308e9a85",
   "metadata": {
    "scrolled": true
   },
   "outputs": [
    {
     "data": {
      "text/plain": [
       "array([ 7.33398678e+01,  3.72633783e+01,  9.31221865e-01,  6.28401025e+03,\n",
       "        4.66853543e+03,  3.39662221e+02,  1.55790369e+02,  1.16496024e+01,\n",
       "        1.69877336e+00, -2.07518826e-06, -2.50718565e+01,  4.45528541e+01,\n",
       "        2.22662730e+01,  4.24374782e+01, -4.87800207e-07,  3.10589401e+01,\n",
       "       -5.44775521e+02,  2.10220124e+01,  2.35747672e+03, -4.26355388e+03,\n",
       "       -5.12287198e+03, -1.07100200e+04,  1.66083355e+03,  5.27542311e+03,\n",
       "        7.95660716e+03,  2.61907834e+00,  2.05308799e+01,  1.37415875e+01,\n",
       "        3.19283207e+01,  3.06972826e+01,  4.98068146e+01,  3.75121050e+02,\n",
       "        3.77489270e-01, -3.22632695e+02, -5.85240533e+02,  4.26285260e+04,\n",
       "        2.33406379e+04,  3.10363349e+04,  1.86850137e+04,  2.12550898e+03,\n",
       "        5.31314608e+03, -3.89181412e+03, -1.86688440e+03, -1.11787978e+04,\n",
       "        9.01376733e+02, -3.27334747e+03, -1.71844009e+04, -2.43976134e+03,\n",
       "       -1.14303231e+04,  1.37157591e+04, -1.01074171e+04, -3.66660142e+03,\n",
       "       -1.41995019e+03,  5.31641558e+03, -5.27301951e+04,  3.30081695e+04,\n",
       "        2.10961400e+04,  6.84365094e+03, -1.33834604e+04, -4.66805784e+03,\n",
       "        1.67849299e+04, -6.43866534e+03, -3.76524493e+03,  2.08687792e+03,\n",
       "        1.82602148e+04, -8.05845860e+03, -2.95146182e+02,  1.52989793e+04,\n",
       "       -6.81262719e+03,  2.81994809e+04,  1.86112799e+04,  4.52209413e+03,\n",
       "       -4.23282184e+03,  3.35366995e+03,  1.93935369e+03,  1.44913659e+03,\n",
       "        2.52842716e+04, -1.56670510e+03,  2.53295495e+03,  1.16760153e+04,\n",
       "        1.75913910e+04,  2.40853672e+04,  1.56889916e+04, -1.46493809e+04,\n",
       "        1.13885101e+04,  4.48881036e+02,  1.17130037e+04,  1.09140432e+04,\n",
       "        1.39824876e+04,  7.06776626e+04,  1.65726988e-10, -1.09640271e+05,\n",
       "       -1.68153680e+03,  4.09403826e+04, -1.35686436e+04, -1.73070822e+04,\n",
       "       -2.53456711e+04, -1.94045817e+04,  1.67913772e+04,  9.69906014e+03,\n",
       "       -3.54440399e+04, -2.57012781e+04, -5.36827970e+03, -2.98211902e+03,\n",
       "       -2.48384526e+03, -8.64901358e+03,  1.64178169e+03, -6.60405141e+03,\n",
       "       -2.77724007e+03,  9.05371237e+04, -1.00618882e+04,  6.66166956e+04,\n",
       "        4.34590933e+04, -4.86505046e+04, -3.34691280e+04, -2.62874166e+04,\n",
       "        8.39314856e+03, -2.67413989e+04,  2.45684725e+03,  6.12149933e+03,\n",
       "        6.91215973e-11, -7.80372009e+03, -9.70440529e+03,  2.03726813e-10,\n",
       "       -1.98811769e+04, -8.70238526e+03, -1.86289346e+04, -1.07823584e+04,\n",
       "       -8.88815219e+03, -1.37277867e+04, -1.67486882e+03,  1.63132195e+03,\n",
       "       -5.60779423e+03, -1.55426852e+04,  9.00399755e-11, -9.39913792e+03,\n",
       "       -6.40283250e+03, -1.45811847e+03,  4.93091008e+03, -2.53456723e+04,\n",
       "       -8.27333442e+03, -9.75828995e+03,  1.40981362e+04, -3.41981517e+03,\n",
       "       -2.06213351e+03, -8.86137513e+03,  7.42562361e+03,  9.88371533e+03,\n",
       "        9.64496427e+03, -1.32946847e+04, -2.34364568e+04, -2.69273135e+04,\n",
       "       -2.06788246e+04, -2.03048716e+04, -1.16418350e+04, -1.80521314e+04,\n",
       "        2.56384236e+03,  6.13946114e+03, -3.71122407e+03, -1.52655375e+03,\n",
       "       -1.16164425e+04, -9.33674252e+02, -1.10558736e+04,  2.24722010e+03,\n",
       "       -9.46203965e+03, -4.17655911e+02,  2.24722010e+03,  8.06513941e+04,\n",
       "        3.22320261e+03,  2.13980617e+04, -4.34396768e+03, -5.76060101e+03,\n",
       "        2.24722010e+03,  1.02119104e+03,  2.94750496e+03, -4.56943149e+03,\n",
       "        2.24722010e+03, -1.88762200e+03,  4.58892436e+03,  1.00961199e+03,\n",
       "        6.59459475e+02, -5.14932624e+03,  2.24722010e+03, -5.44184119e+03,\n",
       "        4.75226144e+03, -8.65977804e+03, -9.39440355e+03, -6.70648448e+03,\n",
       "       -2.81273866e+04, -7.00252209e+03, -1.18365327e+03, -4.33593591e+03,\n",
       "        5.74199582e+03, -3.05843328e+03,  2.57404384e+03,  4.12064569e+03,\n",
       "        1.46255152e+04, -5.45696821e-11,  1.39206175e+03, -5.98015159e+03,\n",
       "       -1.61800712e+04, -1.13625575e+04,  2.80419133e+03,  1.73590708e+04,\n",
       "        2.34144501e+04, -1.35415969e+03, -2.77148345e+04,  2.96626799e+04,\n",
       "       -9.22018289e+03, -2.55886858e+03,  2.80439461e+03,  3.76861041e+03,\n",
       "       -4.55533187e+03,  3.62496813e+04,  4.09343132e+04,  3.93616932e+04,\n",
       "        3.52297399e+04,  4.08415830e+04,  1.41091027e+04,  6.91215973e-11,\n",
       "        2.54658516e-11, -1.45487832e+04, -5.25423640e+02, -1.56702637e+04,\n",
       "       -7.47774976e+03,  7.27595761e-12, -9.43893736e+02,  1.78041797e+04,\n",
       "        1.19950653e+04,  1.35155807e+04, -3.89154126e+03,  9.34665091e+03,\n",
       "        1.19594500e+03,  2.46572988e+04,  8.01866240e+03, -6.17059799e+03,\n",
       "       -3.70064038e+03, -3.17504415e+03,  2.59993473e+04, -1.45519152e-11,\n",
       "        1.37811422e+03, -5.84532344e+03,  2.10202949e+04,  1.28960954e+04,\n",
       "        3.63797881e-12,  1.77750948e+04,  1.24572118e+04,  1.91251529e+03,\n",
       "        1.89478099e+03, -7.45642666e+03, -6.76229685e+03,  1.33632078e+03,\n",
       "        1.59523984e+04,  7.89940680e+03,  2.96840569e+03,  6.19694763e+03,\n",
       "       -5.94272907e+04, -1.41953061e+04,  3.56862348e+03, -1.52539150e+04,\n",
       "        4.88942841e+03, -4.51126521e+03,  2.91174276e+02, -4.28870637e+03,\n",
       "       -3.28841393e+03, -6.03594468e+03,  5.68612741e+03, -1.46769231e+04,\n",
       "       -6.81109198e+03, -7.63767733e+03,  3.04052345e+03,  5.46939572e+03,\n",
       "        5.09502659e+03, -5.61515824e+03, -5.34655337e+03,  6.95942089e+01,\n",
       "        4.16772811e+03, -6.54140070e+03,  3.07056233e+03,  7.84770100e+02,\n",
       "        4.00266639e+02, -8.55620661e+03,  7.36217943e+02, -3.69600007e+03,\n",
       "        3.33660272e+03,  3.71462468e+03, -8.42021997e+03,  4.93457169e+03,\n",
       "       -1.69666610e+04, -5.45171255e+03, -8.24355013e+03, -3.50664152e+00,\n",
       "       -4.46643376e+03,  1.49202856e+03, -1.88246113e+04, -3.11356504e+03,\n",
       "       -1.93846070e+04, -6.90721906e+03, -5.78076369e+03,  1.57353240e+04,\n",
       "       -1.32395341e+04,  1.65467822e+03, -7.95856905e+03, -1.07744533e+03,\n",
       "       -2.43366964e+03,  2.91548911e+03, -2.51398109e+03, -5.44285930e+02,\n",
       "        4.50384897e+03, -2.52854646e+03,  8.10142687e+03, -1.03925699e+04,\n",
       "        1.98842722e+04,  2.25963993e+04,  2.38331656e+04,  1.41091027e+04,\n",
       "        1.41091027e+04, -2.27647297e+03, -2.52334273e+02,  4.58159979e+03,\n",
       "        1.24743138e+04,  1.41091027e+04,  2.60574084e+03,  1.46298018e+04,\n",
       "        8.16678992e+03,  1.36194030e+04,  1.41091027e+04,  2.79967866e+03,\n",
       "        9.70558469e+03, -6.07481531e+02, -2.76351565e+03,  0.00000000e+00,\n",
       "       -1.82136111e+05, -6.89231253e+03,  3.79450736e+03,  3.74604016e+03,\n",
       "       -1.01890787e+04,  2.65318833e+03,  9.62204156e+03,  1.21903577e+04,\n",
       "        1.51220099e+04,  0.00000000e+00,  1.93607682e+04,  2.05277663e+04,\n",
       "        3.66464858e+03,  9.17336392e+03,  1.30866715e+04,  2.72904600e+04,\n",
       "        3.93966887e+03,  6.88547942e+03, -9.56873911e+03,  2.16593142e+03,\n",
       "       -1.01797170e+04,  2.11485954e+03, -8.34921075e+03])"
      ]
     },
     "execution_count": 163,
     "metadata": {},
     "output_type": "execute_result"
    }
   ],
   "source": [
    "# coefficient\n",
    "sale_lr.coef_"
   ]
  },
  {
   "cell_type": "code",
   "execution_count": 164,
   "id": "719396fb",
   "metadata": {},
   "outputs": [
    {
     "data": {
      "text/plain": [
       "83336.05842198609"
      ]
     },
     "execution_count": 164,
     "metadata": {},
     "output_type": "execute_result"
    }
   ],
   "source": [
    "# intercept\n",
    "sale_lr.intercept_"
   ]
  },
  {
   "cell_type": "markdown",
   "id": "5d9d8491",
   "metadata": {},
   "source": [
    "### Assumptions"
   ]
  },
  {
   "cell_type": "code",
   "execution_count": 165,
   "id": "339ff833",
   "metadata": {},
   "outputs": [],
   "source": [
    "y_pred_train = sale_lr.predict(X_train)"
   ]
  },
  {
   "cell_type": "code",
   "execution_count": 166,
   "id": "2b71a4d5",
   "metadata": {},
   "outputs": [],
   "source": [
    "residual = y_train - y_pred_train"
   ]
  },
  {
   "cell_type": "code",
   "execution_count": 167,
   "id": "16225d9c",
   "metadata": {},
   "outputs": [
    {
     "data": {
      "image/png": "[encoded data removed]",
      "text/plain": [
       "<Figure size 432x288 with 1 Axes>"
      ]
     },
     "metadata": {
      "needs_background": "light"
     },
     "output_type": "display_data"
    }
   ],
   "source": [
    "sns.distplot(residual)\n",
    "plt.show()"
   ]
  },
  {
   "cell_type": "markdown",
   "id": "3874ddfe",
   "metadata": {},
   "source": [
    "### residual error is normally distributed"
   ]
  },
  {
   "cell_type": "code",
   "execution_count": 168,
   "id": "40a69882",
   "metadata": {
    "scrolled": true
   },
   "outputs": [
    {
     "data": {
      "image/png": "[encoded data removed]",
      "text/plain": [
       "<Figure size 432x288 with 1 Axes>"
      ]
     },
     "metadata": {
      "needs_background": "light"
     },
     "output_type": "display_data"
    }
   ],
   "source": [
    "sns.scatterplot(x=residual.squeeze(),y=y_pred_train.squeeze())\n",
    "plt.xlabel('residual')\n",
    "plt.show()"
   ]
  },
  {
   "cell_type": "markdown",
   "id": "e670bc56",
   "metadata": {},
   "source": [
    "## errors are independant of each other"
   ]
  },
  {
   "cell_type": "markdown",
   "id": "60bd11dd",
   "metadata": {},
   "source": [
    "# overfit/underfit"
   ]
  },
  {
   "cell_type": "code",
   "execution_count": 169,
   "id": "68e4ebed",
   "metadata": {},
   "outputs": [
    {
     "name": "stdout",
     "output_type": "stream",
     "text": [
      "0.9536150656849577 0.572195203549596\n"
     ]
    }
   ],
   "source": [
    "y_pred_train = sale_lr.predict(X_train)\n",
    "\n",
    "score_train =r2_score(y_train , y_pred_train) \n",
    "score_val = r2_score(y_validate , y_pred_val)\n",
    "\n",
    "print(score_train,score_val)"
   ]
  },
  {
   "cell_type": "code",
   "execution_count": 170,
   "id": "88e9f6c0",
   "metadata": {},
   "outputs": [
    {
     "data": {
      "text/plain": [
       "array([290354.9993724 , 165396.12134619, 329909.65772005, 190270.9698871 ,\n",
       "       248161.68641036, 233765.42978493, 207620.40960638, 193561.45384968,\n",
       "       148295.80522465, 360488.94130867, 200617.794744  , 209806.88613677,\n",
       "       114180.29194695, 160946.81109783,  81562.8565233 , 229565.36232218,\n",
       "       250350.44905221, 306395.82718235, 236031.92908281, 302647.53837834,\n",
       "       369460.2615443 , 160876.66394938, 165805.63775745, 218450.86269264,\n",
       "       453630.32305771, 256980.86435803, 145310.17057225, 246626.1926299 ,\n",
       "       229590.07556663, 429927.02539357, 339610.57035804, 161360.24989307,\n",
       "       315328.72224612, 123646.79516578, 173035.00730533, 199617.07783137,\n",
       "       155005.51317355, 316026.84091798, 340368.66513506, 371096.01497705,\n",
       "       136356.95279786, 210782.27647803, 137677.25749866,  91494.07500908,\n",
       "        97946.47189075, 250797.00988721,  41388.35548427, 163142.72649287,\n",
       "       102170.83849546, 128717.78582229, 146436.42494838,  97369.42985497,\n",
       "       225148.6774275 , 132160.28083299, 117863.17897032, 305501.67008514,\n",
       "       124048.85029989, 295536.30340607, 390671.72484371, 121389.76158172,\n",
       "       130104.5605935 , 112194.80011924, 322522.79803402, 134072.56602821,\n",
       "       364268.14984004, 170009.09389518, 268864.28557492, 110603.18040676,\n",
       "       160191.93701316, 141836.84728939, 206847.96872511,  62711.79704349,\n",
       "        67693.96140952, 124337.01907017, 144424.04474741, 192376.42554872,\n",
       "       169388.96016857, 292810.1815709 , 135088.80036729, 142519.71999063,\n",
       "       312649.29246312, 204732.03378169, 191813.11037768, 222579.68315051,\n",
       "       129699.40115491, 189196.38306867, 205059.51511415, 292882.45599044,\n",
       "       220212.03152028, 129574.34426283, 158071.53853853, 210944.8774929 ,\n",
       "       181346.75591225, 158322.35344412, 191757.90722935, 216141.45027331,\n",
       "       119107.17580497, 138117.54465236, 132001.42456518, 179484.65150927,\n",
       "       134655.48083387, 103757.38557612, 175596.2330744 , 106830.26641428,\n",
       "       140219.2426256 , 145281.95849332, 131355.67896329, 117418.07611261,\n",
       "       158989.17949465, 178794.90637009, 191731.29346501, 166417.38997774,\n",
       "       159287.14026902, 174320.47514833, 373450.92027319, 392280.14873099,\n",
       "       129774.64759347, 270660.3768251 , 130914.14826389, 146670.07964822,\n",
       "       177436.32195972, 280672.48914718, 321646.94683565, 163950.2416143 ,\n",
       "       393303.06162194, 205356.0238431 , 298284.02623405, 151137.20263496,\n",
       "       318256.02706963, 288678.12199207, 384517.04726921, 120917.37986019,\n",
       "       314039.14254569, 133177.65590358, 121120.98295524,  75900.3280335 ,\n",
       "       193775.57122603, 162884.9780077 , 211346.22182643, 214493.70693819,\n",
       "       123256.11460412, 288882.44000546, 114919.06901143, 104910.44920882,\n",
       "        94943.92022299,  71792.04520017, 201717.32823606, 126908.75304477,\n",
       "       192127.35848315, 189997.93281339, 149280.10353675, 331076.14860788,\n",
       "       233160.10357737, 165240.69738107, 451176.09955534, 112668.66186299,\n",
       "        94191.70649171, 113310.08715   , 358343.39507123, 134859.72796778,\n",
       "       240320.1911166 , 197876.1845783 ,  91271.42355207, 107512.21046732,\n",
       "        64815.35287369, 289307.88581665, 146083.96959184, 163013.40313297,\n",
       "       176253.80603242, 132219.5189753 , 129285.1649118 , 165635.85699977,\n",
       "       156126.32118112, 173856.08624295, 170818.95682104, 196914.91550523,\n",
       "       139676.78870469, 172946.48071089, 152378.99206861, 143451.01824005,\n",
       "       104710.69664437, 168937.66685204, 124929.13630926, 138972.95051066,\n",
       "       239328.57945349, 171610.6809834 , 132431.76469205, 165996.05752286,\n",
       "       112059.82590854, 149290.87851937, 214460.89892919, 110877.25952877,\n",
       "       146802.11319817, 144080.07954205, 148900.56026655, 199605.7023853 ,\n",
       "       112187.45033655, 198056.03816816, 121689.36003242, 182284.00940351,\n",
       "       210426.18437741, 119761.90386626, 508482.38303484, 267182.30149243,\n",
       "       140902.60393314, 128383.28421163, 137553.31055519, 174566.35701057,\n",
       "       135987.79422071, 325752.1871199 , 169187.88100277, 150127.92879301,\n",
       "        83206.49871709, 178807.32129112, 209445.18376546,  94651.34706937,\n",
       "       300080.72231118,  49372.36297741,  60473.79729156, 132755.13532814,\n",
       "       157066.95153173, 298706.23811564, 139714.34849451, 177925.97776262,\n",
       "       231469.28679391, 115388.42048589, 161180.47386755,  75122.94884234,\n",
       "       131885.852077  , 100953.01025804, 123864.71601075, 225260.66520998,\n",
       "       140207.92257187, 134735.75397984, 163879.9176745 , 384545.85975579,\n",
       "       315196.35872992, 142447.90758131, 202104.73703978, 128088.0503755 ,\n",
       "       151794.62119943, 309993.71839313, 318738.67837507, 265742.37003813,\n",
       "       101466.34578315,  89730.02522108,  98712.52052488, 219254.18112117,\n",
       "       179143.65118915, 135089.83382672,  92559.13704413, 151262.87937232,\n",
       "       202692.79137218, 258923.49202172, 118867.98029702, 169428.03243451,\n",
       "       142940.01355142, 133078.37652038, 182736.55175974, 238122.85707376,\n",
       "       167325.40834922, 193064.79810412, 128350.99424992, 186529.21368388,\n",
       "       143536.07301099,  74742.15130636, 188521.44973305,  55729.72497553,\n",
       "       229905.864981  , 137041.03566261, 136173.45638358, 234201.16405241,\n",
       "       121352.41644317, 169682.54376543, 111873.42463214, 258665.72248732,\n",
       "       241996.44467945, 251270.30639537, 118514.93827895, 302342.58581343,\n",
       "       245609.38933651, 283629.46840723, 195123.3966611 ,  69392.03348886,\n",
       "       141027.94451002,  75362.5421708 , 156694.26950267, 132277.39573607,\n",
       "       172103.15404402, 168491.14953922, 120704.96152587, 333671.08906182,\n",
       "       160241.51009353, 149156.20299335, 138374.02218372, 253008.55026269,\n",
       "       118917.88508053, 148229.33364623, 191810.80572908, 887065.20319002,\n",
       "       119486.79706704, 124917.49165926, 165390.83515195, 173333.92370744,\n",
       "       223544.75389985,  84588.43111768, 125082.8363488 , 162333.86091295,\n",
       "       210942.74653108, 175244.36266863, 279208.71260617, 127791.03948937,\n",
       "        94114.4920024 , 146226.95497374,  92872.9245977 , 173947.83451427,\n",
       "       251353.89854206, 134788.31802233, 261574.12105977, 214605.58953353,\n",
       "       182621.64281088,  81235.30752597, 157616.08361088, 599427.28518698,\n",
       "       478368.80703457, 253747.18049668, 243304.71689979, 130803.91816697,\n",
       "       112415.2074343 , 220433.30378297, 321071.35993643, 309515.1414866 ,\n",
       "       221169.87750268, 208221.25318844, 158930.09628705, 246862.31918449,\n",
       "       130416.92945455, 242036.96690689, 134734.03162613, 400325.80446442,\n",
       "       110565.54300735, 130244.91146233, 148139.10359748, 253651.80872356,\n",
       "       101950.77542233, 110909.1895085 , 102700.07934951, 135299.58528841,\n",
       "       134860.91612156, 215405.65105069, 129661.36043482, 142619.40194766,\n",
       "       178677.51929118, 112108.55758815, 105668.06222424, 204056.64344133,\n",
       "       386021.06781316, 143658.20840956, 270857.3412131 , 102486.36917435,\n",
       "       608960.77662192, 111538.27969745, 301511.77873508, 161315.45702935,\n",
       "       209440.13289756, 168870.4908989 , 146143.02469401, 105497.19410955,\n",
       "       136490.42100303,  76796.95186752, 115611.86721853, 330369.17667757,\n",
       "        94476.35692771, 269572.79934398,  91728.20538325, 252161.37041836,\n",
       "       168224.86970142, 320412.65656135, 169460.66309042, 209864.57829204,\n",
       "       273363.80154655, 206788.65385441, 124566.9979227 , 126409.59745632,\n",
       "       133479.25598523, 276662.52540668,  97998.66006349, 195145.85195387,\n",
       "        97756.39936751, 194463.981994  , 120402.0695012 , 143385.56504693,\n",
       "       267559.4972257 ,  93638.80594569, 241519.5754845 , 216676.18119196,\n",
       "       107136.4757666 , 141543.57515275, 175417.63172775, 263043.55184328,\n",
       "       113195.13651691, 121384.7831654 , 121952.55819521,  75724.32908824,\n",
       "       170117.91415409, 171954.2275969 , 162609.98458996, 159790.16270016,\n",
       "       210646.58241701, 136076.99011026, 189878.48276921, 242475.27664076,\n",
       "       161616.40798326, 182912.72411605, 246066.15813854,  85005.40284311,\n",
       "       277371.67050953, 170216.41871647, 148103.01051262, 216777.59952016,\n",
       "       249742.29400203, 125370.02031856, 270022.15257481, 198821.28180913,\n",
       "       233300.02330731, 281995.27968678,  97900.87682866, 118221.29928744,\n",
       "       175751.64581409, 191574.03344364, 185871.60122491, 210985.74364987,\n",
       "       173966.37301641, 136461.98989671,  62567.26093007, 244631.51237261,\n",
       "       189819.2521034 , 140943.22291678])"
      ]
     },
     "execution_count": 170,
     "metadata": {},
     "output_type": "execute_result"
    }
   ],
   "source": [
    "y_pred_val = sale_lr.predict(X_validate)\n",
    "y_pred_val"
   ]
  },
  {
   "cell_type": "code",
   "execution_count": 171,
   "id": "432e4bdd",
   "metadata": {},
   "outputs": [
    {
     "data": {
      "text/plain": [
       "503     289000\n",
       "101     178000\n",
       "608     359100\n",
       "1089    197000\n",
       "819     224000\n",
       "         ...  \n",
       "1384    105000\n",
       "557     108000\n",
       "391     215000\n",
       "1254    165400\n",
       "116     139000\n",
       "Name: SalePrice, Length: 438, dtype: int64"
      ]
     },
     "execution_count": 171,
     "metadata": {},
     "output_type": "execute_result"
    }
   ],
   "source": [
    "y_validate"
   ]
  },
  {
   "cell_type": "code",
   "execution_count": 172,
   "id": "d1cbc96c",
   "metadata": {},
   "outputs": [
    {
     "name": "stdout",
     "output_type": "stream",
     "text": [
      "lasso score train : 0.9469806685066458  lasso score test : 0.6000066007694786\n"
     ]
    }
   ],
   "source": [
    "from sklearn.linear_model import Lasso,Ridge\n",
    "\n",
    "lasso = Lasso(alpha = 28)\n",
    "\n",
    "lasso.fit(X_train,y_train)\n",
    "\n",
    "lpred_train = lasso.predict(X_train)\n",
    "\n",
    "lpred_test = lasso.predict(X_validate)\n",
    "\n",
    "l_r2_test = r2_score(y_validate, lpred_test)\n",
    "l_r2_train = r2_score(y_train, lpred_train)\n",
    "\n",
    "print(\"lasso score train : {}  lasso score test : {}\".format(l_r2_train,l_r2_test))"
   ]
  },
  {
   "cell_type": "code",
   "execution_count": null,
   "id": "a1691b29",
   "metadata": {},
   "outputs": [],
   "source": []
  }
 ],
 "metadata": {
  "kernelspec": {
   "display_name": "Python 3",
   "language": "python",
   "name": "python3"
  },
  "language_info": {
   "codemirror_mode": {
    "name": "ipython",
    "version": 3
   },
   "file_extension": ".py",
   "mimetype": "text/x-python",
   "name": "python",
   "nbconvert_exporter": "python",
   "pygments_lexer": "ipython3",
   "version": "3.8.8"
  }
 },
 "nbformat": 4,
 "nbformat_minor": 5
}
